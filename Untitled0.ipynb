{
  "nbformat": 4,
  "nbformat_minor": 0,
  "metadata": {
    "colab": {
      "name": "Untitled0.ipynb",
      "provenance": [],
      "collapsed_sections": [],
      "include_colab_link": true
    },
    "kernelspec": {
      "name": "python3",
      "display_name": "Python 3"
    },
    "language_info": {
      "name": "python"
    }
  },
  "cells": [
    {
      "cell_type": "markdown",
      "metadata": {
        "id": "view-in-github",
        "colab_type": "text"
      },
      "source": [
        "<a href=\"https://colab.research.google.com/github/lochana-vishwajith/ML_Assignment2_IT19140230_IT19111520_IT18014396_IT19152806/blob/main/Untitled0.ipynb\" target=\"_parent\"><img src=\"https://colab.research.google.com/assets/colab-badge.svg\" alt=\"Open In Colab\"/></a>"
      ]
    },
    {
      "cell_type": "markdown",
      "source": [
        ""
      ],
      "metadata": {
        "id": "SftHxo1yn46b"
      }
    },
    {
      "cell_type": "code",
      "source": [
        "from google.colab import drive\n",
        "drive.mount('/content/drive')"
      ],
      "metadata": {
        "id": "fss7WHWM8C-o"
      },
      "execution_count": null,
      "outputs": []
    },
    {
      "cell_type": "markdown",
      "source": [
        "description about the libraries\n",
        "\n",
        "\n",
        "**NumPy**\n",
        "\n",
        "NumPy, which stands for Numerical Python, is a python library that consists of multidimensional array objects and a collection of routines for processing those arrays. Using NumPy, logical and mathematical operations can be performed.\n",
        "\n",
        "**sklearn**\n",
        "\n",
        "Sklearn, which stands for scikit-learn is a python library for machine learning. Sklearn is focuses on machine learning techniques, such as mathematical, statistical, and general-purpose algorithms, which serve as the foundation for many machine learning technologies. The sklearn library includes a number of useful machine learning and statistical modeling methods, such as classification, regression, clustering, and dimensionality reduction.\n"
      ],
      "metadata": {
        "id": "Ih9X7kFjs9TV"
      }
    },
    {
      "cell_type": "code",
      "execution_count": 2,
      "metadata": {
        "id": "9HETDRHd3wMm"
      },
      "outputs": [],
      "source": [
        "#Importing libraries \n",
        "import pandas as pd\n",
        "import numpy  as np\n",
        "from sklearn import linear_model"
      ]
    },
    {
      "cell_type": "markdown",
      "source": [
        "importing the code"
      ],
      "metadata": {
        "id": "m5sr6zO-tD6u"
      }
    },
    {
      "cell_type": "code",
      "source": [
        "carset = pd.read_csv('Vehicle_details.csv')"
      ],
      "metadata": {
        "id": "4VpesQlHmn4B"
      },
      "execution_count": null,
      "outputs": []
    },
    {
      "cell_type": "code",
      "source": [
        "from google.colab import drive\n",
        "drive.mount('/content/drive/')"
      ],
      "metadata": {
        "id": "d_DoiktT5zeY",
        "colab": {
          "base_uri": "https://localhost:8080/"
        },
        "outputId": "d34f00dc-9d23-4d8d-b6cc-b9f8968c783d"
      },
      "execution_count": null,
      "outputs": [
        {
          "output_type": "stream",
          "name": "stdout",
          "text": [
            "Drive already mounted at /content/drive/; to attempt to forcibly remount, call drive.mount(\"/content/drive/\", force_remount=True).\n"
          ]
        }
      ]
    },
    {
      "cell_type": "code",
      "source": [
        "carset = pd.read_csv('drive/MyDrive/ML Assignment/Vehicle_details.csv')"
      ],
      "metadata": {
        "id": "DDjxkshK7O9k"
      },
      "execution_count": null,
      "outputs": []
    },
    {
      "cell_type": "markdown",
      "source": [
        "checking the dataset"
      ],
      "metadata": {
        "id": "aNU9unK0tKKf"
      }
    },
    {
      "cell_type": "code",
      "source": [
        "carset.head()"
      ],
      "metadata": {
        "colab": {
          "base_uri": "https://localhost:8080/",
          "height": 206
        },
        "id": "vjxJAKueoGCe",
        "outputId": "703ea778-c1b7-4c5c-92d0-7d9f546617aa"
      },
      "execution_count": null,
      "outputs": [
        {
          "output_type": "execute_result",
          "data": {
            "text/plain": [
              "        Price   Brand               Model          Edition  Year Condition  \\\n",
              "0  12,900,000   Honda               Vezel          Limited  2017      Used   \n",
              "1  16,250,000  Jaguar                  XF     Fully Loaded  2013      Used   \n",
              "2  17,000,000  Toyota                 CHR  GT New Face 2wd  2020      Used   \n",
              "3  13,000,000  Toyota                 CHR           Toyato  2017      Used   \n",
              "4  33,500,000  Toyota  Land Cruiser Prado            prado  2015      Used   \n",
              "\n",
              "  Transmission       Body    Fuel  Capacity    Mileage  \n",
              "0    Automatic  SUV / 4x4  Hybrid  1,500 cc  37,000 km  \n",
              "1    Automatic     Saloon  Diesel  2,200 cc  42,000 km  \n",
              "2    Automatic  SUV / 4x4  Petrol  1,200 cc  15,000 km  \n",
              "3    Automatic  SUV / 4x4  Petrol  1,200 cc  21,000 km  \n",
              "4    Automatic  SUV / 4x4  Petrol  2,700 cc  57,000 km  "
            ],
            "text/html": [
              "\n",
              "  <div id=\"df-dd046331-9759-4055-82e2-5ab840807b13\">\n",
              "    <div class=\"colab-df-container\">\n",
              "      <div>\n",
              "<style scoped>\n",
              "    .dataframe tbody tr th:only-of-type {\n",
              "        vertical-align: middle;\n",
              "    }\n",
              "\n",
              "    .dataframe tbody tr th {\n",
              "        vertical-align: top;\n",
              "    }\n",
              "\n",
              "    .dataframe thead th {\n",
              "        text-align: right;\n",
              "    }\n",
              "</style>\n",
              "<table border=\"1\" class=\"dataframe\">\n",
              "  <thead>\n",
              "    <tr style=\"text-align: right;\">\n",
              "      <th></th>\n",
              "      <th>Price</th>\n",
              "      <th>Brand</th>\n",
              "      <th>Model</th>\n",
              "      <th>Edition</th>\n",
              "      <th>Year</th>\n",
              "      <th>Condition</th>\n",
              "      <th>Transmission</th>\n",
              "      <th>Body</th>\n",
              "      <th>Fuel</th>\n",
              "      <th>Capacity</th>\n",
              "      <th>Mileage</th>\n",
              "    </tr>\n",
              "  </thead>\n",
              "  <tbody>\n",
              "    <tr>\n",
              "      <th>0</th>\n",
              "      <td>12,900,000</td>\n",
              "      <td>Honda</td>\n",
              "      <td>Vezel</td>\n",
              "      <td>Limited</td>\n",
              "      <td>2017</td>\n",
              "      <td>Used</td>\n",
              "      <td>Automatic</td>\n",
              "      <td>SUV / 4x4</td>\n",
              "      <td>Hybrid</td>\n",
              "      <td>1,500 cc</td>\n",
              "      <td>37,000 km</td>\n",
              "    </tr>\n",
              "    <tr>\n",
              "      <th>1</th>\n",
              "      <td>16,250,000</td>\n",
              "      <td>Jaguar</td>\n",
              "      <td>XF</td>\n",
              "      <td>Fully Loaded</td>\n",
              "      <td>2013</td>\n",
              "      <td>Used</td>\n",
              "      <td>Automatic</td>\n",
              "      <td>Saloon</td>\n",
              "      <td>Diesel</td>\n",
              "      <td>2,200 cc</td>\n",
              "      <td>42,000 km</td>\n",
              "    </tr>\n",
              "    <tr>\n",
              "      <th>2</th>\n",
              "      <td>17,000,000</td>\n",
              "      <td>Toyota</td>\n",
              "      <td>CHR</td>\n",
              "      <td>GT New Face 2wd</td>\n",
              "      <td>2020</td>\n",
              "      <td>Used</td>\n",
              "      <td>Automatic</td>\n",
              "      <td>SUV / 4x4</td>\n",
              "      <td>Petrol</td>\n",
              "      <td>1,200 cc</td>\n",
              "      <td>15,000 km</td>\n",
              "    </tr>\n",
              "    <tr>\n",
              "      <th>3</th>\n",
              "      <td>13,000,000</td>\n",
              "      <td>Toyota</td>\n",
              "      <td>CHR</td>\n",
              "      <td>Toyato</td>\n",
              "      <td>2017</td>\n",
              "      <td>Used</td>\n",
              "      <td>Automatic</td>\n",
              "      <td>SUV / 4x4</td>\n",
              "      <td>Petrol</td>\n",
              "      <td>1,200 cc</td>\n",
              "      <td>21,000 km</td>\n",
              "    </tr>\n",
              "    <tr>\n",
              "      <th>4</th>\n",
              "      <td>33,500,000</td>\n",
              "      <td>Toyota</td>\n",
              "      <td>Land Cruiser Prado</td>\n",
              "      <td>prado</td>\n",
              "      <td>2015</td>\n",
              "      <td>Used</td>\n",
              "      <td>Automatic</td>\n",
              "      <td>SUV / 4x4</td>\n",
              "      <td>Petrol</td>\n",
              "      <td>2,700 cc</td>\n",
              "      <td>57,000 km</td>\n",
              "    </tr>\n",
              "  </tbody>\n",
              "</table>\n",
              "</div>\n",
              "      <button class=\"colab-df-convert\" onclick=\"convertToInteractive('df-dd046331-9759-4055-82e2-5ab840807b13')\"\n",
              "              title=\"Convert this dataframe to an interactive table.\"\n",
              "              style=\"display:none;\">\n",
              "        \n",
              "  <svg xmlns=\"http://www.w3.org/2000/svg\" height=\"24px\"viewBox=\"0 0 24 24\"\n",
              "       width=\"24px\">\n",
              "    <path d=\"M0 0h24v24H0V0z\" fill=\"none\"/>\n",
              "    <path d=\"M18.56 5.44l.94 2.06.94-2.06 2.06-.94-2.06-.94-.94-2.06-.94 2.06-2.06.94zm-11 1L8.5 8.5l.94-2.06 2.06-.94-2.06-.94L8.5 2.5l-.94 2.06-2.06.94zm10 10l.94 2.06.94-2.06 2.06-.94-2.06-.94-.94-2.06-.94 2.06-2.06.94z\"/><path d=\"M17.41 7.96l-1.37-1.37c-.4-.4-.92-.59-1.43-.59-.52 0-1.04.2-1.43.59L10.3 9.45l-7.72 7.72c-.78.78-.78 2.05 0 2.83L4 21.41c.39.39.9.59 1.41.59.51 0 1.02-.2 1.41-.59l7.78-7.78 2.81-2.81c.8-.78.8-2.07 0-2.86zM5.41 20L4 18.59l7.72-7.72 1.47 1.35L5.41 20z\"/>\n",
              "  </svg>\n",
              "      </button>\n",
              "      \n",
              "  <style>\n",
              "    .colab-df-container {\n",
              "      display:flex;\n",
              "      flex-wrap:wrap;\n",
              "      gap: 12px;\n",
              "    }\n",
              "\n",
              "    .colab-df-convert {\n",
              "      background-color: #E8F0FE;\n",
              "      border: none;\n",
              "      border-radius: 50%;\n",
              "      cursor: pointer;\n",
              "      display: none;\n",
              "      fill: #1967D2;\n",
              "      height: 32px;\n",
              "      padding: 0 0 0 0;\n",
              "      width: 32px;\n",
              "    }\n",
              "\n",
              "    .colab-df-convert:hover {\n",
              "      background-color: #E2EBFA;\n",
              "      box-shadow: 0px 1px 2px rgba(60, 64, 67, 0.3), 0px 1px 3px 1px rgba(60, 64, 67, 0.15);\n",
              "      fill: #174EA6;\n",
              "    }\n",
              "\n",
              "    [theme=dark] .colab-df-convert {\n",
              "      background-color: #3B4455;\n",
              "      fill: #D2E3FC;\n",
              "    }\n",
              "\n",
              "    [theme=dark] .colab-df-convert:hover {\n",
              "      background-color: #434B5C;\n",
              "      box-shadow: 0px 1px 3px 1px rgba(0, 0, 0, 0.15);\n",
              "      filter: drop-shadow(0px 1px 2px rgba(0, 0, 0, 0.3));\n",
              "      fill: #FFFFFF;\n",
              "    }\n",
              "  </style>\n",
              "\n",
              "      <script>\n",
              "        const buttonEl =\n",
              "          document.querySelector('#df-dd046331-9759-4055-82e2-5ab840807b13 button.colab-df-convert');\n",
              "        buttonEl.style.display =\n",
              "          google.colab.kernel.accessAllowed ? 'block' : 'none';\n",
              "\n",
              "        async function convertToInteractive(key) {\n",
              "          const element = document.querySelector('#df-dd046331-9759-4055-82e2-5ab840807b13');\n",
              "          const dataTable =\n",
              "            await google.colab.kernel.invokeFunction('convertToInteractive',\n",
              "                                                     [key], {});\n",
              "          if (!dataTable) return;\n",
              "\n",
              "          const docLinkHtml = 'Like what you see? Visit the ' +\n",
              "            '<a target=\"_blank\" href=https://colab.research.google.com/notebooks/data_table.ipynb>data table notebook</a>'\n",
              "            + ' to learn more about interactive tables.';\n",
              "          element.innerHTML = '';\n",
              "          dataTable['output_type'] = 'display_data';\n",
              "          await google.colab.output.renderOutput(dataTable, element);\n",
              "          const docLink = document.createElement('div');\n",
              "          docLink.innerHTML = docLinkHtml;\n",
              "          element.appendChild(docLink);\n",
              "        }\n",
              "      </script>\n",
              "    </div>\n",
              "  </div>\n",
              "  "
            ]
          },
          "metadata": {},
          "execution_count": 10
        }
      ]
    },
    {
      "cell_type": "code",
      "source": [
        "carset.shape"
      ],
      "metadata": {
        "colab": {
          "base_uri": "https://localhost:8080/"
        },
        "id": "681VtIsPnWgg",
        "outputId": "f6316418-3a43-4a50-b2db-5974f63f334a"
      },
      "execution_count": null,
      "outputs": [
        {
          "output_type": "execute_result",
          "data": {
            "text/plain": [
              "(40531, 11)"
            ]
          },
          "metadata": {},
          "execution_count": 11
        }
      ]
    },
    {
      "cell_type": "code",
      "source": [
        "carset.info()"
      ],
      "metadata": {
        "colab": {
          "base_uri": "https://localhost:8080/"
        },
        "id": "Q_8mdxGQoEit",
        "outputId": "28a6e190-ff20-4623-ff69-5c37066888c6"
      },
      "execution_count": null,
      "outputs": [
        {
          "output_type": "stream",
          "name": "stdout",
          "text": [
            "<class 'pandas.core.frame.DataFrame'>\n",
            "RangeIndex: 40531 entries, 0 to 40530\n",
            "Data columns (total 11 columns):\n",
            " #   Column        Non-Null Count  Dtype \n",
            "---  ------        --------------  ----- \n",
            " 0   Price         40531 non-null  object\n",
            " 1   Brand         40531 non-null  object\n",
            " 2   Model         40531 non-null  object\n",
            " 3   Edition       40531 non-null  object\n",
            " 4   Year          40531 non-null  int64 \n",
            " 5   Condition     40531 non-null  object\n",
            " 6   Transmission  40531 non-null  object\n",
            " 7   Body          40531 non-null  object\n",
            " 8   Fuel          40531 non-null  object\n",
            " 9   Capacity      40531 non-null  object\n",
            " 10  Mileage       40531 non-null  object\n",
            "dtypes: int64(1), object(10)\n",
            "memory usage: 3.4+ MB\n"
          ]
        }
      ]
    },
    {
      "cell_type": "markdown",
      "source": [
        "Featuring the dataset "
      ],
      "metadata": {
        "id": "e3u0gSunphle"
      }
    },
    {
      "cell_type": "code",
      "source": [
        "#finding the unique values available in the year\n",
        "carset['Year'].unique()\n",
        "#year column is ok "
      ],
      "metadata": {
        "colab": {
          "base_uri": "https://localhost:8080/"
        },
        "id": "IjXT4_Qgo_y3",
        "outputId": "4284aefb-cb94-459a-b264-ea8292d2f853"
      },
      "execution_count": null,
      "outputs": [
        {
          "output_type": "execute_result",
          "data": {
            "text/plain": [
              "array([2017, 2013, 2020, 2015, 2018, 2016, 1995, 2007, 2012, 2010, 1985,\n",
              "       2008, 2019, 2003, 2014, 1999, 2011, 1982, 1989, 2006, 2009, 2005,\n",
              "       1993, 1990, 1988, 2004, 1981, 1983, 1979, 2002, 1991, 2000, 1996,\n",
              "       2001, 1997, 1984, 2021, 1998, 1978, 1987, 1986, 1992, 1994, 1960,\n",
              "       1975, 1958, 1980, 1976, 1956, 1959, 1953, 1967, 1973, 1972, 1955,\n",
              "       1946, 1968, 1961, 1969, 1970, 1974, 1966, 1977, 1971, 1947, 1963,\n",
              "       1964, 1945, 1952, 1965, 1957, 1935, 1938, 1950, 1962, 1922, 2022,\n",
              "       1951])"
            ]
          },
          "metadata": {},
          "execution_count": 13
        }
      ]
    },
    {
      "cell_type": "code",
      "source": [
        "# finding the unique values in price\n",
        "len(carset['Price'].unique())"
      ],
      "metadata": {
        "colab": {
          "base_uri": "https://localhost:8080/"
        },
        "id": "agQZcaaPs8DP",
        "outputId": "9eae7523-847b-4478-ac62-5f0fd46302de"
      },
      "execution_count": null,
      "outputs": [
        {
          "output_type": "execute_result",
          "data": {
            "text/plain": [
              "2516"
            ]
          },
          "metadata": {},
          "execution_count": 14
        }
      ]
    },
    {
      "cell_type": "code",
      "source": [
        "len(carset['Edition'].unique())"
      ],
      "metadata": {
        "colab": {
          "base_uri": "https://localhost:8080/"
        },
        "id": "70tooAfMt8Gv",
        "outputId": "4ec1aec3-cafe-4b45-e694-2097da041311"
      },
      "execution_count": null,
      "outputs": [
        {
          "output_type": "execute_result",
          "data": {
            "text/plain": [
              "14106"
            ]
          },
          "metadata": {},
          "execution_count": 15
        }
      ]
    },
    {
      "cell_type": "markdown",
      "source": [
        "some of the data has been supressed we cannot have a look on them so need to enable options to see them as well."
      ],
      "metadata": {
        "id": "JjnCV5P3wfx2"
      }
    },
    {
      "cell_type": "code",
      "source": [
        "pd.describe_option()"
      ],
      "metadata": {
        "colab": {
          "base_uri": "https://localhost:8080/"
        },
        "id": "N16LKtOZwodX",
        "outputId": "11d2a3e9-c722-4fe0-b08e-7bf3d25375d4"
      },
      "execution_count": null,
      "outputs": [
        {
          "output_type": "stream",
          "name": "stdout",
          "text": [
            "compute.use_bottleneck : bool\n",
            "    Use the bottleneck library to accelerate if it is installed,\n",
            "    the default is True\n",
            "    Valid values: False,True\n",
            "    [default: True] [currently: True]\n",
            "compute.use_numba : bool\n",
            "    Use the numba engine option for select operations if it is installed,\n",
            "    the default is False\n",
            "    Valid values: False,True\n",
            "    [default: False] [currently: False]\n",
            "compute.use_numexpr : bool\n",
            "    Use the numexpr library to accelerate computation if it is installed,\n",
            "    the default is True\n",
            "    Valid values: False,True\n",
            "    [default: True] [currently: True]\n",
            "display.chop_threshold : float or None\n",
            "    if set to a float value, all float values smaller then the given threshold\n",
            "    will be displayed as exactly 0 by repr and friends.\n",
            "    [default: None] [currently: None]\n",
            "display.colheader_justify : 'left'/'right'\n",
            "    Controls the justification of column headers. used by DataFrameFormatter.\n",
            "    [default: right] [currently: right]\n",
            "display.column_space No description available.\n",
            "    [default: 12] [currently: 12]\n",
            "display.date_dayfirst : boolean\n",
            "    When True, prints and parses dates with the day first, eg 20/01/2005\n",
            "    [default: False] [currently: False]\n",
            "display.date_yearfirst : boolean\n",
            "    When True, prints and parses dates with the year first, eg 2005/01/20\n",
            "    [default: False] [currently: False]\n",
            "display.encoding : str/unicode\n",
            "    Defaults to the detected encoding of the console.\n",
            "    Specifies the encoding to be used for strings returned by to_string,\n",
            "    these are generally strings meant to be displayed on the console.\n",
            "    [default: UTF-8] [currently: UTF-8]\n",
            "display.expand_frame_repr : boolean\n",
            "    Whether to print out the full DataFrame repr for wide DataFrames across\n",
            "    multiple lines, `max_columns` is still respected, but the output will\n",
            "    wrap-around across multiple \"pages\" if its width exceeds `display.width`.\n",
            "    [default: True] [currently: True]\n",
            "display.float_format : callable\n",
            "    The callable should accept a floating point number and return\n",
            "    a string with the desired format of the number. This is used\n",
            "    in some places like SeriesFormatter.\n",
            "    See formats.format.EngFormatter for an example.\n",
            "    [default: None] [currently: None]\n",
            "display.html.border : int\n",
            "    A ``border=value`` attribute is inserted in the ``<table>`` tag\n",
            "    for the DataFrame HTML repr.\n",
            "    [default: 1] [currently: 1]\n",
            "display.html.table_schema : boolean\n",
            "    Whether to publish a Table Schema representation for frontends\n",
            "    that support it.\n",
            "    (default: False)\n",
            "    [default: False] [currently: False]\n",
            "display.html.use_mathjax : boolean\n",
            "    When True, Jupyter notebook will process table contents using MathJax,\n",
            "    rendering mathematical expressions enclosed by the dollar symbol.\n",
            "    (default: True)\n",
            "    [default: True] [currently: True]\n",
            "display.large_repr : 'truncate'/'info'\n",
            "    For DataFrames exceeding max_rows/max_cols, the repr (and HTML repr) can\n",
            "    show a truncated table (the default from 0.13), or switch to the view from\n",
            "    df.info() (the behaviour in earlier versions of pandas).\n",
            "    [default: truncate] [currently: truncate]\n",
            "display.latex.escape : bool\n",
            "    This specifies if the to_latex method of a Dataframe uses escapes special\n",
            "    characters.\n",
            "    Valid values: False,True\n",
            "    [default: True] [currently: True]\n",
            "display.latex.longtable :bool\n",
            "    This specifies if the to_latex method of a Dataframe uses the longtable\n",
            "    format.\n",
            "    Valid values: False,True\n",
            "    [default: False] [currently: False]\n",
            "display.latex.multicolumn : bool\n",
            "    This specifies if the to_latex method of a Dataframe uses multicolumns\n",
            "    to pretty-print MultiIndex columns.\n",
            "    Valid values: False,True\n",
            "    [default: True] [currently: True]\n",
            "display.latex.multicolumn_format : bool\n",
            "    This specifies if the to_latex method of a Dataframe uses multicolumns\n",
            "    to pretty-print MultiIndex columns.\n",
            "    Valid values: False,True\n",
            "    [default: l] [currently: l]\n",
            "display.latex.multirow : bool\n",
            "    This specifies if the to_latex method of a Dataframe uses multirows\n",
            "    to pretty-print MultiIndex rows.\n",
            "    Valid values: False,True\n",
            "    [default: False] [currently: False]\n",
            "display.latex.repr : boolean\n",
            "    Whether to produce a latex DataFrame representation for jupyter\n",
            "    environments that support it.\n",
            "    (default: False)\n",
            "    [default: False] [currently: False]\n",
            "display.max_categories : int\n",
            "    This sets the maximum number of categories pandas should output when\n",
            "    printing out a `Categorical` or a Series of dtype \"category\".\n",
            "    [default: 8] [currently: 8]\n",
            "display.max_columns : int\n",
            "    If max_cols is exceeded, switch to truncate view. Depending on\n",
            "    `large_repr`, objects are either centrally truncated or printed as\n",
            "    a summary view. 'None' value means unlimited.\n",
            "\n",
            "    In case python/IPython is running in a terminal and `large_repr`\n",
            "    equals 'truncate' this can be set to 0 and pandas will auto-detect\n",
            "    the width of the terminal and print a truncated object which fits\n",
            "    the screen width. The IPython notebook, IPython qtconsole, or IDLE\n",
            "    do not run in a terminal and hence it is not possible to do\n",
            "    correct auto-detection.\n",
            "    [default: 20] [currently: 20]\n",
            "display.max_colwidth : int or None\n",
            "    The maximum width in characters of a column in the repr of\n",
            "    a pandas data structure. When the column overflows, a \"...\"\n",
            "    placeholder is embedded in the output. A 'None' value means unlimited.\n",
            "    [default: 50] [currently: 50]\n",
            "display.max_info_columns : int\n",
            "    max_info_columns is used in DataFrame.info method to decide if\n",
            "    per column information will be printed.\n",
            "    [default: 100] [currently: 100]\n",
            "display.max_info_rows : int or None\n",
            "    df.info() will usually show null-counts for each column.\n",
            "    For large frames this can be quite slow. max_info_rows and max_info_cols\n",
            "    limit this null check only to frames with smaller dimensions than\n",
            "    specified.\n",
            "    [default: 1690785] [currently: 1690785]\n",
            "display.max_rows : int\n",
            "    If max_rows is exceeded, switch to truncate view. Depending on\n",
            "    `large_repr`, objects are either centrally truncated or printed as\n",
            "    a summary view. 'None' value means unlimited.\n",
            "\n",
            "    In case python/IPython is running in a terminal and `large_repr`\n",
            "    equals 'truncate' this can be set to 0 and pandas will auto-detect\n",
            "    the height of the terminal and print a truncated object which fits\n",
            "    the screen height. The IPython notebook, IPython qtconsole, or\n",
            "    IDLE do not run in a terminal and hence it is not possible to do\n",
            "    correct auto-detection.\n",
            "    [default: 60] [currently: 60]\n",
            "display.max_seq_items : int or None\n",
            "    When pretty-printing a long sequence, no more then `max_seq_items`\n",
            "    will be printed. If items are omitted, they will be denoted by the\n",
            "    addition of \"...\" to the resulting string.\n",
            "\n",
            "    If set to None, the number of items to be printed is unlimited.\n",
            "    [default: 100] [currently: 100]\n",
            "display.memory_usage : bool, string or None\n",
            "    This specifies if the memory usage of a DataFrame should be displayed when\n",
            "    df.info() is called. Valid values True,False,'deep'\n",
            "    [default: True] [currently: True]\n",
            "display.min_rows : int\n",
            "    The numbers of rows to show in a truncated view (when `max_rows` is\n",
            "    exceeded). Ignored when `max_rows` is set to None or 0. When set to\n",
            "    None, follows the value of `max_rows`.\n",
            "    [default: 10] [currently: 10]\n",
            "display.multi_sparse : boolean\n",
            "    \"sparsify\" MultiIndex display (don't display repeated\n",
            "    elements in outer levels within groups)\n",
            "    [default: True] [currently: True]\n",
            "display.notebook_repr_html : boolean\n",
            "    When True, IPython notebook will use html representation for\n",
            "    pandas objects (if it is available).\n",
            "    [default: True] [currently: True]\n",
            "display.pprint_nest_depth : int\n",
            "    Controls the number of nested levels to process when pretty-printing\n",
            "    [default: 3] [currently: 3]\n",
            "display.precision : int\n",
            "    Floating point output precision in terms of number of places after the\n",
            "    decimal, for regular formatting as well as scientific notation. Similar\n",
            "    to ``precision`` in :meth:`numpy.set_printoptions`.\n",
            "    [default: 6] [currently: 6]\n",
            "display.show_dimensions : boolean or 'truncate'\n",
            "    Whether to print out dimensions at the end of DataFrame repr.\n",
            "    If 'truncate' is specified, only print out the dimensions if the\n",
            "    frame is truncated (e.g. not display all rows and/or columns)\n",
            "    [default: truncate] [currently: truncate]\n",
            "display.unicode.ambiguous_as_wide : boolean\n",
            "    Whether to use the Unicode East Asian Width to calculate the display text\n",
            "    width.\n",
            "    Enabling this may affect to the performance (default: False)\n",
            "    [default: False] [currently: False]\n",
            "display.unicode.east_asian_width : boolean\n",
            "    Whether to use the Unicode East Asian Width to calculate the display text\n",
            "    width.\n",
            "    Enabling this may affect to the performance (default: False)\n",
            "    [default: False] [currently: False]\n",
            "display.width : int\n",
            "    Width of the display in characters. In case python/IPython is running in\n",
            "    a terminal this can be set to None and pandas will correctly auto-detect\n",
            "    the width.\n",
            "    Note that the IPython notebook, IPython qtconsole, or IDLE do not run in a\n",
            "    terminal and hence it is not possible to correctly detect the width.\n",
            "    [default: 80] [currently: 80]\n",
            "io.excel.ods.reader : string\n",
            "    The default Excel reader engine for 'ods' files. Available options:\n",
            "    auto, odf.\n",
            "    [default: auto] [currently: auto]\n",
            "io.excel.ods.writer : string\n",
            "    The default Excel writer engine for 'ods' files. Available options:\n",
            "    auto, odf.\n",
            "    [default: auto] [currently: auto]\n",
            "io.excel.xls.reader : string\n",
            "    The default Excel reader engine for 'xls' files. Available options:\n",
            "    auto, xlrd.\n",
            "    [default: auto] [currently: auto]\n",
            "io.excel.xls.writer : string\n",
            "    The default Excel writer engine for 'xls' files. Available options:\n",
            "    auto, xlwt.\n",
            "    [default: auto] [currently: auto]\n",
            "    (Deprecated, use `` instead.)\n",
            "io.excel.xlsb.reader : string\n",
            "    The default Excel reader engine for 'xlsb' files. Available options:\n",
            "    auto, pyxlsb.\n",
            "    [default: auto] [currently: auto]\n",
            "io.excel.xlsm.reader : string\n",
            "    The default Excel reader engine for 'xlsm' files. Available options:\n",
            "    auto, xlrd, openpyxl.\n",
            "    [default: auto] [currently: auto]\n",
            "io.excel.xlsm.writer : string\n",
            "    The default Excel writer engine for 'xlsm' files. Available options:\n",
            "    auto, openpyxl.\n",
            "    [default: auto] [currently: auto]\n",
            "io.excel.xlsx.reader : string\n",
            "    The default Excel reader engine for 'xlsx' files. Available options:\n",
            "    auto, xlrd, openpyxl.\n",
            "    [default: auto] [currently: auto]\n",
            "io.excel.xlsx.writer : string\n",
            "    The default Excel writer engine for 'xlsx' files. Available options:\n",
            "    auto, openpyxl, xlsxwriter.\n",
            "    [default: auto] [currently: auto]\n",
            "io.hdf.default_format : format\n",
            "    default format writing format, if None, then\n",
            "    put will default to 'fixed' and append will default to 'table'\n",
            "    [default: None] [currently: None]\n",
            "io.hdf.dropna_table : boolean\n",
            "    drop ALL nan rows when appending to a table\n",
            "    [default: False] [currently: False]\n",
            "io.parquet.engine : string\n",
            "    The default parquet reader/writer engine. Available options:\n",
            "    'auto', 'pyarrow', 'fastparquet', the default is 'auto'\n",
            "    [default: auto] [currently: auto]\n",
            "io.sql.engine : string\n",
            "    The default sql reader/writer engine. Available options:\n",
            "    'auto', 'sqlalchemy', the default is 'auto'\n",
            "    [default: auto] [currently: auto]\n",
            "mode.chained_assignment : string\n",
            "    Raise an exception, warn, or no action if trying to use chained assignment,\n",
            "    The default is warn\n",
            "    [default: warn] [currently: warn]\n",
            "mode.data_manager : string\n",
            "    Internal data manager type; can be \"block\" or \"array\". Defaults to \"block\",\n",
            "    unless overridden by the 'PANDAS_DATA_MANAGER' environment variable (needs\n",
            "    to be set before pandas is imported).\n",
            "    [default: block] [currently: block]\n",
            "mode.sim_interactive : boolean\n",
            "    Whether to simulate interactive mode for purposes of testing\n",
            "    [default: False] [currently: False]\n",
            "mode.string_storage : string\n",
            "    The default storage for StringDtype.\n",
            "    [default: python] [currently: python]\n",
            "mode.use_inf_as_na : boolean\n",
            "    True means treat None, NaN, INF, -INF as NA (old way),\n",
            "    False means None and NaN are null, but INF, -INF are not NA\n",
            "    (new way).\n",
            "    [default: False] [currently: False]\n",
            "mode.use_inf_as_null : boolean\n",
            "    use_inf_as_null had been deprecated and will be removed in a future\n",
            "    version. Use `use_inf_as_na` instead.\n",
            "    [default: False] [currently: False]\n",
            "    (Deprecated, use `mode.use_inf_as_na` instead.)\n",
            "plotting.backend : str\n",
            "    The plotting backend to use. The default value is \"matplotlib\", the\n",
            "    backend provided with pandas. Other backends can be specified by\n",
            "    providing the name of the module that implements the backend.\n",
            "    [default: matplotlib] [currently: matplotlib]\n",
            "plotting.matplotlib.register_converters : bool or 'auto'.\n",
            "    Whether to register converters with matplotlib's units registry for\n",
            "    dates, times, datetimes, and Periods. Toggling to False will remove\n",
            "    the converters, restoring any converters that pandas overwrote.\n",
            "    [default: auto] [currently: auto]\n",
            "styler.render.max_elements : int\n",
            "    The maximum number of data-cell (<td>) elements that will be rendered before\n",
            "    trimming will occur over columns, rows or both if needed.\n",
            "    [default: 262144] [currently: 262144]\n",
            "styler.sparse.columns : bool\n",
            "    Whether to sparsify the display of hierarchical columns. Setting to False will\n",
            "    display each explicit level element in a hierarchical key for each column.\n",
            "    [default: True] [currently: True]\n",
            "styler.sparse.index : bool\n",
            "    Whether to sparsify the display of a hierarchical index. Setting to False will\n",
            "    display each explicit level element in a hierarchical key for each row.\n",
            "    [default: True] [currently: True]\n"
          ]
        }
      ]
    },
    {
      "cell_type": "markdown",
      "source": [
        "changing the options of the pandas to see all the rows\n"
      ],
      "metadata": {
        "id": "EBzUvFGAx7au"
      }
    },
    {
      "cell_type": "code",
      "source": [
        "pd.get_option('display.max_columns')"
      ],
      "metadata": {
        "colab": {
          "base_uri": "https://localhost:8080/"
        },
        "id": "keBuNyGLx6fo",
        "outputId": "583893b3-df5d-4f18-9250-7d1507ddabf4"
      },
      "execution_count": null,
      "outputs": [
        {
          "output_type": "execute_result",
          "data": {
            "text/plain": [
              "20"
            ]
          },
          "metadata": {},
          "execution_count": 17
        }
      ]
    },
    {
      "cell_type": "code",
      "source": [
        "pd.get_option('display.max_rows')"
      ],
      "metadata": {
        "colab": {
          "base_uri": "https://localhost:8080/"
        },
        "id": "g34nzT8Uyb04",
        "outputId": "37986516-3352-4f2d-90bd-b5a5d4aa8363"
      },
      "execution_count": null,
      "outputs": [
        {
          "output_type": "execute_result",
          "data": {
            "text/plain": [
              "60"
            ]
          },
          "metadata": {},
          "execution_count": 18
        }
      ]
    },
    {
      "cell_type": "markdown",
      "source": [
        "changing the properties"
      ],
      "metadata": {
        "id": "JP5Pw5CIyj6W"
      }
    },
    {
      "cell_type": "code",
      "source": [
        "pd.set_option('display.max_rows',None)"
      ],
      "metadata": {
        "id": "ayD0oSBxyoIn"
      },
      "execution_count": null,
      "outputs": []
    },
    {
      "cell_type": "code",
      "source": [
        "pd.set_option('display.max_columns',None)"
      ],
      "metadata": {
        "id": "wMkYVjf30zEX"
      },
      "execution_count": null,
      "outputs": []
    },
    {
      "cell_type": "code",
      "source": [
        "#display.max_seq_items\n",
        "\n",
        "pd.set_option('display.max_colwidth',None)"
      ],
      "metadata": {
        "id": "KbotxUqC8X7d"
      },
      "execution_count": null,
      "outputs": []
    },
    {
      "cell_type": "code",
      "source": [
        "#display.show_dimensions\n",
        "pd.get_option('display.show_dimensions')"
      ],
      "metadata": {
        "colab": {
          "base_uri": "https://localhost:8080/",
          "height": 36
        },
        "id": "Ue4jPdNZ92od",
        "outputId": "390b6722-31c5-48c7-a402-72f7aa578559"
      },
      "execution_count": null,
      "outputs": [
        {
          "output_type": "execute_result",
          "data": {
            "text/plain": [
              "'truncate'"
            ],
            "application/vnd.google.colaboratory.intrinsic+json": {
              "type": "string"
            }
          },
          "metadata": {},
          "execution_count": 42
        }
      ]
    },
    {
      "cell_type": "code",
      "source": [
        "from os import truncate\n",
        "#display.show_dimensions set\n",
        "pd.set_option('display.show_dimensions',True)"
      ],
      "metadata": {
        "id": "iEfrWqmW-GBe"
      },
      "execution_count": null,
      "outputs": []
    },
    {
      "cell_type": "code",
      "source": [
        "#display.show_dimensions\n",
        "pd.get_option('display.show_dimensions')"
      ],
      "metadata": {
        "colab": {
          "base_uri": "https://localhost:8080/"
        },
        "id": "qVq2m1Ti-a2e",
        "outputId": "5b8b3052-1851-441b-c413-e421dd76e920"
      },
      "execution_count": null,
      "outputs": [
        {
          "output_type": "execute_result",
          "data": {
            "text/plain": [
              "True"
            ]
          },
          "metadata": {},
          "execution_count": 26
        }
      ]
    },
    {
      "cell_type": "markdown",
      "source": [
        ""
      ],
      "metadata": {
        "id": "ugvrXEjp0wmi"
      }
    },
    {
      "cell_type": "markdown",
      "source": [
        "checking out the options selected correctly or not"
      ],
      "metadata": {
        "id": "_LHDZwjtywFx"
      }
    },
    {
      "cell_type": "code",
      "source": [
        "carset['Edition'].unique()"
      ],
      "metadata": {
        "colab": {
          "base_uri": "https://localhost:8080/"
        },
        "id": "AEdx_MDPyvpQ",
        "outputId": "12cdb305-3c10-4399-bd28-12d18b9a184b"
      },
      "execution_count": null,
      "outputs": [
        {
          "output_type": "execute_result",
          "data": {
            "text/plain": [
              "array(['Limited', 'Fully Loaded', 'GT New Face 2wd', ...,\n",
              "       'DAA-RU3, Ivory Ed.', 'Scp10', 'Grade 2016'], dtype=object)"
            ]
          },
          "metadata": {},
          "execution_count": 49
        }
      ]
    },
    {
      "cell_type": "code",
      "source": [
        "len(carset['Brand'].unique())"
      ],
      "metadata": {
        "id": "mn0-_OIW1goR",
        "colab": {
          "base_uri": "https://localhost:8080/"
        },
        "outputId": "3078c0c5-49b8-42fd-f1e8-013f4f665f57"
      },
      "execution_count": null,
      "outputs": [
        {
          "output_type": "execute_result",
          "data": {
            "text/plain": [
              "60"
            ]
          },
          "metadata": {},
          "execution_count": 60
        }
      ]
    },
    {
      "cell_type": "code",
      "source": [
        "type(carset['Edition'].unique())"
      ],
      "metadata": {
        "colab": {
          "base_uri": "https://localhost:8080/"
        },
        "id": "GwHtI4ZV9e8v",
        "outputId": "fd479f1a-b302-41e7-b720-8d125b575ce1"
      },
      "execution_count": null,
      "outputs": [
        {
          "output_type": "execute_result",
          "data": {
            "text/plain": [
              "numpy.ndarray"
            ]
          },
          "metadata": {},
          "execution_count": 29
        }
      ]
    },
    {
      "cell_type": "code",
      "source": [
        "import sys\n",
        "np.set_printoptions(threshold=sys.maxsize)\n",
        "print(len(carset['Edition'].unique()))"
      ],
      "metadata": {
        "id": "1J9Pakou91R2",
        "colab": {
          "base_uri": "https://localhost:8080/"
        },
        "outputId": "8e3907d2-df0e-4406-cfd6-4cf28c815538"
      },
      "execution_count": null,
      "outputs": [
        {
          "output_type": "stream",
          "name": "stdout",
          "text": [
            "14106\n"
          ]
        }
      ]
    },
    {
      "cell_type": "code",
      "source": [
        "import sys\n",
        "np.set_printoptions(threshold=sys.maxsize)\n",
        "print(carset['Edition'].unique())"
      ],
      "metadata": {
        "id": "J3QSjTVkFU4m"
      },
      "execution_count": null,
      "outputs": []
    },
    {
      "cell_type": "markdown",
      "source": [
        "featuring continues\n"
      ],
      "metadata": {
        "id": "VsXVjdk9GCAK"
      }
    },
    {
      "cell_type": "code",
      "source": [
        "print( np.array(pd.unique(carset[['Brand','Edition']].values.ravel('K'))).ndim)\n",
        "\n",
        "df = pd.DataFrame({'Brand' : carset['Brand'],\n",
        "                   'Edition' : carset['Edition']})\n",
        "\n",
        "print( pd.unique().ndim)\n",
        "#pd.DataFrame(pd.unique(carset[['Brand','Edition']].values.ravel('C')) , columns = ['Brand','Edition'])\n",
        "\n"
      ],
      "metadata": {
        "id": "-LAqZc_WGBaY",
        "colab": {
          "base_uri": "https://localhost:8080/",
          "height": 235
        },
        "outputId": "a93b30ed-c388-4bdf-e6d5-c7b15d01ba05"
      },
      "execution_count": 1,
      "outputs": [
        {
          "output_type": "error",
          "ename": "NameError",
          "evalue": "ignored",
          "traceback": [
            "\u001b[0;31m---------------------------------------------------------------------------\u001b[0m",
            "\u001b[0;31mNameError\u001b[0m                                 Traceback (most recent call last)",
            "\u001b[0;32m<ipython-input-1-d4e9fc5924da>\u001b[0m in \u001b[0;36m<module>\u001b[0;34m()\u001b[0m\n\u001b[0;32m----> 1\u001b[0;31m \u001b[0mprint\u001b[0m\u001b[0;34m(\u001b[0m \u001b[0mnp\u001b[0m\u001b[0;34m.\u001b[0m\u001b[0marray\u001b[0m\u001b[0;34m(\u001b[0m\u001b[0mpd\u001b[0m\u001b[0;34m.\u001b[0m\u001b[0munique\u001b[0m\u001b[0;34m(\u001b[0m\u001b[0mcarset\u001b[0m\u001b[0;34m[\u001b[0m\u001b[0;34m[\u001b[0m\u001b[0;34m'Brand'\u001b[0m\u001b[0;34m,\u001b[0m\u001b[0;34m'Edition'\u001b[0m\u001b[0;34m]\u001b[0m\u001b[0;34m]\u001b[0m\u001b[0;34m.\u001b[0m\u001b[0mvalues\u001b[0m\u001b[0;34m.\u001b[0m\u001b[0mravel\u001b[0m\u001b[0;34m(\u001b[0m\u001b[0;34m'K'\u001b[0m\u001b[0;34m)\u001b[0m\u001b[0;34m)\u001b[0m\u001b[0;34m)\u001b[0m\u001b[0;34m.\u001b[0m\u001b[0mndim\u001b[0m\u001b[0;34m)\u001b[0m\u001b[0;34m\u001b[0m\u001b[0;34m\u001b[0m\u001b[0m\n\u001b[0m\u001b[1;32m      2\u001b[0m \u001b[0;34m\u001b[0m\u001b[0m\n\u001b[1;32m      3\u001b[0m df = pd.DataFrame({'Brand' : carset['Brand'],\n\u001b[1;32m      4\u001b[0m                    'Edition' : carset['Edition']})\n\u001b[1;32m      5\u001b[0m \u001b[0;34m\u001b[0m\u001b[0m\n",
            "\u001b[0;31mNameError\u001b[0m: name 'np' is not defined"
          ]
        }
      ]
    }
  ]
}