{
  "nbformat": 4,
  "nbformat_minor": 0,
  "metadata": {
    "colab": {
      "name": "ML_Assingment2_CarPrice_Prediction",
      "provenance": [],
      "collapsed_sections": [],
      "include_colab_link": true
    },
    "kernelspec": {
      "name": "python3",
      "display_name": "Python 3"
    },
    "language_info": {
      "name": "python"
    }
  },
  "cells": [
    {
      "cell_type": "markdown",
      "metadata": {
        "id": "view-in-github",
        "colab_type": "text"
      },
      "source": [
        "<a href=\"https://colab.research.google.com/github/lochana-vishwajith/ML_Assignment2_IT19140230_IT19111520_IT18014396_IT19152806/blob/main/ML_Assingment2_CarPrice_Prediction.ipynb\" target=\"_parent\"><img src=\"https://colab.research.google.com/assets/colab-badge.svg\" alt=\"Open In Colab\"/></a>"
      ]
    },
    {
      "cell_type": "markdown",
      "source": [
        ""
      ],
      "metadata": {
        "id": "SftHxo1yn46b"
      }
    },
    {
      "cell_type": "markdown",
      "source": [
        "description about the libraries\n",
        "\n",
        "\n",
        "**NumPy**\n",
        "\n",
        "NumPy, which stands for Numerical Python, is a python library that consists of multidimensional array objects and a collection of routines for processing those arrays. Using NumPy, logical and mathematical operations can be performed.\n",
        "\n",
        "**sklearn**\n",
        "\n",
        "Sklearn, which stands for scikit-learn is a python library for machine learning. Sklearn is focuses on machine learning techniques, such as mathematical, statistical, and general-purpose algorithms, which serve as the foundation for many machine learning technologies. The sklearn library includes a number of useful machine learning and statistical modeling methods, such as classification, regression, clustering, and dimensionality reduction.\n"
      ],
      "metadata": {
        "id": "Ih9X7kFjs9TV"
      }
    },
    {
      "cell_type": "code",
      "execution_count": null,
      "metadata": {
        "id": "9HETDRHd3wMm"
      },
      "outputs": [],
      "source": [
        "#Importing libraries \n",
        "import pandas as pd\n",
        "import numpy  as np\n",
        "from sklearn import linear_model\n",
        "import sys\n",
        "np.set_printoptions(threshold=sys.maxsize)"
      ]
    },
    {
      "cell_type": "markdown",
      "source": [
        "importing the code"
      ],
      "metadata": {
        "id": "m5sr6zO-tD6u"
      }
    },
    {
      "cell_type": "code",
      "source": [
        "url = 'https://raw.githubusercontent.com/lochana-vishwajith/ML_Assignment2_IT19140230_IT19111520_IT18014396_IT19152806/main/Vehicle%20details.csv'\n",
        "carset = pd.read_csv(url)"
      ],
      "metadata": {
        "id": "WepTclhj3pF5"
      },
      "execution_count": null,
      "outputs": []
    },
    {
      "cell_type": "markdown",
      "source": [
        "checking the dataset"
      ],
      "metadata": {
        "id": "aNU9unK0tKKf"
      }
    },
    {
      "cell_type": "code",
      "source": [
        "carset.head()"
      ],
      "metadata": {
        "colab": {
          "base_uri": "https://localhost:8080/",
          "height": 235
        },
        "id": "vjxJAKueoGCe",
        "outputId": "60d5e316-6f34-4f4a-ef1b-5ce0d4a36cbf"
      },
      "execution_count": null,
      "outputs": [
        {
          "output_type": "execute_result",
          "data": {
            "text/plain": [
              "        Price   Brand               Model          Edition  Year Condition  \\\n",
              "0  12,900,000   Honda               Vezel          Limited  2017      Used   \n",
              "1  16,250,000  Jaguar                  XF     Fully Loaded  2013      Used   \n",
              "2  17,000,000  Toyota                 CHR  GT New Face 2wd  2020      Used   \n",
              "3  13,000,000  Toyota                 CHR           Toyato  2017      Used   \n",
              "4  33,500,000  Toyota  Land Cruiser Prado            prado  2015      Used   \n",
              "\n",
              "  Transmission       Body    Fuel  Capacity    Mileage  \n",
              "0    Automatic  SUV / 4x4  Hybrid  1,500 cc  37,000 km  \n",
              "1    Automatic     Saloon  Diesel  2,200 cc  42,000 km  \n",
              "2    Automatic  SUV / 4x4  Petrol  1,200 cc  15,000 km  \n",
              "3    Automatic  SUV / 4x4  Petrol  1,200 cc  21,000 km  \n",
              "4    Automatic  SUV / 4x4  Petrol  2,700 cc  57,000 km  \n",
              "\n",
              "[5 rows x 11 columns]"
            ],
            "text/html": [
              "\n",
              "  <div id=\"df-5c55eefc-00bf-4149-9305-7d2411daf349\">\n",
              "    <div class=\"colab-df-container\">\n",
              "      <div>\n",
              "<style scoped>\n",
              "    .dataframe tbody tr th:only-of-type {\n",
              "        vertical-align: middle;\n",
              "    }\n",
              "\n",
              "    .dataframe tbody tr th {\n",
              "        vertical-align: top;\n",
              "    }\n",
              "\n",
              "    .dataframe thead th {\n",
              "        text-align: right;\n",
              "    }\n",
              "</style>\n",
              "<table border=\"1\" class=\"dataframe\">\n",
              "  <thead>\n",
              "    <tr style=\"text-align: right;\">\n",
              "      <th></th>\n",
              "      <th>Price</th>\n",
              "      <th>Brand</th>\n",
              "      <th>Model</th>\n",
              "      <th>Edition</th>\n",
              "      <th>Year</th>\n",
              "      <th>Condition</th>\n",
              "      <th>Transmission</th>\n",
              "      <th>Body</th>\n",
              "      <th>Fuel</th>\n",
              "      <th>Capacity</th>\n",
              "      <th>Mileage</th>\n",
              "    </tr>\n",
              "  </thead>\n",
              "  <tbody>\n",
              "    <tr>\n",
              "      <th>0</th>\n",
              "      <td>12,900,000</td>\n",
              "      <td>Honda</td>\n",
              "      <td>Vezel</td>\n",
              "      <td>Limited</td>\n",
              "      <td>2017</td>\n",
              "      <td>Used</td>\n",
              "      <td>Automatic</td>\n",
              "      <td>SUV / 4x4</td>\n",
              "      <td>Hybrid</td>\n",
              "      <td>1,500 cc</td>\n",
              "      <td>37,000 km</td>\n",
              "    </tr>\n",
              "    <tr>\n",
              "      <th>1</th>\n",
              "      <td>16,250,000</td>\n",
              "      <td>Jaguar</td>\n",
              "      <td>XF</td>\n",
              "      <td>Fully Loaded</td>\n",
              "      <td>2013</td>\n",
              "      <td>Used</td>\n",
              "      <td>Automatic</td>\n",
              "      <td>Saloon</td>\n",
              "      <td>Diesel</td>\n",
              "      <td>2,200 cc</td>\n",
              "      <td>42,000 km</td>\n",
              "    </tr>\n",
              "    <tr>\n",
              "      <th>2</th>\n",
              "      <td>17,000,000</td>\n",
              "      <td>Toyota</td>\n",
              "      <td>CHR</td>\n",
              "      <td>GT New Face 2wd</td>\n",
              "      <td>2020</td>\n",
              "      <td>Used</td>\n",
              "      <td>Automatic</td>\n",
              "      <td>SUV / 4x4</td>\n",
              "      <td>Petrol</td>\n",
              "      <td>1,200 cc</td>\n",
              "      <td>15,000 km</td>\n",
              "    </tr>\n",
              "    <tr>\n",
              "      <th>3</th>\n",
              "      <td>13,000,000</td>\n",
              "      <td>Toyota</td>\n",
              "      <td>CHR</td>\n",
              "      <td>Toyato</td>\n",
              "      <td>2017</td>\n",
              "      <td>Used</td>\n",
              "      <td>Automatic</td>\n",
              "      <td>SUV / 4x4</td>\n",
              "      <td>Petrol</td>\n",
              "      <td>1,200 cc</td>\n",
              "      <td>21,000 km</td>\n",
              "    </tr>\n",
              "    <tr>\n",
              "      <th>4</th>\n",
              "      <td>33,500,000</td>\n",
              "      <td>Toyota</td>\n",
              "      <td>Land Cruiser Prado</td>\n",
              "      <td>prado</td>\n",
              "      <td>2015</td>\n",
              "      <td>Used</td>\n",
              "      <td>Automatic</td>\n",
              "      <td>SUV / 4x4</td>\n",
              "      <td>Petrol</td>\n",
              "      <td>2,700 cc</td>\n",
              "      <td>57,000 km</td>\n",
              "    </tr>\n",
              "  </tbody>\n",
              "</table>\n",
              "<p>5 rows × 11 columns</p>\n",
              "</div>\n",
              "      <button class=\"colab-df-convert\" onclick=\"convertToInteractive('df-5c55eefc-00bf-4149-9305-7d2411daf349')\"\n",
              "              title=\"Convert this dataframe to an interactive table.\"\n",
              "              style=\"display:none;\">\n",
              "        \n",
              "  <svg xmlns=\"http://www.w3.org/2000/svg\" height=\"24px\"viewBox=\"0 0 24 24\"\n",
              "       width=\"24px\">\n",
              "    <path d=\"M0 0h24v24H0V0z\" fill=\"none\"/>\n",
              "    <path d=\"M18.56 5.44l.94 2.06.94-2.06 2.06-.94-2.06-.94-.94-2.06-.94 2.06-2.06.94zm-11 1L8.5 8.5l.94-2.06 2.06-.94-2.06-.94L8.5 2.5l-.94 2.06-2.06.94zm10 10l.94 2.06.94-2.06 2.06-.94-2.06-.94-.94-2.06-.94 2.06-2.06.94z\"/><path d=\"M17.41 7.96l-1.37-1.37c-.4-.4-.92-.59-1.43-.59-.52 0-1.04.2-1.43.59L10.3 9.45l-7.72 7.72c-.78.78-.78 2.05 0 2.83L4 21.41c.39.39.9.59 1.41.59.51 0 1.02-.2 1.41-.59l7.78-7.78 2.81-2.81c.8-.78.8-2.07 0-2.86zM5.41 20L4 18.59l7.72-7.72 1.47 1.35L5.41 20z\"/>\n",
              "  </svg>\n",
              "      </button>\n",
              "      \n",
              "  <style>\n",
              "    .colab-df-container {\n",
              "      display:flex;\n",
              "      flex-wrap:wrap;\n",
              "      gap: 12px;\n",
              "    }\n",
              "\n",
              "    .colab-df-convert {\n",
              "      background-color: #E8F0FE;\n",
              "      border: none;\n",
              "      border-radius: 50%;\n",
              "      cursor: pointer;\n",
              "      display: none;\n",
              "      fill: #1967D2;\n",
              "      height: 32px;\n",
              "      padding: 0 0 0 0;\n",
              "      width: 32px;\n",
              "    }\n",
              "\n",
              "    .colab-df-convert:hover {\n",
              "      background-color: #E2EBFA;\n",
              "      box-shadow: 0px 1px 2px rgba(60, 64, 67, 0.3), 0px 1px 3px 1px rgba(60, 64, 67, 0.15);\n",
              "      fill: #174EA6;\n",
              "    }\n",
              "\n",
              "    [theme=dark] .colab-df-convert {\n",
              "      background-color: #3B4455;\n",
              "      fill: #D2E3FC;\n",
              "    }\n",
              "\n",
              "    [theme=dark] .colab-df-convert:hover {\n",
              "      background-color: #434B5C;\n",
              "      box-shadow: 0px 1px 3px 1px rgba(0, 0, 0, 0.15);\n",
              "      filter: drop-shadow(0px 1px 2px rgba(0, 0, 0, 0.3));\n",
              "      fill: #FFFFFF;\n",
              "    }\n",
              "  </style>\n",
              "\n",
              "      <script>\n",
              "        const buttonEl =\n",
              "          document.querySelector('#df-5c55eefc-00bf-4149-9305-7d2411daf349 button.colab-df-convert');\n",
              "        buttonEl.style.display =\n",
              "          google.colab.kernel.accessAllowed ? 'block' : 'none';\n",
              "\n",
              "        async function convertToInteractive(key) {\n",
              "          const element = document.querySelector('#df-5c55eefc-00bf-4149-9305-7d2411daf349');\n",
              "          const dataTable =\n",
              "            await google.colab.kernel.invokeFunction('convertToInteractive',\n",
              "                                                     [key], {});\n",
              "          if (!dataTable) return;\n",
              "\n",
              "          const docLinkHtml = 'Like what you see? Visit the ' +\n",
              "            '<a target=\"_blank\" href=https://colab.research.google.com/notebooks/data_table.ipynb>data table notebook</a>'\n",
              "            + ' to learn more about interactive tables.';\n",
              "          element.innerHTML = '';\n",
              "          dataTable['output_type'] = 'display_data';\n",
              "          await google.colab.output.renderOutput(dataTable, element);\n",
              "          const docLink = document.createElement('div');\n",
              "          docLink.innerHTML = docLinkHtml;\n",
              "          element.appendChild(docLink);\n",
              "        }\n",
              "      </script>\n",
              "    </div>\n",
              "  </div>\n",
              "  "
            ]
          },
          "metadata": {},
          "execution_count": 78
        }
      ]
    },
    {
      "cell_type": "code",
      "source": [
        "carset.shape"
      ],
      "metadata": {
        "colab": {
          "base_uri": "https://localhost:8080/"
        },
        "id": "681VtIsPnWgg",
        "outputId": "8879357e-c0d9-4417-d72f-9d88be419b6a"
      },
      "execution_count": null,
      "outputs": [
        {
          "output_type": "execute_result",
          "data": {
            "text/plain": [
              "(40531, 11)"
            ]
          },
          "metadata": {},
          "execution_count": 79
        }
      ]
    },
    {
      "cell_type": "code",
      "source": [
        "carset.info()"
      ],
      "metadata": {
        "colab": {
          "base_uri": "https://localhost:8080/"
        },
        "id": "Q_8mdxGQoEit",
        "outputId": "2a8e4bcd-b601-45b0-c234-bf758978fd54"
      },
      "execution_count": null,
      "outputs": [
        {
          "output_type": "stream",
          "name": "stdout",
          "text": [
            "<class 'pandas.core.frame.DataFrame'>\n",
            "RangeIndex: 40531 entries, 0 to 40530\n",
            "Data columns (total 11 columns):\n",
            " #   Column        Non-Null Count  Dtype \n",
            "---  ------        --------------  ----- \n",
            " 0   Price         40531 non-null  object\n",
            " 1   Brand         40531 non-null  object\n",
            " 2   Model         40531 non-null  object\n",
            " 3   Edition       40531 non-null  object\n",
            " 4   Year          40531 non-null  int64 \n",
            " 5   Condition     40531 non-null  object\n",
            " 6   Transmission  40531 non-null  object\n",
            " 7   Body          40531 non-null  object\n",
            " 8   Fuel          40531 non-null  object\n",
            " 9   Capacity      40531 non-null  object\n",
            " 10  Mileage       40531 non-null  object\n",
            "dtypes: int64(1), object(10)\n",
            "memory usage: 3.4+ MB\n"
          ]
        }
      ]
    },
    {
      "cell_type": "markdown",
      "source": [
        "Featuring the dataset "
      ],
      "metadata": {
        "id": "e3u0gSunphle"
      }
    },
    {
      "cell_type": "code",
      "source": [
        "#finding the unique values available in the year\n",
        "carset['Year'].unique()\n",
        "#year column is ok "
      ],
      "metadata": {
        "id": "IjXT4_Qgo_y3"
      },
      "execution_count": null,
      "outputs": []
    },
    {
      "cell_type": "code",
      "source": [
        "# finding the unique values in price\n",
        "len(carset['Price'].unique())"
      ],
      "metadata": {
        "colab": {
          "base_uri": "https://localhost:8080/"
        },
        "id": "agQZcaaPs8DP",
        "outputId": "03911b8f-98c7-422b-c50a-80db27e0bc4d"
      },
      "execution_count": null,
      "outputs": [
        {
          "output_type": "execute_result",
          "data": {
            "text/plain": [
              "2516"
            ]
          },
          "metadata": {},
          "execution_count": 82
        }
      ]
    },
    {
      "cell_type": "code",
      "source": [
        "len(carset['Edition'].unique())"
      ],
      "metadata": {
        "colab": {
          "base_uri": "https://localhost:8080/"
        },
        "id": "70tooAfMt8Gv",
        "outputId": "9f8f48f1-b862-4db5-c3c3-77d6206b9157"
      },
      "execution_count": null,
      "outputs": [
        {
          "output_type": "execute_result",
          "data": {
            "text/plain": [
              "14106"
            ]
          },
          "metadata": {},
          "execution_count": 83
        }
      ]
    },
    {
      "cell_type": "markdown",
      "source": [
        "some of the data has been supressed we cannot have a look on them so need to enable options to see them as well."
      ],
      "metadata": {
        "id": "JjnCV5P3wfx2"
      }
    },
    {
      "cell_type": "code",
      "source": [
        "pd.describe_option()"
      ],
      "metadata": {
        "id": "N16LKtOZwodX"
      },
      "execution_count": null,
      "outputs": []
    },
    {
      "cell_type": "markdown",
      "source": [
        "changing the options of the pandas to see all the rows\n"
      ],
      "metadata": {
        "id": "EBzUvFGAx7au"
      }
    },
    {
      "cell_type": "code",
      "source": [
        "pd.get_option('display.max_columns')"
      ],
      "metadata": {
        "id": "keBuNyGLx6fo"
      },
      "execution_count": null,
      "outputs": []
    },
    {
      "cell_type": "code",
      "source": [
        "pd.get_option('display.max_rows')"
      ],
      "metadata": {
        "id": "g34nzT8Uyb04"
      },
      "execution_count": null,
      "outputs": []
    },
    {
      "cell_type": "markdown",
      "source": [
        "changing the properties"
      ],
      "metadata": {
        "id": "JP5Pw5CIyj6W"
      }
    },
    {
      "cell_type": "code",
      "source": [
        "pd.set_option('display.max_rows',None)"
      ],
      "metadata": {
        "id": "ayD0oSBxyoIn"
      },
      "execution_count": null,
      "outputs": []
    },
    {
      "cell_type": "code",
      "source": [
        "pd.set_option('display.max_columns',None)"
      ],
      "metadata": {
        "id": "wMkYVjf30zEX"
      },
      "execution_count": null,
      "outputs": []
    },
    {
      "cell_type": "code",
      "source": [
        "#display.max_seq_items\n",
        "\n",
        "pd.set_option('display.max_colwidth',None)"
      ],
      "metadata": {
        "id": "KbotxUqC8X7d"
      },
      "execution_count": null,
      "outputs": []
    },
    {
      "cell_type": "code",
      "source": [
        "#display.show_dimensions\n",
        "pd.get_option('display.show_dimensions')"
      ],
      "metadata": {
        "colab": {
          "base_uri": "https://localhost:8080/"
        },
        "id": "Ue4jPdNZ92od",
        "outputId": "8b67932d-e2fb-4dd4-d158-25c1a7cb38db"
      },
      "execution_count": null,
      "outputs": [
        {
          "output_type": "execute_result",
          "data": {
            "text/plain": [
              "True"
            ]
          },
          "metadata": {},
          "execution_count": 90
        }
      ]
    },
    {
      "cell_type": "code",
      "source": [
        "from os import truncate\n",
        "#display.show_dimensions set\n",
        "pd.set_option('display.show_dimensions',True)"
      ],
      "metadata": {
        "id": "iEfrWqmW-GBe"
      },
      "execution_count": null,
      "outputs": []
    },
    {
      "cell_type": "code",
      "source": [
        "#display.show_dimensions\n",
        "pd.get_option('display.show_dimensions')"
      ],
      "metadata": {
        "colab": {
          "base_uri": "https://localhost:8080/"
        },
        "id": "qVq2m1Ti-a2e",
        "outputId": "b1ed72a7-6c65-49f4-e162-50b10a57fa16"
      },
      "execution_count": null,
      "outputs": [
        {
          "output_type": "execute_result",
          "data": {
            "text/plain": [
              "True"
            ]
          },
          "metadata": {},
          "execution_count": 92
        }
      ]
    },
    {
      "cell_type": "markdown",
      "source": [
        ""
      ],
      "metadata": {
        "id": "ugvrXEjp0wmi"
      }
    },
    {
      "cell_type": "markdown",
      "source": [
        "checking out the options selected correctly or not"
      ],
      "metadata": {
        "id": "_LHDZwjtywFx"
      }
    },
    {
      "cell_type": "code",
      "source": [
        "carset['Edition'].unique()"
      ],
      "metadata": {
        "id": "AEdx_MDPyvpQ"
      },
      "execution_count": null,
      "outputs": []
    },
    {
      "cell_type": "code",
      "source": [
        "len(carset['Brand'].unique())"
      ],
      "metadata": {
        "id": "mn0-_OIW1goR",
        "colab": {
          "base_uri": "https://localhost:8080/"
        },
        "outputId": "8a799151-a249-43d4-a311-9628b29b24da"
      },
      "execution_count": null,
      "outputs": [
        {
          "output_type": "execute_result",
          "data": {
            "text/plain": [
              "60"
            ]
          },
          "metadata": {},
          "execution_count": 94
        }
      ]
    },
    {
      "cell_type": "code",
      "source": [
        "type(carset['Edition'].unique())"
      ],
      "metadata": {
        "colab": {
          "base_uri": "https://localhost:8080/"
        },
        "id": "GwHtI4ZV9e8v",
        "outputId": "09dcd4c7-93f4-46d8-cba1-1d40d97051b3"
      },
      "execution_count": null,
      "outputs": [
        {
          "output_type": "execute_result",
          "data": {
            "text/plain": [
              "numpy.ndarray"
            ]
          },
          "metadata": {},
          "execution_count": 95
        }
      ]
    },
    {
      "cell_type": "code",
      "source": [
        "print(carset['Edition'].unique())"
      ],
      "metadata": {
        "id": "J3QSjTVkFU4m"
      },
      "execution_count": null,
      "outputs": []
    },
    {
      "cell_type": "code",
      "source": [
        "\n",
        "print(len(carset['Edition'].unique()))"
      ],
      "metadata": {
        "id": "1J9Pakou91R2",
        "colab": {
          "base_uri": "https://localhost:8080/"
        },
        "outputId": "73dec472-6902-4b6f-9c03-848073934846"
      },
      "execution_count": null,
      "outputs": [
        {
          "output_type": "stream",
          "name": "stdout",
          "text": [
            "14106\n"
          ]
        }
      ]
    },
    {
      "cell_type": "markdown",
      "source": [
        "featuring continues\n"
      ],
      "metadata": {
        "id": "VsXVjdk9GCAK"
      }
    },
    {
      "cell_type": "code",
      "source": [
        "carset['Brand'].unique()"
      ],
      "metadata": {
        "id": "-LAqZc_WGBaY"
      },
      "execution_count": null,
      "outputs": []
    },
    {
      "cell_type": "code",
      "source": [
        "carset['Model'].unique()"
      ],
      "metadata": {
        "id": "sB2RBNqiLann"
      },
      "execution_count": null,
      "outputs": []
    },
    {
      "cell_type": "code",
      "source": [
        "carset['Year'].unique()"
      ],
      "metadata": {
        "id": "zK_EsnVBLwUn"
      },
      "execution_count": null,
      "outputs": []
    },
    {
      "cell_type": "code",
      "source": [
        "carset['Year'].unique()"
      ],
      "metadata": {
        "id": "Nog0CN5CMPRP"
      },
      "execution_count": null,
      "outputs": []
    },
    {
      "cell_type": "code",
      "source": [
        "carset['Condition'].unique()"
      ],
      "metadata": {
        "colab": {
          "base_uri": "https://localhost:8080/"
        },
        "id": "IlGy6-egOMOo",
        "outputId": "d81e4c96-44af-46b4-8a98-2066ab74e309"
      },
      "execution_count": null,
      "outputs": [
        {
          "output_type": "execute_result",
          "data": {
            "text/plain": [
              "array(['Used', 'Reconditioned', 'New'], dtype=object)"
            ]
          },
          "metadata": {},
          "execution_count": 102
        }
      ]
    },
    {
      "cell_type": "code",
      "source": [
        "carset['Transmission'].unique()"
      ],
      "metadata": {
        "colab": {
          "base_uri": "https://localhost:8080/"
        },
        "id": "U1NVNYvlO4CP",
        "outputId": "ef158b0e-ab74-4e8b-86ba-65472ba25004"
      },
      "execution_count": null,
      "outputs": [
        {
          "output_type": "execute_result",
          "data": {
            "text/plain": [
              "array(['Automatic', 'Manual', 'Tiptronic', 'Other transmission'],\n",
              "      dtype=object)"
            ]
          },
          "metadata": {},
          "execution_count": 103
        }
      ]
    },
    {
      "cell_type": "code",
      "source": [
        "carset['Body'].unique()"
      ],
      "metadata": {
        "colab": {
          "base_uri": "https://localhost:8080/"
        },
        "id": "Vlo018aSPWSX",
        "outputId": "cf452bca-3964-4544-e788-938e04102f4d"
      },
      "execution_count": null,
      "outputs": [
        {
          "output_type": "execute_result",
          "data": {
            "text/plain": [
              "array(['SUV / 4x4', 'Saloon', 'Hatchback', 'MPV', 'Convertible',\n",
              "       'CoupÃ©/Sports', 'Station wagon'], dtype=object)"
            ]
          },
          "metadata": {},
          "execution_count": 104
        }
      ]
    },
    {
      "cell_type": "code",
      "source": [
        "carset['Fuel'].unique()"
      ],
      "metadata": {
        "colab": {
          "base_uri": "https://localhost:8080/"
        },
        "id": "wD8JSp_eQF3v",
        "outputId": "80430fd0-25f6-4992-e50e-16d05deb1ab6"
      },
      "execution_count": null,
      "outputs": [
        {
          "output_type": "execute_result",
          "data": {
            "text/plain": [
              "array(['Hybrid', 'Diesel', 'Petrol', 'CNG', 'Electric', 'Other fuel type'],\n",
              "      dtype=object)"
            ]
          },
          "metadata": {},
          "execution_count": 105
        }
      ]
    },
    {
      "cell_type": "code",
      "source": [
        "carset['Capacity'].unique()"
      ],
      "metadata": {
        "id": "duz3IhVTQZP4"
      },
      "execution_count": null,
      "outputs": []
    },
    {
      "cell_type": "code",
      "source": [
        "carset['Mileage'].unique()\n"
      ],
      "metadata": {
        "id": "9zfQl7BWRUzA"
      },
      "execution_count": null,
      "outputs": []
    },
    {
      "cell_type": "code",
      "source": [
        "carset['Price'].unique()"
      ],
      "metadata": {
        "id": "teTlkoT3R-z3"
      },
      "execution_count": null,
      "outputs": []
    },
    {
      "cell_type": "code",
      "source": [
        "carset['Edition'].unique()"
      ],
      "metadata": {
        "id": "7Xge4PNaSjWP"
      },
      "execution_count": null,
      "outputs": []
    },
    {
      "cell_type": "code",
      "source": [
        ""
      ],
      "metadata": {
        "id": "qRDhy4xcSe3v"
      },
      "execution_count": null,
      "outputs": []
    },
    {
      "cell_type": "markdown",
      "source": [
        "Issues founds\n",
        "\n",
        "\n",
        "\n",
        "1.   *model column looks fine*\n",
        "\n",
        "2.  *the brand column ok*\n",
        "\n",
        "3. year ok\n",
        "4.condition ok\n",
        "5.transmission ok (remove other type)\n",
        "6.body ok \n",
        "7.fuel other types remove\n",
        "8.capacity need to (convert into int values, remove cc ,change into same fromat)\n",
        "9. price change into int format\n",
        "10. milage change into int format\n",
        "\n",
        "11. edition need to change \n",
        "\n",
        "\n",
        "\n",
        "\n",
        "\n",
        "\n",
        "\n"
      ],
      "metadata": {
        "id": "o051KVKWJ5oP"
      }
    },
    {
      "cell_type": "markdown",
      "source": [
        "**bold text**"
      ],
      "metadata": {
        "id": "2L987zyowz8L"
      }
    },
    {
      "cell_type": "code",
      "source": [
        "#creating a backup copy of our dataset\n",
        "backupcarset = carset.copy()"
      ],
      "metadata": {
        "id": "vmE5xLcyw2kL"
      },
      "execution_count": null,
      "outputs": []
    },
    {
      "cell_type": "markdown",
      "source": [
        "Cleaning the data of price column"
      ],
      "metadata": {
        "id": "zzRlwvTeynx1"
      }
    },
    {
      "cell_type": "code",
      "source": [
        "#to remove a data rows carset[carset['Price'] != 'askfor price'] \n",
        "#checking non numeric values from the pricecolumn\n",
        "print(len(carset['Price'].str.isnumeric()))\n",
        "\n",
        "\n"
      ],
      "metadata": {
        "colab": {
          "base_uri": "https://localhost:8080/"
        },
        "id": "c0ZnZkHuyq5q",
        "outputId": "3828fcde-045c-4c84-9443-b36ed61ed368"
      },
      "execution_count": null,
      "outputs": [
        {
          "output_type": "stream",
          "name": "stdout",
          "text": [
            "40531\n"
          ]
        }
      ]
    },
    {
      "cell_type": "code",
      "source": [
        "# removing commas from the price tags and set it into the integer type\n",
        "carset['Price'] = carset['Price'].str.replace(',','').astype(int);"
      ],
      "metadata": {
        "id": "V6GqPvtx0vM7"
      },
      "execution_count": null,
      "outputs": []
    },
    {
      "cell_type": "code",
      "source": [
        "#checking the infor object to check weather dataset is changed or not\n",
        "carset.info()"
      ],
      "metadata": {
        "id": "HeMCHAzs1-F0"
      },
      "execution_count": null,
      "outputs": []
    },
    {
      "cell_type": "markdown",
      "source": [
        "featuring the milage to integer type\n"
      ],
      "metadata": {
        "id": "32KzdaqV4DhM"
      }
    },
    {
      "cell_type": "code",
      "source": [
        "carset['Mileage'].unique()"
      ],
      "metadata": {
        "id": "Z34_tHpq-jE3"
      },
      "execution_count": null,
      "outputs": []
    },
    {
      "cell_type": "code",
      "source": [
        "carset['Mileage'] =carset['Mileage'].str.split(\" \").str.get(0).str.replace(\",\",'').astype(int)"
      ],
      "metadata": {
        "id": "t-QG0hmX3V1O"
      },
      "execution_count": null,
      "outputs": []
    },
    {
      "cell_type": "markdown",
      "source": [
        ""
      ],
      "metadata": {
        "id": "fI4lJHMfGCwd"
      }
    },
    {
      "cell_type": "code",
      "source": [
        "carset.info()"
      ],
      "metadata": {
        "id": "9TgO-_WNDiYt",
        "colab": {
          "base_uri": "https://localhost:8080/"
        },
        "outputId": "853cec61-be6b-48b8-be5d-8aa5f537c536"
      },
      "execution_count": null,
      "outputs": [
        {
          "output_type": "stream",
          "name": "stdout",
          "text": [
            "<class 'pandas.core.frame.DataFrame'>\n",
            "RangeIndex: 40531 entries, 0 to 40530\n",
            "Data columns (total 11 columns):\n",
            " #   Column        Non-Null Count  Dtype \n",
            "---  ------        --------------  ----- \n",
            " 0   Price         40531 non-null  int64 \n",
            " 1   Brand         40531 non-null  object\n",
            " 2   Model         40531 non-null  object\n",
            " 3   Edition       40531 non-null  object\n",
            " 4   Year          40531 non-null  int64 \n",
            " 5   Condition     40531 non-null  object\n",
            " 6   Transmission  40531 non-null  object\n",
            " 7   Body          40531 non-null  object\n",
            " 8   Fuel          40531 non-null  object\n",
            " 9   Capacity      40531 non-null  object\n",
            " 10  Mileage       40531 non-null  int64 \n",
            "dtypes: int64(3), object(8)\n",
            "memory usage: 3.4+ MB\n"
          ]
        }
      ]
    },
    {
      "cell_type": "markdown",
      "source": [
        "brand-edition start"
      ],
      "metadata": {
        "id": "U7VHOHfkGaou"
      }
    },
    {
      "cell_type": "code",
      "source": [
        "print( np.array(pd.unique(carset[['Brand','Edition']].values.ravel('K'))).ndim)\n",
        "\n",
        "df = pd.DataFrame({'Brand' : carset['Brand'],\n",
        "                   'Edition' : carset['Edition']})\n",
        "\n",
        "# print(len(df))\n",
        "# #df.to_csv('brand_edition.csv')\n",
        "# print(len(df.groupby(['Brand']).first()))\n",
        "# #pd.DataFrame(pd.unique(carset[['Brand','Edition']].values.ravel('C')) , columns = ['Brand','Edition'])\n",
        "# print(\"unique\",len(carset['Brand'].unique() ))\n",
        "# df.groupby(['Brand']).first().to_csv(\"car_unique.csv\")\n",
        "carset.pop('Edition')\n",
        "carset.info()"
      ],
      "metadata": {
        "id": "w_zSZGsKGsXx",
        "colab": {
          "base_uri": "https://localhost:8080/"
        },
        "outputId": "5acd18bf-a05d-497c-f661-619a2a8620f7"
      },
      "execution_count": null,
      "outputs": [
        {
          "output_type": "stream",
          "name": "stdout",
          "text": [
            "1\n",
            "<class 'pandas.core.frame.DataFrame'>\n",
            "RangeIndex: 40531 entries, 0 to 40530\n",
            "Data columns (total 10 columns):\n",
            " #   Column        Non-Null Count  Dtype \n",
            "---  ------        --------------  ----- \n",
            " 0   Price         40531 non-null  int64 \n",
            " 1   Brand         40531 non-null  object\n",
            " 2   Model         40531 non-null  object\n",
            " 3   Year          40531 non-null  int64 \n",
            " 4   Condition     40531 non-null  object\n",
            " 5   Transmission  40531 non-null  object\n",
            " 6   Body          40531 non-null  object\n",
            " 7   Fuel          40531 non-null  object\n",
            " 8   Capacity      40531 non-null  object\n",
            " 9   Mileage       40531 non-null  int64 \n",
            "dtypes: int64(3), object(7)\n",
            "memory usage: 3.1+ MB\n"
          ]
        }
      ]
    },
    {
      "cell_type": "markdown",
      "source": [
        "brand edition -end"
      ],
      "metadata": {
        "id": "rmluDcGkGeA9"
      }
    },
    {
      "cell_type": "markdown",
      "source": [
        "capacity"
      ],
      "metadata": {
        "id": "CSyIA30KGhe-"
      }
    },
    {
      "cell_type": "code",
      "source": [
        "carset.info()"
      ],
      "metadata": {
        "id": "5cY_XhpaNsBF",
        "colab": {
          "base_uri": "https://localhost:8080/"
        },
        "outputId": "5e8d9b61-0d1e-45ab-9ff9-331a07c135a5"
      },
      "execution_count": null,
      "outputs": [
        {
          "output_type": "stream",
          "name": "stdout",
          "text": [
            "<class 'pandas.core.frame.DataFrame'>\n",
            "RangeIndex: 40531 entries, 0 to 40530\n",
            "Data columns (total 10 columns):\n",
            " #   Column        Non-Null Count  Dtype \n",
            "---  ------        --------------  ----- \n",
            " 0   Price         40531 non-null  int64 \n",
            " 1   Brand         40531 non-null  object\n",
            " 2   Model         40531 non-null  object\n",
            " 3   Year          40531 non-null  int64 \n",
            " 4   Condition     40531 non-null  object\n",
            " 5   Transmission  40531 non-null  object\n",
            " 6   Body          40531 non-null  object\n",
            " 7   Fuel          40531 non-null  object\n",
            " 8   Capacity      40531 non-null  object\n",
            " 9   Mileage       40531 non-null  int64 \n",
            "dtypes: int64(3), object(7)\n",
            "memory usage: 3.1+ MB\n"
          ]
        }
      ]
    },
    {
      "cell_type": "markdown",
      "source": [
        "capacity"
      ],
      "metadata": {
        "id": "LoFByEdFH_se"
      }
    },
    {
      "cell_type": "code",
      "source": [
        "carset['Capacity'] = carset['Capacity'].str.split(\" \").str.get(0).str.replace(\",\",'').astype(int)"
      ],
      "metadata": {
        "id": "0DsPvXsRSpsQ"
      },
      "execution_count": null,
      "outputs": []
    },
    {
      "cell_type": "markdown",
      "source": [
        "capacity end"
      ],
      "metadata": {
        "id": "9IyYna5MS6mX"
      }
    },
    {
      "cell_type": "code",
      "source": [
        "carset.info()"
      ],
      "metadata": {
        "colab": {
          "base_uri": "https://localhost:8080/"
        },
        "id": "aUZ0EV_DTErX",
        "outputId": "e4fd5079-8fdc-4438-c8ce-13f244d204be"
      },
      "execution_count": null,
      "outputs": [
        {
          "output_type": "stream",
          "name": "stdout",
          "text": [
            "<class 'pandas.core.frame.DataFrame'>\n",
            "Int64Index: 40479 entries, 0 to 40530\n",
            "Data columns (total 10 columns):\n",
            " #   Column        Non-Null Count  Dtype \n",
            "---  ------        --------------  ----- \n",
            " 0   Price         40479 non-null  int64 \n",
            " 1   Brand         40479 non-null  object\n",
            " 2   Model         40479 non-null  object\n",
            " 3   Year          40479 non-null  int64 \n",
            " 4   Condition     40479 non-null  object\n",
            " 5   Transmission  40479 non-null  object\n",
            " 6   Body          40479 non-null  object\n",
            " 7   Fuel          40479 non-null  object\n",
            " 8   Capacity      40479 non-null  int64 \n",
            " 9   Mileage       40479 non-null  int64 \n",
            "dtypes: int64(4), object(6)\n",
            "memory usage: 3.4+ MB\n"
          ]
        }
      ]
    },
    {
      "cell_type": "markdown",
      "source": [
        "featuring the minor changes of fuel and transmission"
      ],
      "metadata": {
        "id": "FoietVA1TSMX"
      }
    },
    {
      "cell_type": "code",
      "source": [
        "carset['Transmission'].unique()"
      ],
      "metadata": {
        "colab": {
          "base_uri": "https://localhost:8080/"
        },
        "id": "XBvXl9lfTm1Y",
        "outputId": "0b32bb56-670b-467e-9515-aedf9b6775c1"
      },
      "execution_count": null,
      "outputs": [
        {
          "output_type": "execute_result",
          "data": {
            "text/plain": [
              "array(['Automatic', 'Manual', 'Tiptronic', 'Other transmission'],\n",
              "      dtype=object)"
            ]
          },
          "metadata": {},
          "execution_count": 141
        }
      ]
    },
    {
      "cell_type": "code",
      "source": [
        "#removing other transmissions\n",
        "carset = carset[carset['Transmission'] != 'Other transmission'] "
      ],
      "metadata": {
        "id": "s1IVfSfqT7uv"
      },
      "execution_count": null,
      "outputs": []
    },
    {
      "cell_type": "code",
      "source": [
        "#check uniques for transmissions\n",
        "carset['Transmission'].unique()"
      ],
      "metadata": {
        "colab": {
          "base_uri": "https://localhost:8080/"
        },
        "id": "qEGDTGLBUaDI",
        "outputId": "dab7a509-87d0-4938-9f7e-ea798e09251d"
      },
      "execution_count": null,
      "outputs": [
        {
          "output_type": "execute_result",
          "data": {
            "text/plain": [
              "array(['Automatic', 'Manual', 'Tiptronic'], dtype=object)"
            ]
          },
          "metadata": {},
          "execution_count": 146
        }
      ]
    },
    {
      "cell_type": "code",
      "source": [
        "#featuring fuel types\n",
        "carset['Fuel'].unique()"
      ],
      "metadata": {
        "colab": {
          "base_uri": "https://localhost:8080/"
        },
        "id": "2cXOOdPgVYfo",
        "outputId": "33605221-d5ba-42d8-e591-11fa48c6a0fe"
      },
      "execution_count": null,
      "outputs": [
        {
          "output_type": "execute_result",
          "data": {
            "text/plain": [
              "array(['Hybrid', 'Diesel', 'Petrol', 'CNG', 'Electric', 'Other fuel type'],\n",
              "      dtype=object)"
            ]
          },
          "metadata": {},
          "execution_count": 147
        }
      ]
    },
    {
      "cell_type": "code",
      "source": [
        "#removing other fuel type\n",
        "carset = carset[carset['Fuel'] != 'Other fuel type'] "
      ],
      "metadata": {
        "id": "pQ6FpO0PVrfH"
      },
      "execution_count": null,
      "outputs": []
    },
    {
      "cell_type": "code",
      "source": [
        "#check unique for fuel type\n",
        "carset['Fuel'].unique()"
      ],
      "metadata": {
        "colab": {
          "base_uri": "https://localhost:8080/"
        },
        "id": "Y94mkrd8V2Y_",
        "outputId": "0f4e27de-fa67-4af0-9b02-f8459d2fd505"
      },
      "execution_count": null,
      "outputs": [
        {
          "output_type": "execute_result",
          "data": {
            "text/plain": [
              "array(['Hybrid', 'Diesel', 'Petrol', 'CNG', 'Electric'], dtype=object)"
            ]
          },
          "metadata": {},
          "execution_count": 149
        }
      ]
    },
    {
      "cell_type": "code",
      "source": [
        "#featuring completed\n",
        "carset.describe()"
      ],
      "metadata": {
        "id": "XMcm35rJWD5P",
        "outputId": "a5be3af9-5399-466f-d099-afada90cbcec",
        "colab": {
          "base_uri": "https://localhost:8080/",
          "height": 329
        }
      },
      "execution_count": null,
      "outputs": [
        {
          "output_type": "execute_result",
          "data": {
            "text/plain": [
              "              Price          Year      Capacity         Mileage\n",
              "count  4.047900e+04  40479.000000  40479.000000    40479.000000\n",
              "mean   9.934406e+06   2009.476568   1555.366017    92102.184367\n",
              "std    1.181827e+07     10.746571    737.306977    74082.445019\n",
              "min    1.500000e+03   1922.000000      1.000000        0.000000\n",
              "25%    3.500000e+06   2007.000000   1000.000000    41860.500000\n",
              "50%    6.250000e+06   2014.000000   1500.000000    79000.000000\n",
              "75%    1.157750e+07   2017.000000   1800.000000   125000.000000\n",
              "max    2.100000e+08   2022.000000  10000.000000  1000000.000000\n",
              "\n",
              "[8 rows x 4 columns]"
            ],
            "text/html": [
              "\n",
              "  <div id=\"df-a4879c6b-b1be-4cb8-8830-4b35b14acde5\">\n",
              "    <div class=\"colab-df-container\">\n",
              "      <div>\n",
              "<style scoped>\n",
              "    .dataframe tbody tr th:only-of-type {\n",
              "        vertical-align: middle;\n",
              "    }\n",
              "\n",
              "    .dataframe tbody tr th {\n",
              "        vertical-align: top;\n",
              "    }\n",
              "\n",
              "    .dataframe thead th {\n",
              "        text-align: right;\n",
              "    }\n",
              "</style>\n",
              "<table border=\"1\" class=\"dataframe\">\n",
              "  <thead>\n",
              "    <tr style=\"text-align: right;\">\n",
              "      <th></th>\n",
              "      <th>Price</th>\n",
              "      <th>Year</th>\n",
              "      <th>Capacity</th>\n",
              "      <th>Mileage</th>\n",
              "    </tr>\n",
              "  </thead>\n",
              "  <tbody>\n",
              "    <tr>\n",
              "      <th>count</th>\n",
              "      <td>4.047900e+04</td>\n",
              "      <td>40479.000000</td>\n",
              "      <td>40479.000000</td>\n",
              "      <td>40479.000000</td>\n",
              "    </tr>\n",
              "    <tr>\n",
              "      <th>mean</th>\n",
              "      <td>9.934406e+06</td>\n",
              "      <td>2009.476568</td>\n",
              "      <td>1555.366017</td>\n",
              "      <td>92102.184367</td>\n",
              "    </tr>\n",
              "    <tr>\n",
              "      <th>std</th>\n",
              "      <td>1.181827e+07</td>\n",
              "      <td>10.746571</td>\n",
              "      <td>737.306977</td>\n",
              "      <td>74082.445019</td>\n",
              "    </tr>\n",
              "    <tr>\n",
              "      <th>min</th>\n",
              "      <td>1.500000e+03</td>\n",
              "      <td>1922.000000</td>\n",
              "      <td>1.000000</td>\n",
              "      <td>0.000000</td>\n",
              "    </tr>\n",
              "    <tr>\n",
              "      <th>25%</th>\n",
              "      <td>3.500000e+06</td>\n",
              "      <td>2007.000000</td>\n",
              "      <td>1000.000000</td>\n",
              "      <td>41860.500000</td>\n",
              "    </tr>\n",
              "    <tr>\n",
              "      <th>50%</th>\n",
              "      <td>6.250000e+06</td>\n",
              "      <td>2014.000000</td>\n",
              "      <td>1500.000000</td>\n",
              "      <td>79000.000000</td>\n",
              "    </tr>\n",
              "    <tr>\n",
              "      <th>75%</th>\n",
              "      <td>1.157750e+07</td>\n",
              "      <td>2017.000000</td>\n",
              "      <td>1800.000000</td>\n",
              "      <td>125000.000000</td>\n",
              "    </tr>\n",
              "    <tr>\n",
              "      <th>max</th>\n",
              "      <td>2.100000e+08</td>\n",
              "      <td>2022.000000</td>\n",
              "      <td>10000.000000</td>\n",
              "      <td>1000000.000000</td>\n",
              "    </tr>\n",
              "  </tbody>\n",
              "</table>\n",
              "<p>8 rows × 4 columns</p>\n",
              "</div>\n",
              "      <button class=\"colab-df-convert\" onclick=\"convertToInteractive('df-a4879c6b-b1be-4cb8-8830-4b35b14acde5')\"\n",
              "              title=\"Convert this dataframe to an interactive table.\"\n",
              "              style=\"display:none;\">\n",
              "        \n",
              "  <svg xmlns=\"http://www.w3.org/2000/svg\" height=\"24px\"viewBox=\"0 0 24 24\"\n",
              "       width=\"24px\">\n",
              "    <path d=\"M0 0h24v24H0V0z\" fill=\"none\"/>\n",
              "    <path d=\"M18.56 5.44l.94 2.06.94-2.06 2.06-.94-2.06-.94-.94-2.06-.94 2.06-2.06.94zm-11 1L8.5 8.5l.94-2.06 2.06-.94-2.06-.94L8.5 2.5l-.94 2.06-2.06.94zm10 10l.94 2.06.94-2.06 2.06-.94-2.06-.94-.94-2.06-.94 2.06-2.06.94z\"/><path d=\"M17.41 7.96l-1.37-1.37c-.4-.4-.92-.59-1.43-.59-.52 0-1.04.2-1.43.59L10.3 9.45l-7.72 7.72c-.78.78-.78 2.05 0 2.83L4 21.41c.39.39.9.59 1.41.59.51 0 1.02-.2 1.41-.59l7.78-7.78 2.81-2.81c.8-.78.8-2.07 0-2.86zM5.41 20L4 18.59l7.72-7.72 1.47 1.35L5.41 20z\"/>\n",
              "  </svg>\n",
              "      </button>\n",
              "      \n",
              "  <style>\n",
              "    .colab-df-container {\n",
              "      display:flex;\n",
              "      flex-wrap:wrap;\n",
              "      gap: 12px;\n",
              "    }\n",
              "\n",
              "    .colab-df-convert {\n",
              "      background-color: #E8F0FE;\n",
              "      border: none;\n",
              "      border-radius: 50%;\n",
              "      cursor: pointer;\n",
              "      display: none;\n",
              "      fill: #1967D2;\n",
              "      height: 32px;\n",
              "      padding: 0 0 0 0;\n",
              "      width: 32px;\n",
              "    }\n",
              "\n",
              "    .colab-df-convert:hover {\n",
              "      background-color: #E2EBFA;\n",
              "      box-shadow: 0px 1px 2px rgba(60, 64, 67, 0.3), 0px 1px 3px 1px rgba(60, 64, 67, 0.15);\n",
              "      fill: #174EA6;\n",
              "    }\n",
              "\n",
              "    [theme=dark] .colab-df-convert {\n",
              "      background-color: #3B4455;\n",
              "      fill: #D2E3FC;\n",
              "    }\n",
              "\n",
              "    [theme=dark] .colab-df-convert:hover {\n",
              "      background-color: #434B5C;\n",
              "      box-shadow: 0px 1px 3px 1px rgba(0, 0, 0, 0.15);\n",
              "      filter: drop-shadow(0px 1px 2px rgba(0, 0, 0, 0.3));\n",
              "      fill: #FFFFFF;\n",
              "    }\n",
              "  </style>\n",
              "\n",
              "      <script>\n",
              "        const buttonEl =\n",
              "          document.querySelector('#df-a4879c6b-b1be-4cb8-8830-4b35b14acde5 button.colab-df-convert');\n",
              "        buttonEl.style.display =\n",
              "          google.colab.kernel.accessAllowed ? 'block' : 'none';\n",
              "\n",
              "        async function convertToInteractive(key) {\n",
              "          const element = document.querySelector('#df-a4879c6b-b1be-4cb8-8830-4b35b14acde5');\n",
              "          const dataTable =\n",
              "            await google.colab.kernel.invokeFunction('convertToInteractive',\n",
              "                                                     [key], {});\n",
              "          if (!dataTable) return;\n",
              "\n",
              "          const docLinkHtml = 'Like what you see? Visit the ' +\n",
              "            '<a target=\"_blank\" href=https://colab.research.google.com/notebooks/data_table.ipynb>data table notebook</a>'\n",
              "            + ' to learn more about interactive tables.';\n",
              "          element.innerHTML = '';\n",
              "          dataTable['output_type'] = 'display_data';\n",
              "          await google.colab.output.renderOutput(dataTable, element);\n",
              "          const docLink = document.createElement('div');\n",
              "          docLink.innerHTML = docLinkHtml;\n",
              "          element.appendChild(docLink);\n",
              "        }\n",
              "      </script>\n",
              "    </div>\n",
              "  </div>\n",
              "  "
            ]
          },
          "metadata": {},
          "execution_count": 99
        }
      ]
    },
    {
      "cell_type": "markdown",
      "source": [
        "Finished Featuring "
      ],
      "metadata": {
        "id": "KASR4lx4WK4V"
      }
    }
  ]
}