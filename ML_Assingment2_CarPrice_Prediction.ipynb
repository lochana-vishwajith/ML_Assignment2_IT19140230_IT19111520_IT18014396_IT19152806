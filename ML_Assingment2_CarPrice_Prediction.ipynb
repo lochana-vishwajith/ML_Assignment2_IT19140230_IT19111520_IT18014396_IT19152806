{
  "cells": [
    {
      "cell_type": "markdown",
      "metadata": {
        "id": "view-in-github",
        "colab_type": "text"
      },
      "source": [
        "<a href=\"https://colab.research.google.com/github/lochana-vishwajith/ML_Assignment2_IT19140230_IT19111520_IT18014396_IT19152806/blob/main/ML_Assingment2_CarPrice_Prediction.ipynb\" target=\"_parent\"><img src=\"https://colab.research.google.com/assets/colab-badge.svg\" alt=\"Open In Colab\"/></a>"
      ]
    },
    {
      "cell_type": "markdown",
      "metadata": {
        "id": "SftHxo1yn46b"
      },
      "source": [
        ""
      ]
    },
    {
      "cell_type": "markdown",
      "metadata": {
        "id": "Ih9X7kFjs9TV"
      },
      "source": [
        "description about the libraries\n",
        "\n",
        "\n",
        "**NumPy**\n",
        "\n",
        "NumPy, which stands for Numerical Python, is a python library that consists of multidimensional array objects and a collection of routines for processing those arrays. Using NumPy, logical and mathematical operations can be performed.\n",
        "\n",
        "**sklearn**\n",
        "\n",
        "Sklearn, which stands for scikit-learn is a python library for machine learning. Sklearn is focuses on machine learning techniques, such as mathematical, statistical, and general-purpose algorithms, which serve as the foundation for many machine learning technologies. The sklearn library includes a number of useful machine learning and statistical modeling methods, such as classification, regression, clustering, and dimensionality reduction.\n"
      ]
    },
    {
      "cell_type": "code",
      "execution_count": null,
      "metadata": {
        "id": "9HETDRHd3wMm"
      },
      "outputs": [],
      "source": [
        "#Importing libraries \n",
        "import pandas as pd\n",
        "import numpy  as np\n",
        "from sklearn import linear_model\n",
        "import sys\n",
        "np.set_printoptions(threshold=sys.maxsize)\n",
        "import seaborn as sns #data visualization"
      ]
    },
    {
      "cell_type": "markdown",
      "metadata": {
        "id": "m5sr6zO-tD6u"
      },
      "source": [
        "importing the code"
      ]
    },
    {
      "cell_type": "code",
      "execution_count": null,
      "metadata": {
        "id": "WepTclhj3pF5"
      },
      "outputs": [],
      "source": [
        "url = 'https://raw.githubusercontent.com/lochana-vishwajith/ML_Assignment2_IT19140230_IT19111520_IT18014396_IT19152806/main/Vehicle%20details.csv'\n",
        "carset = pd.read_csv(url)"
      ]
    },
    {
      "cell_type": "markdown",
      "metadata": {
        "id": "aNU9unK0tKKf"
      },
      "source": [
        "checking the dataset"
      ]
    },
    {
      "cell_type": "code",
      "execution_count": null,
      "metadata": {
        "colab": {
          "base_uri": "https://localhost:8080/",
          "height": 206
        },
        "id": "vjxJAKueoGCe",
        "outputId": "a026e92f-b29c-4ce3-fc19-a95f51319b7c"
      },
      "outputs": [
        {
          "output_type": "execute_result",
          "data": {
            "text/plain": [
              "        Price   Brand               Model          Edition  Year Condition  \\\n",
              "0  12,900,000   Honda               Vezel          Limited  2017      Used   \n",
              "1  16,250,000  Jaguar                  XF     Fully Loaded  2013      Used   \n",
              "2  17,000,000  Toyota                 CHR  GT New Face 2wd  2020      Used   \n",
              "3  13,000,000  Toyota                 CHR           Toyato  2017      Used   \n",
              "4  33,500,000  Toyota  Land Cruiser Prado            prado  2015      Used   \n",
              "\n",
              "  Transmission       Body    Fuel  Capacity    Mileage  \n",
              "0    Automatic  SUV / 4x4  Hybrid  1,500 cc  37,000 km  \n",
              "1    Automatic     Saloon  Diesel  2,200 cc  42,000 km  \n",
              "2    Automatic  SUV / 4x4  Petrol  1,200 cc  15,000 km  \n",
              "3    Automatic  SUV / 4x4  Petrol  1,200 cc  21,000 km  \n",
              "4    Automatic  SUV / 4x4  Petrol  2,700 cc  57,000 km  "
            ],
            "text/html": [
              "\n",
              "  <div id=\"df-6cdc202c-b63e-4cd6-9b6d-60adb206f425\">\n",
              "    <div class=\"colab-df-container\">\n",
              "      <div>\n",
              "<style scoped>\n",
              "    .dataframe tbody tr th:only-of-type {\n",
              "        vertical-align: middle;\n",
              "    }\n",
              "\n",
              "    .dataframe tbody tr th {\n",
              "        vertical-align: top;\n",
              "    }\n",
              "\n",
              "    .dataframe thead th {\n",
              "        text-align: right;\n",
              "    }\n",
              "</style>\n",
              "<table border=\"1\" class=\"dataframe\">\n",
              "  <thead>\n",
              "    <tr style=\"text-align: right;\">\n",
              "      <th></th>\n",
              "      <th>Price</th>\n",
              "      <th>Brand</th>\n",
              "      <th>Model</th>\n",
              "      <th>Edition</th>\n",
              "      <th>Year</th>\n",
              "      <th>Condition</th>\n",
              "      <th>Transmission</th>\n",
              "      <th>Body</th>\n",
              "      <th>Fuel</th>\n",
              "      <th>Capacity</th>\n",
              "      <th>Mileage</th>\n",
              "    </tr>\n",
              "  </thead>\n",
              "  <tbody>\n",
              "    <tr>\n",
              "      <th>0</th>\n",
              "      <td>12,900,000</td>\n",
              "      <td>Honda</td>\n",
              "      <td>Vezel</td>\n",
              "      <td>Limited</td>\n",
              "      <td>2017</td>\n",
              "      <td>Used</td>\n",
              "      <td>Automatic</td>\n",
              "      <td>SUV / 4x4</td>\n",
              "      <td>Hybrid</td>\n",
              "      <td>1,500 cc</td>\n",
              "      <td>37,000 km</td>\n",
              "    </tr>\n",
              "    <tr>\n",
              "      <th>1</th>\n",
              "      <td>16,250,000</td>\n",
              "      <td>Jaguar</td>\n",
              "      <td>XF</td>\n",
              "      <td>Fully Loaded</td>\n",
              "      <td>2013</td>\n",
              "      <td>Used</td>\n",
              "      <td>Automatic</td>\n",
              "      <td>Saloon</td>\n",
              "      <td>Diesel</td>\n",
              "      <td>2,200 cc</td>\n",
              "      <td>42,000 km</td>\n",
              "    </tr>\n",
              "    <tr>\n",
              "      <th>2</th>\n",
              "      <td>17,000,000</td>\n",
              "      <td>Toyota</td>\n",
              "      <td>CHR</td>\n",
              "      <td>GT New Face 2wd</td>\n",
              "      <td>2020</td>\n",
              "      <td>Used</td>\n",
              "      <td>Automatic</td>\n",
              "      <td>SUV / 4x4</td>\n",
              "      <td>Petrol</td>\n",
              "      <td>1,200 cc</td>\n",
              "      <td>15,000 km</td>\n",
              "    </tr>\n",
              "    <tr>\n",
              "      <th>3</th>\n",
              "      <td>13,000,000</td>\n",
              "      <td>Toyota</td>\n",
              "      <td>CHR</td>\n",
              "      <td>Toyato</td>\n",
              "      <td>2017</td>\n",
              "      <td>Used</td>\n",
              "      <td>Automatic</td>\n",
              "      <td>SUV / 4x4</td>\n",
              "      <td>Petrol</td>\n",
              "      <td>1,200 cc</td>\n",
              "      <td>21,000 km</td>\n",
              "    </tr>\n",
              "    <tr>\n",
              "      <th>4</th>\n",
              "      <td>33,500,000</td>\n",
              "      <td>Toyota</td>\n",
              "      <td>Land Cruiser Prado</td>\n",
              "      <td>prado</td>\n",
              "      <td>2015</td>\n",
              "      <td>Used</td>\n",
              "      <td>Automatic</td>\n",
              "      <td>SUV / 4x4</td>\n",
              "      <td>Petrol</td>\n",
              "      <td>2,700 cc</td>\n",
              "      <td>57,000 km</td>\n",
              "    </tr>\n",
              "  </tbody>\n",
              "</table>\n",
              "</div>\n",
              "      <button class=\"colab-df-convert\" onclick=\"convertToInteractive('df-6cdc202c-b63e-4cd6-9b6d-60adb206f425')\"\n",
              "              title=\"Convert this dataframe to an interactive table.\"\n",
              "              style=\"display:none;\">\n",
              "        \n",
              "  <svg xmlns=\"http://www.w3.org/2000/svg\" height=\"24px\"viewBox=\"0 0 24 24\"\n",
              "       width=\"24px\">\n",
              "    <path d=\"M0 0h24v24H0V0z\" fill=\"none\"/>\n",
              "    <path d=\"M18.56 5.44l.94 2.06.94-2.06 2.06-.94-2.06-.94-.94-2.06-.94 2.06-2.06.94zm-11 1L8.5 8.5l.94-2.06 2.06-.94-2.06-.94L8.5 2.5l-.94 2.06-2.06.94zm10 10l.94 2.06.94-2.06 2.06-.94-2.06-.94-.94-2.06-.94 2.06-2.06.94z\"/><path d=\"M17.41 7.96l-1.37-1.37c-.4-.4-.92-.59-1.43-.59-.52 0-1.04.2-1.43.59L10.3 9.45l-7.72 7.72c-.78.78-.78 2.05 0 2.83L4 21.41c.39.39.9.59 1.41.59.51 0 1.02-.2 1.41-.59l7.78-7.78 2.81-2.81c.8-.78.8-2.07 0-2.86zM5.41 20L4 18.59l7.72-7.72 1.47 1.35L5.41 20z\"/>\n",
              "  </svg>\n",
              "      </button>\n",
              "      \n",
              "  <style>\n",
              "    .colab-df-container {\n",
              "      display:flex;\n",
              "      flex-wrap:wrap;\n",
              "      gap: 12px;\n",
              "    }\n",
              "\n",
              "    .colab-df-convert {\n",
              "      background-color: #E8F0FE;\n",
              "      border: none;\n",
              "      border-radius: 50%;\n",
              "      cursor: pointer;\n",
              "      display: none;\n",
              "      fill: #1967D2;\n",
              "      height: 32px;\n",
              "      padding: 0 0 0 0;\n",
              "      width: 32px;\n",
              "    }\n",
              "\n",
              "    .colab-df-convert:hover {\n",
              "      background-color: #E2EBFA;\n",
              "      box-shadow: 0px 1px 2px rgba(60, 64, 67, 0.3), 0px 1px 3px 1px rgba(60, 64, 67, 0.15);\n",
              "      fill: #174EA6;\n",
              "    }\n",
              "\n",
              "    [theme=dark] .colab-df-convert {\n",
              "      background-color: #3B4455;\n",
              "      fill: #D2E3FC;\n",
              "    }\n",
              "\n",
              "    [theme=dark] .colab-df-convert:hover {\n",
              "      background-color: #434B5C;\n",
              "      box-shadow: 0px 1px 3px 1px rgba(0, 0, 0, 0.15);\n",
              "      filter: drop-shadow(0px 1px 2px rgba(0, 0, 0, 0.3));\n",
              "      fill: #FFFFFF;\n",
              "    }\n",
              "  </style>\n",
              "\n",
              "      <script>\n",
              "        const buttonEl =\n",
              "          document.querySelector('#df-6cdc202c-b63e-4cd6-9b6d-60adb206f425 button.colab-df-convert');\n",
              "        buttonEl.style.display =\n",
              "          google.colab.kernel.accessAllowed ? 'block' : 'none';\n",
              "\n",
              "        async function convertToInteractive(key) {\n",
              "          const element = document.querySelector('#df-6cdc202c-b63e-4cd6-9b6d-60adb206f425');\n",
              "          const dataTable =\n",
              "            await google.colab.kernel.invokeFunction('convertToInteractive',\n",
              "                                                     [key], {});\n",
              "          if (!dataTable) return;\n",
              "\n",
              "          const docLinkHtml = 'Like what you see? Visit the ' +\n",
              "            '<a target=\"_blank\" href=https://colab.research.google.com/notebooks/data_table.ipynb>data table notebook</a>'\n",
              "            + ' to learn more about interactive tables.';\n",
              "          element.innerHTML = '';\n",
              "          dataTable['output_type'] = 'display_data';\n",
              "          await google.colab.output.renderOutput(dataTable, element);\n",
              "          const docLink = document.createElement('div');\n",
              "          docLink.innerHTML = docLinkHtml;\n",
              "          element.appendChild(docLink);\n",
              "        }\n",
              "      </script>\n",
              "    </div>\n",
              "  </div>\n",
              "  "
            ]
          },
          "metadata": {},
          "execution_count": 5
        }
      ],
      "source": [
        "#Viewing the dataset\n",
        "carset.head() "
      ]
    },
    {
      "cell_type": "code",
      "execution_count": null,
      "metadata": {
        "colab": {
          "base_uri": "https://localhost:8080/"
        },
        "id": "681VtIsPnWgg",
        "outputId": "3b934e9d-6b24-4408-d09f-0304e601657b"
      },
      "outputs": [
        {
          "output_type": "execute_result",
          "data": {
            "text/plain": [
              "(40531, 11)"
            ]
          },
          "metadata": {},
          "execution_count": 6
        }
      ],
      "source": [
        "carset.shape #Deriving the shape"
      ]
    },
    {
      "cell_type": "code",
      "execution_count": null,
      "metadata": {
        "colab": {
          "base_uri": "https://localhost:8080/"
        },
        "id": "Q_8mdxGQoEit",
        "outputId": "a5d55f85-32ef-4000-ce3b-baf2aacfc225"
      },
      "outputs": [
        {
          "output_type": "stream",
          "name": "stdout",
          "text": [
            "<class 'pandas.core.frame.DataFrame'>\n",
            "RangeIndex: 40531 entries, 0 to 40530\n",
            "Data columns (total 11 columns):\n",
            " #   Column        Non-Null Count  Dtype \n",
            "---  ------        --------------  ----- \n",
            " 0   Price         40531 non-null  object\n",
            " 1   Brand         40531 non-null  object\n",
            " 2   Model         40531 non-null  object\n",
            " 3   Edition       40531 non-null  object\n",
            " 4   Year          40531 non-null  int64 \n",
            " 5   Condition     40531 non-null  object\n",
            " 6   Transmission  40531 non-null  object\n",
            " 7   Body          40531 non-null  object\n",
            " 8   Fuel          40531 non-null  object\n",
            " 9   Capacity      40531 non-null  object\n",
            " 10  Mileage       40531 non-null  object\n",
            "dtypes: int64(1), object(10)\n",
            "memory usage: 3.4+ MB\n"
          ]
        }
      ],
      "source": [
        "carset.info() #Information on dataset"
      ]
    },
    {
      "cell_type": "markdown",
      "metadata": {
        "id": "e3u0gSunphle"
      },
      "source": [
        "Featuring the dataset "
      ]
    },
    {
      "cell_type": "code",
      "execution_count": null,
      "metadata": {
        "colab": {
          "base_uri": "https://localhost:8080/"
        },
        "id": "IjXT4_Qgo_y3",
        "outputId": "48be606c-cfb7-4bf3-8635-ac809352a8a6"
      },
      "outputs": [
        {
          "output_type": "execute_result",
          "data": {
            "text/plain": [
              "array([2017, 2013, 2020, 2015, 2018, 2016, 1995, 2007, 2012, 2010, 1985,\n",
              "       2008, 2019, 2003, 2014, 1999, 2011, 1982, 1989, 2006, 2009, 2005,\n",
              "       1993, 1990, 1988, 2004, 1981, 1983, 1979, 2002, 1991, 2000, 1996,\n",
              "       2001, 1997, 1984, 2021, 1998, 1978, 1987, 1986, 1992, 1994, 1960,\n",
              "       1975, 1958, 1980, 1976, 1956, 1959, 1953, 1967, 1973, 1972, 1955,\n",
              "       1946, 1968, 1961, 1969, 1970, 1974, 1966, 1977, 1971, 1947, 1963,\n",
              "       1964, 1945, 1952, 1965, 1957, 1935, 1938, 1950, 1962, 1922, 2022,\n",
              "       1951])"
            ]
          },
          "metadata": {},
          "execution_count": 8
        }
      ],
      "source": [
        "#finding the unique values available in the year\n",
        "carset['Year'].unique()\n",
        "#year column is ok "
      ]
    },
    {
      "cell_type": "code",
      "execution_count": null,
      "metadata": {
        "colab": {
          "base_uri": "https://localhost:8080/"
        },
        "id": "agQZcaaPs8DP",
        "outputId": "7f0118cc-c07e-47d2-e114-58c61cbe4ae4"
      },
      "outputs": [
        {
          "output_type": "execute_result",
          "data": {
            "text/plain": [
              "2516"
            ]
          },
          "metadata": {},
          "execution_count": 9
        }
      ],
      "source": [
        "# finding the unique values in price\n",
        "len(carset['Price'].unique())"
      ]
    },
    {
      "cell_type": "code",
      "execution_count": null,
      "metadata": {
        "colab": {
          "base_uri": "https://localhost:8080/"
        },
        "id": "70tooAfMt8Gv",
        "outputId": "ee75eb5b-24fd-479b-8689-8f4df4467604"
      },
      "outputs": [
        {
          "output_type": "execute_result",
          "data": {
            "text/plain": [
              "14106"
            ]
          },
          "metadata": {},
          "execution_count": 10
        }
      ],
      "source": [
        "len(carset['Edition'].unique())"
      ]
    },
    {
      "cell_type": "markdown",
      "metadata": {
        "id": "JjnCV5P3wfx2"
      },
      "source": [
        "some of the data has been supressed we cannot have a look on them so need to enable options to see them as well."
      ]
    },
    {
      "cell_type": "code",
      "execution_count": null,
      "metadata": {
        "id": "iEfrWqmW-GBe"
      },
      "outputs": [],
      "source": [
        "from os import truncate\n",
        "#display.show_dimensions set\n",
        "pd.set_option('display.show_dimensions',True)"
      ]
    },
    {
      "cell_type": "code",
      "execution_count": null,
      "metadata": {
        "colab": {
          "base_uri": "https://localhost:8080/"
        },
        "id": "qVq2m1Ti-a2e",
        "outputId": "7c0c5dd4-9fba-4957-ba22-2b38a52f256f"
      },
      "outputs": [
        {
          "output_type": "execute_result",
          "data": {
            "text/plain": [
              "True"
            ]
          },
          "metadata": {},
          "execution_count": 19
        }
      ],
      "source": [
        "#display.show_dimensions\n",
        "pd.get_option('display.show_dimensions')"
      ]
    },
    {
      "cell_type": "markdown",
      "metadata": {
        "id": "ugvrXEjp0wmi"
      },
      "source": [
        ""
      ]
    },
    {
      "cell_type": "markdown",
      "metadata": {
        "id": "_LHDZwjtywFx"
      },
      "source": [
        "checking out the options selected correctly or not"
      ]
    },
    {
      "cell_type": "code",
      "execution_count": null,
      "metadata": {
        "id": "AEdx_MDPyvpQ"
      },
      "outputs": [],
      "source": [
        "carset['Edition'].unique()"
      ]
    },
    {
      "cell_type": "code",
      "execution_count": null,
      "metadata": {
        "colab": {
          "base_uri": "https://localhost:8080/"
        },
        "id": "mn0-_OIW1goR",
        "outputId": "eed2bd21-8512-40d3-fbad-cabbea5cae87"
      },
      "outputs": [
        {
          "output_type": "execute_result",
          "data": {
            "text/plain": [
              "60"
            ]
          },
          "metadata": {},
          "execution_count": 21
        }
      ],
      "source": [
        "len(carset['Brand'].unique())"
      ]
    },
    {
      "cell_type": "code",
      "execution_count": null,
      "metadata": {
        "colab": {
          "base_uri": "https://localhost:8080/"
        },
        "id": "GwHtI4ZV9e8v",
        "outputId": "4f55cd68-7dc3-4f01-d070-44969aff43f4"
      },
      "outputs": [
        {
          "output_type": "execute_result",
          "data": {
            "text/plain": [
              "numpy.ndarray"
            ]
          },
          "metadata": {},
          "execution_count": 22
        }
      ],
      "source": [
        "type(carset['Edition'].unique())"
      ]
    },
    {
      "cell_type": "code",
      "execution_count": null,
      "metadata": {
        "id": "J3QSjTVkFU4m"
      },
      "outputs": [],
      "source": [
        "print(carset['Edition'].unique())"
      ]
    },
    {
      "cell_type": "code",
      "execution_count": null,
      "metadata": {
        "colab": {
          "base_uri": "https://localhost:8080/"
        },
        "id": "1J9Pakou91R2",
        "outputId": "ff4bba12-bb9f-4e97-f321-a2df4754ae1e"
      },
      "outputs": [
        {
          "output_type": "stream",
          "name": "stdout",
          "text": [
            "14106\n"
          ]
        }
      ],
      "source": [
        "\n",
        "print(len(carset['Edition'].unique()))"
      ]
    },
    {
      "cell_type": "code",
      "execution_count": null,
      "metadata": {
        "id": "-LAqZc_WGBaY"
      },
      "outputs": [],
      "source": [
        "carset['Brand'].unique()"
      ]
    },
    {
      "cell_type": "code",
      "execution_count": null,
      "metadata": {
        "id": "sB2RBNqiLann"
      },
      "outputs": [],
      "source": [
        "carset['Model'].unique()"
      ]
    },
    {
      "cell_type": "code",
      "execution_count": null,
      "metadata": {
        "id": "zK_EsnVBLwUn"
      },
      "outputs": [],
      "source": [
        "carset['Year'].unique()"
      ]
    },
    {
      "cell_type": "code",
      "execution_count": null,
      "metadata": {
        "id": "Nog0CN5CMPRP"
      },
      "outputs": [],
      "source": [
        "carset['Year'].unique()"
      ]
    },
    {
      "cell_type": "code",
      "execution_count": null,
      "metadata": {
        "colab": {
          "base_uri": "https://localhost:8080/"
        },
        "id": "IlGy6-egOMOo",
        "outputId": "e1650311-5a0f-40c4-cafb-b704ee3621ba"
      },
      "outputs": [
        {
          "output_type": "execute_result",
          "data": {
            "text/plain": [
              "array(['Used', 'Reconditioned', 'New'], dtype=object)"
            ]
          },
          "metadata": {},
          "execution_count": 29
        }
      ],
      "source": [
        "carset['Condition'].unique()"
      ]
    },
    {
      "cell_type": "code",
      "execution_count": null,
      "metadata": {
        "colab": {
          "base_uri": "https://localhost:8080/"
        },
        "id": "U1NVNYvlO4CP",
        "outputId": "fcb0079c-0826-4318-de66-f809bc4b40b8"
      },
      "outputs": [
        {
          "output_type": "execute_result",
          "data": {
            "text/plain": [
              "array(['Automatic', 'Manual', 'Tiptronic', 'Other transmission'],\n",
              "      dtype=object)"
            ]
          },
          "metadata": {},
          "execution_count": 30
        }
      ],
      "source": [
        "carset['Transmission'].unique()"
      ]
    },
    {
      "cell_type": "code",
      "execution_count": null,
      "metadata": {
        "colab": {
          "base_uri": "https://localhost:8080/"
        },
        "id": "Vlo018aSPWSX",
        "outputId": "663ab18e-9a1d-40bf-b0b2-9e742203bbac"
      },
      "outputs": [
        {
          "output_type": "execute_result",
          "data": {
            "text/plain": [
              "array(['SUV / 4x4', 'Saloon', 'Hatchback', 'MPV', 'Convertible',\n",
              "       'CoupÃ©/Sports', 'Station wagon'], dtype=object)"
            ]
          },
          "metadata": {},
          "execution_count": 31
        }
      ],
      "source": [
        "carset['Body'].unique()"
      ]
    },
    {
      "cell_type": "code",
      "execution_count": null,
      "metadata": {
        "colab": {
          "base_uri": "https://localhost:8080/"
        },
        "id": "wD8JSp_eQF3v",
        "outputId": "86d09507-f8e0-4323-96ef-fb50aa071af5"
      },
      "outputs": [
        {
          "output_type": "execute_result",
          "data": {
            "text/plain": [
              "array(['Hybrid', 'Diesel', 'Petrol', 'CNG', 'Electric', 'Other fuel type'],\n",
              "      dtype=object)"
            ]
          },
          "metadata": {},
          "execution_count": 32
        }
      ],
      "source": [
        "carset['Fuel'].unique()"
      ]
    },
    {
      "cell_type": "code",
      "execution_count": null,
      "metadata": {
        "id": "duz3IhVTQZP4"
      },
      "outputs": [],
      "source": [
        "carset['Capacity'].unique()"
      ]
    },
    {
      "cell_type": "code",
      "execution_count": null,
      "metadata": {
        "id": "9zfQl7BWRUzA"
      },
      "outputs": [],
      "source": [
        "carset['Mileage'].unique()\n"
      ]
    },
    {
      "cell_type": "code",
      "execution_count": null,
      "metadata": {
        "id": "teTlkoT3R-z3"
      },
      "outputs": [],
      "source": [
        "carset['Price'].unique()"
      ]
    },
    {
      "cell_type": "code",
      "execution_count": null,
      "metadata": {
        "id": "7Xge4PNaSjWP"
      },
      "outputs": [],
      "source": [
        "carset['Edition'].unique()"
      ]
    },
    {
      "cell_type": "markdown",
      "metadata": {
        "id": "o051KVKWJ5oP"
      },
      "source": [
        "Feature Set Findings\n",
        "\n",
        "\n",
        "\n",
        "1.   *model column ok*\n",
        "\n",
        "2.  *the brand column ok*\n",
        "\n",
        "3. year ok\n",
        "4.condition ok\n",
        "5.transmission ok (remove other type)\n",
        "6.body ok \n",
        "7.fuel other types remove\n",
        "8.capacity need to (convert into int values, remove cc ,change into same fromat)\n",
        "9. price change into int format\n",
        "10. milage change into int format\n",
        "\n",
        "11. edition need to change \n",
        "\n",
        "\n",
        "\n",
        "\n",
        "\n",
        "\n",
        "\n"
      ]
    },
    {
      "cell_type": "code",
      "execution_count": null,
      "metadata": {
        "id": "vmE5xLcyw2kL"
      },
      "outputs": [],
      "source": [
        "#creating a backup copy of our dataset\n",
        "backupcarset = carset.copy()"
      ]
    },
    {
      "cell_type": "markdown",
      "metadata": {
        "id": "zzRlwvTeynx1"
      },
      "source": [
        "Cleaning the data of price column"
      ]
    },
    {
      "cell_type": "code",
      "execution_count": null,
      "metadata": {
        "colab": {
          "base_uri": "https://localhost:8080/"
        },
        "id": "c0ZnZkHuyq5q",
        "outputId": "24b199d0-a5e0-46cf-e379-4e639edf00e2"
      },
      "outputs": [
        {
          "output_type": "stream",
          "name": "stdout",
          "text": [
            "40531\n"
          ]
        }
      ],
      "source": [
        "\n",
        "#checking numeric values from the price column\n",
        "print(len(carset['Price'].str.isnumeric()))\n",
        "\n",
        "\n"
      ]
    },
    {
      "cell_type": "code",
      "source": [
        "#checking numeric values from the mileage column\n",
        "print(len(carset['Mileage'].str.isnumeric()))"
      ],
      "metadata": {
        "colab": {
          "base_uri": "https://localhost:8080/"
        },
        "id": "lGlVrtWMsSlg",
        "outputId": "521b1ce9-3654-4703-cf36-436f24241bae"
      },
      "execution_count": null,
      "outputs": [
        {
          "output_type": "stream",
          "name": "stdout",
          "text": [
            "40531\n"
          ]
        }
      ]
    },
    {
      "cell_type": "code",
      "execution_count": null,
      "metadata": {
        "id": "V6GqPvtx0vM7"
      },
      "outputs": [],
      "source": [
        "# removing commas from the price tags and set it into the integer type\n",
        "carset['Price'] = carset['Price'].str.replace(',','').astype(int);"
      ]
    },
    {
      "cell_type": "code",
      "execution_count": null,
      "metadata": {
        "id": "HeMCHAzs1-F0"
      },
      "outputs": [],
      "source": [
        "#checking the infor object to check weather dataset is changed or not\n",
        "carset.info()"
      ]
    },
    {
      "cell_type": "markdown",
      "metadata": {
        "id": "32KzdaqV4DhM"
      },
      "source": [
        "featuring the milage to integer type\n"
      ]
    },
    {
      "cell_type": "code",
      "execution_count": null,
      "metadata": {
        "id": "Z34_tHpq-jE3"
      },
      "outputs": [],
      "source": [
        "carset['Mileage'].unique()"
      ]
    },
    {
      "cell_type": "code",
      "execution_count": null,
      "metadata": {
        "id": "t-QG0hmX3V1O"
      },
      "outputs": [],
      "source": [
        "carset['Mileage'] =carset['Mileage'].str.split(\" \").str.get(0).str.replace(\",\",'').astype(int)"
      ]
    },
    {
      "cell_type": "markdown",
      "metadata": {
        "id": "fI4lJHMfGCwd"
      },
      "source": [
        ""
      ]
    },
    {
      "cell_type": "code",
      "execution_count": null,
      "metadata": {
        "id": "9TgO-_WNDiYt"
      },
      "outputs": [],
      "source": [
        "carset.info()"
      ]
    },
    {
      "cell_type": "markdown",
      "metadata": {
        "id": "U7VHOHfkGaou"
      },
      "source": [
        "brand-edition start"
      ]
    },
    {
      "cell_type": "code",
      "execution_count": null,
      "metadata": {
        "id": "w_zSZGsKGsXx"
      },
      "outputs": [],
      "source": [
        "print( np.array(pd.unique(carset[['Brand','Edition']].values.ravel('K'))).ndim)\n",
        "\n",
        "df = pd.DataFrame({'Brand' : carset['Brand'],\n",
        "                   'Edition' : carset['Edition']})\n",
        "carset.pop('Edition')\n",
        "carset.info()"
      ]
    },
    {
      "cell_type": "markdown",
      "metadata": {
        "id": "rmluDcGkGeA9"
      },
      "source": [
        "brand edition -end"
      ]
    },
    {
      "cell_type": "markdown",
      "metadata": {
        "id": "CSyIA30KGhe-"
      },
      "source": [
        "capacity"
      ]
    },
    {
      "cell_type": "code",
      "execution_count": null,
      "metadata": {
        "id": "0DsPvXsRSpsQ"
      },
      "outputs": [],
      "source": [
        "carset['Capacity'] = carset['Capacity'].str.split(\" \").str.get(0).str.replace(\",\",'').astype(int)"
      ]
    },
    {
      "cell_type": "markdown",
      "metadata": {
        "id": "9IyYna5MS6mX"
      },
      "source": [
        "capacity end"
      ]
    },
    {
      "cell_type": "code",
      "execution_count": null,
      "metadata": {
        "id": "aUZ0EV_DTErX"
      },
      "outputs": [],
      "source": [
        "carset.info()"
      ]
    },
    {
      "cell_type": "markdown",
      "metadata": {
        "id": "FoietVA1TSMX"
      },
      "source": [
        "featuring the minor changes of fuel and transmission"
      ]
    },
    {
      "cell_type": "code",
      "execution_count": null,
      "metadata": {
        "colab": {
          "base_uri": "https://localhost:8080/"
        },
        "id": "XBvXl9lfTm1Y",
        "outputId": "978f33d1-39b0-4b9a-e766-6df8d211af56"
      },
      "outputs": [
        {
          "output_type": "execute_result",
          "data": {
            "text/plain": [
              "array(['Automatic', 'Manual', 'Tiptronic', 'Other transmission'],\n",
              "      dtype=object)"
            ]
          },
          "metadata": {},
          "execution_count": 49
        }
      ],
      "source": [
        "carset['Transmission'].unique()"
      ]
    },
    {
      "cell_type": "code",
      "execution_count": null,
      "metadata": {
        "id": "s1IVfSfqT7uv"
      },
      "outputs": [],
      "source": [
        "#removing other transmissions\n",
        "carset = carset[carset['Transmission'] != 'Other transmission'] "
      ]
    },
    {
      "cell_type": "code",
      "execution_count": null,
      "metadata": {
        "colab": {
          "base_uri": "https://localhost:8080/"
        },
        "id": "qEGDTGLBUaDI",
        "outputId": "391e000f-7d8c-4af8-93db-ef438e62a0a7"
      },
      "outputs": [
        {
          "output_type": "execute_result",
          "data": {
            "text/plain": [
              "array(['Automatic', 'Manual', 'Tiptronic'], dtype=object)"
            ]
          },
          "metadata": {},
          "execution_count": 51
        }
      ],
      "source": [
        "#check uniques for transmissions\n",
        "carset['Transmission'].unique()"
      ]
    },
    {
      "cell_type": "code",
      "execution_count": null,
      "metadata": {
        "colab": {
          "base_uri": "https://localhost:8080/"
        },
        "id": "2cXOOdPgVYfo",
        "outputId": "dfaad61e-f062-44e0-9d31-43fe8221a418"
      },
      "outputs": [
        {
          "output_type": "execute_result",
          "data": {
            "text/plain": [
              "array(['Hybrid', 'Diesel', 'Petrol', 'CNG', 'Electric', 'Other fuel type'],\n",
              "      dtype=object)"
            ]
          },
          "metadata": {},
          "execution_count": 52
        }
      ],
      "source": [
        "#featuring fuel types\n",
        "carset['Fuel'].unique()"
      ]
    },
    {
      "cell_type": "code",
      "execution_count": null,
      "metadata": {
        "id": "pQ6FpO0PVrfH"
      },
      "outputs": [],
      "source": [
        "#removing other fuel type\n",
        "carset = carset[carset['Fuel'] != 'Other fuel type'] "
      ]
    },
    {
      "cell_type": "code",
      "execution_count": null,
      "metadata": {
        "colab": {
          "base_uri": "https://localhost:8080/"
        },
        "id": "Y94mkrd8V2Y_",
        "outputId": "4e1ca47a-94c9-468e-ed61-9b95042ccd3d"
      },
      "outputs": [
        {
          "output_type": "execute_result",
          "data": {
            "text/plain": [
              "array(['Hybrid', 'Diesel', 'Petrol', 'CNG', 'Electric'], dtype=object)"
            ]
          },
          "metadata": {},
          "execution_count": 54
        }
      ],
      "source": [
        "#check unique for fuel type\n",
        "carset['Fuel'].unique()"
      ]
    },
    {
      "cell_type": "code",
      "execution_count": null,
      "metadata": {
        "id": "XMcm35rJWD5P",
        "colab": {
          "base_uri": "https://localhost:8080/"
        },
        "outputId": "9664a5e3-9ddd-40ce-a735-5b5061dcce0b"
      },
      "outputs": [
        {
          "output_type": "stream",
          "name": "stdout",
          "text": [
            "              Price          Year      Capacity         Mileage\n",
            "count  4.006700e+04  40067.000000  40067.000000    40067.000000\n",
            "mean   9.981771e+06   2009.755559   1552.358450    91833.186088\n",
            "std    1.181099e+07     10.126559    710.523134    73321.145265\n",
            "min    2.100000e+05   1971.000000     70.000000        0.000000\n",
            "25%    3.575000e+06   2007.000000   1000.000000    41900.000000\n",
            "50%    6.300000e+06   2014.000000   1500.000000    79000.000000\n",
            "75%    1.165000e+07   2017.000000   1800.000000   125000.000000\n",
            "max    2.100000e+08   2022.000000   4999.000000  1000000.000000\n",
            "\n",
            "[8 rows x 4 columns]\n"
          ]
        }
      ],
      "source": [
        "#summery of feature set\n",
        "print(carset.describe())"
      ]
    },
    {
      "cell_type": "code",
      "source": [
        "#Viariation of price according to different features\n",
        "sns.jointplot(carset['Mileage'], carset['Price'])"
      ],
      "metadata": {
        "colab": {
          "base_uri": "https://localhost:8080/",
          "height": 513
        },
        "id": "4ZJmBMw52lV7",
        "outputId": "6c8eca57-bbbe-471d-8bd0-cb184ac5a3e3"
      },
      "execution_count": null,
      "outputs": [
        {
          "output_type": "stream",
          "name": "stderr",
          "text": [
            "/usr/local/lib/python3.7/dist-packages/seaborn/_decorators.py:43: FutureWarning: Pass the following variables as keyword args: x, y. From version 0.12, the only valid positional argument will be `data`, and passing other arguments without an explicit keyword will result in an error or misinterpretation.\n",
            "  FutureWarning\n"
          ]
        },
        {
          "output_type": "execute_result",
          "data": {
            "text/plain": [
              "<seaborn.axisgrid.JointGrid at 0x7f684008f950>"
            ]
          },
          "metadata": {},
          "execution_count": 96
        },
        {
          "output_type": "display_data",
          "data": {
            "text/plain": [
              "<Figure size 432x432 with 3 Axes>"
            ],
            "image/png": "[encoded data removed]"
          },
          "metadata": {
            "needs_background": "light"
          }
        }
      ]
    },
    {
      "cell_type": "code",
      "source": [
        "sns.jointplot(carset['Brand'], carset['Price'])"
      ],
      "metadata": {
        "colab": {
          "base_uri": "https://localhost:8080/",
          "height": 513
        },
        "id": "vUZoTu7SC6T2",
        "outputId": "80216412-9746-4ac8-ed07-ff0c34372f25"
      },
      "execution_count": null,
      "outputs": [
        {
          "output_type": "stream",
          "name": "stderr",
          "text": [
            "/usr/local/lib/python3.7/dist-packages/seaborn/_decorators.py:43: FutureWarning: Pass the following variables as keyword args: x, y. From version 0.12, the only valid positional argument will be `data`, and passing other arguments without an explicit keyword will result in an error or misinterpretation.\n",
            "  FutureWarning\n"
          ]
        },
        {
          "output_type": "execute_result",
          "data": {
            "text/plain": [
              "<seaborn.axisgrid.JointGrid at 0x7f76cafa4950>"
            ]
          },
          "metadata": {},
          "execution_count": 91
        },
        {
          "output_type": "display_data",
          "data": {
            "text/plain": [
              "<Figure size 432x432 with 3 Axes>"
            ],
            "image/png": "[encoded data removed]"
          },
          "metadata": {
            "needs_background": "light"
          }
        }
      ]
    },
    {
      "cell_type": "code",
      "source": [
        "sns.jointplot(carset['Capacity'], carset['Price'])"
      ],
      "metadata": {
        "colab": {
          "base_uri": "https://localhost:8080/",
          "height": 513
        },
        "id": "VDyjgVRvC_2n",
        "outputId": "a9e7d96b-da8c-4240-f803-5cae5257a1ee"
      },
      "execution_count": null,
      "outputs": [
        {
          "output_type": "stream",
          "name": "stderr",
          "text": [
            "/usr/local/lib/python3.7/dist-packages/seaborn/_decorators.py:43: FutureWarning: Pass the following variables as keyword args: x, y. From version 0.12, the only valid positional argument will be `data`, and passing other arguments without an explicit keyword will result in an error or misinterpretation.\n",
            "  FutureWarning\n"
          ]
        },
        {
          "output_type": "execute_result",
          "data": {
            "text/plain": [
              "<seaborn.axisgrid.JointGrid at 0x7f76ce115950>"
            ]
          },
          "metadata": {},
          "execution_count": 92
        },
        {
          "output_type": "display_data",
          "data": {
            "text/plain": [
              "<Figure size 432x432 with 3 Axes>"
            ],
            "image/png": "[encoded data removed]"
          },
          "metadata": {
            "needs_background": "light"
          }
        }
      ]
    },
    {
      "cell_type": "code",
      "source": [
        "sns.jointplot(carset['Model'], carset['Price'])"
      ],
      "metadata": {
        "colab": {
          "base_uri": "https://localhost:8080/",
          "height": 458
        },
        "id": "2r1rB9KxDD92",
        "outputId": "7528acd8-e976-4362-8c1d-25a2bbeb7615"
      },
      "execution_count": null,
      "outputs": [
        {
          "output_type": "execute_result",
          "data": {
            "text/plain": [
              "<seaborn.axisgrid.JointGrid at 0x7f76cd33a8d0>"
            ]
          },
          "metadata": {},
          "execution_count": 93
        },
        {
          "output_type": "display_data",
          "data": {
            "text/plain": [
              "<Figure size 432x432 with 3 Axes>"
            ],
            "image/png": "[encoded data removed]"
          },
          "metadata": {
            "needs_background": "light"
          }
        }
      ]
    },
    {
      "cell_type": "code",
      "source": [
        "sns.jointplot(carset['Year'], carset['Price'])"
      ],
      "metadata": {
        "colab": {
          "base_uri": "https://localhost:8080/",
          "height": 513
        },
        "id": "Tu8NQCpDDFzD",
        "outputId": "fa726d42-9617-444a-cf30-b44ea720fa4c"
      },
      "execution_count": null,
      "outputs": [
        {
          "output_type": "stream",
          "name": "stderr",
          "text": [
            "/usr/local/lib/python3.7/dist-packages/seaborn/_decorators.py:43: FutureWarning: Pass the following variables as keyword args: x, y. From version 0.12, the only valid positional argument will be `data`, and passing other arguments without an explicit keyword will result in an error or misinterpretation.\n",
            "  FutureWarning\n"
          ]
        },
        {
          "output_type": "execute_result",
          "data": {
            "text/plain": [
              "<seaborn.axisgrid.JointGrid at 0x7f76caf5ce50>"
            ]
          },
          "metadata": {},
          "execution_count": 94
        },
        {
          "output_type": "display_data",
          "data": {
            "text/plain": [
              "<Figure size 432x432 with 3 Axes>"
            ],
            "image/png": "[encoded data removed]"
          },
          "metadata": {
            "needs_background": "light"
          }
        }
      ]
    },
    {
      "cell_type": "code",
      "source": [
        "sns.jointplot(carset['Condition'], carset['Price'])"
      ],
      "metadata": {
        "colab": {
          "base_uri": "https://localhost:8080/",
          "height": 513
        },
        "id": "VEfkwPgKDGQ1",
        "outputId": "d07247ad-fb01-4020-b463-685a257f7d21"
      },
      "execution_count": null,
      "outputs": [
        {
          "output_type": "stream",
          "name": "stderr",
          "text": [
            "/usr/local/lib/python3.7/dist-packages/seaborn/_decorators.py:43: FutureWarning: Pass the following variables as keyword args: x, y. From version 0.12, the only valid positional argument will be `data`, and passing other arguments without an explicit keyword will result in an error or misinterpretation.\n",
            "  FutureWarning\n"
          ]
        },
        {
          "output_type": "execute_result",
          "data": {
            "text/plain": [
              "<seaborn.axisgrid.JointGrid at 0x7f76caff5450>"
            ]
          },
          "metadata": {},
          "execution_count": 95
        },
        {
          "output_type": "display_data",
          "data": {
            "text/plain": [
              "<Figure size 432x432 with 3 Axes>"
            ],
            "image/png": "[encoded data removed]"
          },
          "metadata": {
            "needs_background": "light"
          }
        }
      ]
    },
    {
      "cell_type": "code",
      "source": [
        "sns.jointplot(carset['Transmission'], carset['Price'])"
      ],
      "metadata": {
        "colab": {
          "base_uri": "https://localhost:8080/",
          "height": 513
        },
        "id": "LO3BatXbDPgS",
        "outputId": "46c089e4-c092-48fd-95d0-3bc177267b96"
      },
      "execution_count": null,
      "outputs": [
        {
          "output_type": "stream",
          "name": "stderr",
          "text": [
            "/usr/local/lib/python3.7/dist-packages/seaborn/_decorators.py:43: FutureWarning: Pass the following variables as keyword args: x, y. From version 0.12, the only valid positional argument will be `data`, and passing other arguments without an explicit keyword will result in an error or misinterpretation.\n",
            "  FutureWarning\n"
          ]
        },
        {
          "output_type": "execute_result",
          "data": {
            "text/plain": [
              "<seaborn.axisgrid.JointGrid at 0x7f76ca414910>"
            ]
          },
          "metadata": {},
          "execution_count": 96
        },
        {
          "output_type": "display_data",
          "data": {
            "text/plain": [
              "<Figure size 432x432 with 3 Axes>"
            ],
            "image/png": "[encoded data removed]"
          },
          "metadata": {
            "needs_background": "light"
          }
        }
      ]
    },
    {
      "cell_type": "code",
      "source": [
        "sns.jointplot(carset['Body'], carset['Price'])"
      ],
      "metadata": {
        "colab": {
          "base_uri": "https://localhost:8080/",
          "height": 515
        },
        "id": "S_wHcbUHDQX3",
        "outputId": "0414282b-aa7c-44d0-ed9b-93123c25f99f"
      },
      "execution_count": null,
      "outputs": [
        {
          "output_type": "stream",
          "name": "stderr",
          "text": [
            "/usr/local/lib/python3.7/dist-packages/seaborn/_decorators.py:43: FutureWarning: Pass the following variables as keyword args: x, y. From version 0.12, the only valid positional argument will be `data`, and passing other arguments without an explicit keyword will result in an error or misinterpretation.\n",
            "  FutureWarning\n"
          ]
        },
        {
          "output_type": "execute_result",
          "data": {
            "text/plain": [
              "<seaborn.axisgrid.JointGrid at 0x7f76c7c52090>"
            ]
          },
          "metadata": {},
          "execution_count": 97
        },
        {
          "output_type": "display_data",
          "data": {
            "text/plain": [
              "<Figure size 432x432 with 3 Axes>"
            ],
            "image/png": "[encoded data removed]"
          },
          "metadata": {
            "needs_background": "light"
          }
        }
      ]
    },
    {
      "cell_type": "code",
      "source": [
        "sns.jointplot(carset['Fuel'], carset['Price'])"
      ],
      "metadata": {
        "colab": {
          "base_uri": "https://localhost:8080/",
          "height": 513
        },
        "id": "y_PxboqyDRY7",
        "outputId": "d764956b-1f11-45e9-caf8-14acfe1fc9e3"
      },
      "execution_count": null,
      "outputs": [
        {
          "output_type": "stream",
          "name": "stderr",
          "text": [
            "/usr/local/lib/python3.7/dist-packages/seaborn/_decorators.py:43: FutureWarning: Pass the following variables as keyword args: x, y. From version 0.12, the only valid positional argument will be `data`, and passing other arguments without an explicit keyword will result in an error or misinterpretation.\n",
            "  FutureWarning\n"
          ]
        },
        {
          "output_type": "execute_result",
          "data": {
            "text/plain": [
              "<seaborn.axisgrid.JointGrid at 0x7f76ca456f10>"
            ]
          },
          "metadata": {},
          "execution_count": 98
        },
        {
          "output_type": "display_data",
          "data": {
            "text/plain": [
              "<Figure size 432x432 with 3 Axes>"
            ],
            "image/png": "[encoded data removed]"
          },
          "metadata": {
            "needs_background": "light"
          }
        }
      ]
    },
    {
      "cell_type": "markdown",
      "metadata": {
        "id": "pOYH2WpgZyOC"
      },
      "source": [
        "removing the "
      ]
    },
    {
      "cell_type": "code",
      "execution_count": null,
      "metadata": {
        "id": "h_ht1oes41OS"
      },
      "outputs": [],
      "source": [
        "# removing the other brand from dataset\n",
        "carset = carset[carset['Brand'] != 'Other brand']\n"
      ]
    },
    {
      "cell_type": "code",
      "execution_count": null,
      "metadata": {
        "id": "wgxwagVh53tV"
      },
      "outputs": [],
      "source": [
        "#Removing other models from the Model column\n",
        "carset =carset[carset['Model'] != 'Other model']"
      ]
    },
    {
      "cell_type": "code",
      "execution_count": null,
      "metadata": {
        "id": "kcq65BJZ8C-K"
      },
      "outputs": [],
      "source": [
        "#Removing less than 200000 priced vehicles from the dataset\n",
        "carset  = carset[carset['Price'] > 200000]"
      ]
    },
    {
      "cell_type": "code",
      "execution_count": null,
      "metadata": {
        "id": "H_T_-Ra79i6d"
      },
      "outputs": [],
      "source": [
        "carset"
      ]
    },
    {
      "cell_type": "code",
      "execution_count": null,
      "metadata": {
        "id": "TtO4UeAh-N5c"
      },
      "outputs": [],
      "source": [
        "#checking info of dataset\n",
        "carset.info()"
      ]
    },
    {
      "cell_type": "code",
      "execution_count": null,
      "metadata": {
        "id": "xsbMWySuAYK0"
      },
      "outputs": [],
      "source": [
        "#removing vehicles which are older than 1980 since less the outlier values and less down the dispersion of the data\n",
        "carset = carset[carset['Year'] > 1970]"
      ]
    },
    {
      "cell_type": "code",
      "execution_count": null,
      "metadata": {
        "id": "NBY2iTEfBjkL"
      },
      "outputs": [],
      "source": [
        "#capacity removing capacities less than 70 since the capacity of a electric vehicle is 70 or 80\n",
        "carset = carset[carset['Capacity'] > 69]"
      ]
    },
    {
      "cell_type": "code",
      "execution_count": null,
      "metadata": {
        "id": "bGrLVKm6FS1m"
      },
      "outputs": [],
      "source": [
        "#removing vehicles which are capacity graeter than 5000\n",
        "carset = carset[carset['Capacity']  < 5000]"
      ]
    },
    {
      "cell_type": "code",
      "execution_count": null,
      "metadata": {
        "id": "dKabGN_v_iRL",
        "colab": {
          "base_uri": "https://localhost:8080/"
        },
        "outputId": "be067f57-e73d-4dca-de64-ffe04d598108"
      },
      "outputs": [
        {
          "output_type": "stream",
          "name": "stdout",
          "text": [
            "              Price          Year      Capacity         Mileage\n",
            "count  4.006700e+04  40067.000000  40067.000000    40067.000000\n",
            "mean   9.981771e+06   2009.755559   1552.358450    91833.186088\n",
            "std    1.181099e+07     10.126559    710.523134    73321.145265\n",
            "min    2.100000e+05   1971.000000     70.000000        0.000000\n",
            "25%    3.575000e+06   2007.000000   1000.000000    41900.000000\n",
            "50%    6.300000e+06   2014.000000   1500.000000    79000.000000\n",
            "75%    1.165000e+07   2017.000000   1800.000000   125000.000000\n",
            "max    2.100000e+08   2022.000000   4999.000000  1000000.000000\n",
            "\n",
            "[8 rows x 4 columns]\n"
          ]
        }
      ],
      "source": [
        "print(carset.describe())"
      ]
    },
    {
      "cell_type": "code",
      "execution_count": null,
      "metadata": {
        "id": "C7RMr43paJnT"
      },
      "outputs": [],
      "source": [
        "#carset.to_csv(\"car_feature_end.csv\")"
      ]
    },
    {
      "cell_type": "markdown",
      "metadata": {
        "id": "l7MWNpNSJjAF"
      },
      "source": [
        "finished featuring"
      ]
    },
    {
      "cell_type": "markdown",
      "metadata": {
        "id": "D53l7EjSJSrM"
      },
      "source": [
        "Implementation of the Model"
      ]
    },
    {
      "cell_type": "code",
      "execution_count": null,
      "metadata": {
        "id": "r2BJjp6LIIf0"
      },
      "outputs": [],
      "source": [
        "X = carset.drop(columns='Price')\n",
        "y = carset['Price']"
      ]
    },
    {
      "cell_type": "code",
      "execution_count": null,
      "metadata": {
        "id": "sBMlCb3gL4Y0"
      },
      "outputs": [],
      "source": [
        "y"
      ]
    },
    {
      "cell_type": "code",
      "execution_count": null,
      "metadata": {
        "id": "XjMDmEoFLWhE"
      },
      "outputs": [],
      "source": [
        "X"
      ]
    },
    {
      "cell_type": "markdown",
      "metadata": {
        "id": "WjS8hPzEKmWE"
      },
      "source": [
        "test size is set as 0.2 or 20% from the total dataset"
      ]
    },
    {
      "cell_type": "code",
      "execution_count": null,
      "metadata": {
        "id": "jtXfqQURJlU0"
      },
      "outputs": [],
      "source": [
        "# sklearn\n",
        "from sklearn.model_selection import train_test_split\n",
        "X_train, X_test, y_train, y_test = train_test_split(X,y, test_size =0.2)"
      ]
    },
    {
      "cell_type": "code",
      "execution_count": null,
      "metadata": {
        "id": "lSMzRteBLQ_m"
      },
      "outputs": [],
      "source": [
        "from sklearn.linear_model import LinearRegression\n",
        "from sklearn.metrics import r2_score\n",
        "from sklearn.preprocessing import OneHotEncoder\n",
        "from sklearn.compose import make_column_transformer\n",
        "from sklearn.pipeline import make_pipeline"
      ]
    },
    {
      "cell_type": "code",
      "execution_count": null,
      "metadata": {
        "colab": {
          "base_uri": "https://localhost:8080/"
        },
        "id": "lHNYQy6lOaJ9",
        "outputId": "af211fdc-6fdd-4b9f-f8e6-287ac476d7b2"
      },
      "outputs": [
        {
          "output_type": "execute_result",
          "data": {
            "text/plain": [
              "OneHotEncoder()"
            ]
          },
          "metadata": {},
          "execution_count": 72
        }
      ],
      "source": [
        "ohe = OneHotEncoder()\n",
        "ohe.fit(X[['Brand', 'Model', 'Year', 'Condition' ,'Transmission', 'Body', 'Fuel', 'Capacity', 'Mileage']])"
      ]
    },
    {
      "cell_type": "code",
      "execution_count": null,
      "metadata": {
        "id": "VouFgCNpUs6X"
      },
      "outputs": [],
      "source": [
        "ohe.categories_"
      ]
    },
    {
      "cell_type": "code",
      "execution_count": null,
      "metadata": {
        "id": "sgpvGW9rQQ1J"
      },
      "outputs": [],
      "source": [
        "column_trans = make_column_transformer((OneHotEncoder(categories=ohe.categories_),['Brand', 'Model', 'Year', 'Condition' ,'Transmission', 'Body', 'Fuel', 'Capacity', 'Mileage']))"
      ]
    },
    {
      "cell_type": "code",
      "execution_count": null,
      "metadata": {
        "id": "PzOA0xp3QhHZ"
      },
      "outputs": [],
      "source": [
        "lr = LinearRegression()"
      ]
    },
    {
      "cell_type": "code",
      "execution_count": null,
      "metadata": {
        "id": "H8xaCEriQj_Y"
      },
      "outputs": [],
      "source": [
        "pipe = make_pipeline(column_trans,lr)"
      ]
    },
    {
      "cell_type": "code",
      "execution_count": null,
      "metadata": {
        "id": "3KsmoqCPT_hD"
      },
      "outputs": [],
      "source": [
        "pipe.fit(X_train,y_train)"
      ]
    },
    {
      "cell_type": "code",
      "execution_count": null,
      "metadata": {
        "id": "JXksxwaQVIlM"
      },
      "outputs": [],
      "source": [
        "y_pred = pipe.predict(X_test)"
      ]
    },
    {
      "cell_type": "code",
      "execution_count": null,
      "metadata": {
        "id": "4hpu3ZUtWtdL"
      },
      "outputs": [],
      "source": [
        "y_pred"
      ]
    },
    {
      "cell_type": "code",
      "execution_count": null,
      "metadata": {
        "colab": {
          "base_uri": "https://localhost:8080/"
        },
        "id": "turjgOL0VyFs",
        "outputId": "dcd61691-6f39-4ec0-985e-0d8f3f8946cc"
      },
      "outputs": [
        {
          "output_type": "execute_result",
          "data": {
            "text/plain": [
              "0.8675879713651061"
            ]
          },
          "metadata": {},
          "execution_count": 80
        }
      ],
      "source": [
        "r2_score(y_test,y_pred)"
      ]
    },
    {
      "cell_type": "code",
      "execution_count": null,
      "metadata": {
        "id": "fOyIrob0YArf"
      },
      "outputs": [],
      "source": [
        "for i in range(10):\n",
        "  X_train,X_test,y_train,y_test = train_test_split(X,y,test_size=0.2)\n",
        "  lr = LinearRegression()\n",
        "  pipe = make_pipeline(column_trans,lr)\n",
        "  pipe.fit(X_train,y_train)\n",
        "  y_pred = pipe.predict(X_test)\n",
        "  print(r2_score(y_test,y_pred), i)"
      ]
    },
    {
      "cell_type": "code",
      "execution_count": null,
      "metadata": {
        "id": "9YexSrviZ2dk"
      },
      "outputs": [],
      "source": [
        "scores = []\n",
        "for i in range(10):\n",
        "  X_train,X_test,y_train,y_test = train_test_split(X,y,test_size=0.2,random_state=i)\n",
        "  lr = LinearRegression()\n",
        "  pipe = make_pipeline(column_trans,lr)\n",
        "  pipe.fit(X_train,y_train)\n",
        "  y_pred = pipe.predict(X_test)\n",
        "  scores.append(r2_score(y_test,y_pred))"
      ]
    },
    {
      "cell_type": "code",
      "execution_count": null,
      "metadata": {
        "colab": {
          "base_uri": "https://localhost:8080/"
        },
        "id": "-OBcH9IJaa78",
        "outputId": "ea1edbc6-2a59-458f-a6b9-9915a9325507"
      },
      "outputs": [
        {
          "output_type": "execute_result",
          "data": {
            "text/plain": [
              "5"
            ]
          },
          "metadata": {},
          "execution_count": 83
        }
      ],
      "source": [
        "np.argmax(scores)"
      ]
    },
    {
      "cell_type": "code",
      "execution_count": null,
      "metadata": {
        "colab": {
          "base_uri": "https://localhost:8080/"
        },
        "id": "EZVwTpHgae_I",
        "outputId": "153ce794-59c5-4a3d-9e2b-6e06f1b24e51"
      },
      "outputs": [
        {
          "output_type": "execute_result",
          "data": {
            "text/plain": [
              "0.8825555326999381"
            ]
          },
          "metadata": {},
          "execution_count": 84
        }
      ],
      "source": [
        "scores[np.argmax(scores)]"
      ]
    },
    {
      "cell_type": "code",
      "execution_count": null,
      "metadata": {
        "id": "A4lvskpbajkD"
      },
      "outputs": [],
      "source": [
        "  X_train,X_test,y_train,y_test = train_test_split(X,y,test_size=0.2,random_state=np.argmax(scores))\n",
        "  lr = LinearRegression()\n",
        "  pipe = make_pipeline(column_trans,lr)\n",
        "  pipe.fit(X_train,y_train)\n",
        "  y_pred = pipe.predict(X_test)\n"
      ]
    },
    {
      "cell_type": "code",
      "source": [
        ""
      ],
      "metadata": {
        "id": "5m6w-QysDad8"
      },
      "execution_count": null,
      "outputs": []
    },
    {
      "cell_type": "code",
      "execution_count": null,
      "metadata": {
        "id": "x-gbhZiKbwCf"
      },
      "outputs": [],
      "source": [
        "import pickle"
      ]
    },
    {
      "cell_type": "code",
      "execution_count": null,
      "metadata": {
        "id": "q_ZsaPLKb1td"
      },
      "outputs": [],
      "source": [
        "pickle.dump(pipe,open('LinearRegressionModel.pkl','wb'))"
      ]
    },
    {
      "cell_type": "code",
      "execution_count": null,
      "metadata": {
        "colab": {
          "base_uri": "https://localhost:8080/"
        },
        "id": "5lsfRzi0cFXc",
        "outputId": "36847cb9-7254-4f5d-d1c0-66d8d34f44d8"
      },
      "outputs": [
        {
          "output_type": "execute_result",
          "data": {
            "text/plain": [
              "array([3797324.44067756])"
            ]
          },
          "metadata": {},
          "execution_count": 88
        }
      ],
      "source": [
        "pipe.predict(pd.DataFrame([['Toyota','Yaris', 2007, 'Used' ,'Automatic', 'Saloon', 'Petrol', 1300, 90000]],columns=['Brand', 'Model', 'Year', 'Condition' ,'Transmission', 'Body', 'Fuel', 'Capacity', 'Mileage']))"
      ]
    },
    {
      "cell_type": "code",
      "execution_count": null,
      "metadata": {
        "colab": {
          "base_uri": "https://localhost:8080/"
        },
        "id": "rRgXDdB6gire",
        "outputId": "394b6e14-4d2c-431d-9345-a37f0a83c2d5"
      },
      "outputs": [
        {
          "output_type": "execute_result",
          "data": {
            "text/plain": [
              "array([2328340.30021752])"
            ]
          },
          "metadata": {},
          "execution_count": 89
        }
      ],
      "source": [
        "pipe.predict(pd.DataFrame([['Ford','Laser', 2000, 'Used' ,'Manual', 'Saloon', 'Petrol', 1500, 190000]],columns=['Brand', 'Model', 'Year', 'Condition' ,'Transmission', 'Body', 'Fuel', 'Capacity', 'Mileage']))"
      ]
    },
    {
      "cell_type": "code",
      "execution_count": null,
      "metadata": {
        "colab": {
          "base_uri": "https://localhost:8080/"
        },
        "id": "y5dXXDdug0n6",
        "outputId": "f0de2f97-807f-46e7-8f9d-02055961fbf0"
      },
      "outputs": [
        {
          "output_type": "execute_result",
          "data": {
            "text/plain": [
              "array([15234036.51806885])"
            ]
          },
          "metadata": {},
          "execution_count": 90
        }
      ],
      "source": [
        "pipe.predict(pd.DataFrame([['Mitsubishi','Montero', 2012, 'Used' ,'Tiptronic', 'SUV / 4x4', 'Diesel', 2600, 90000]],columns=['Brand', 'Model', 'Year', 'Condition' ,'Transmission', 'Body', 'Fuel', 'Capacity', 'Mileage']))"
      ]
    },
    {
      "cell_type": "markdown",
      "metadata": {
        "id": "8c0llEPOJRmd"
      },
      "source": [
        ""
      ]
    },
    {
      "cell_type": "markdown",
      "metadata": {
        "id": "KASR4lx4WK4V"
      },
      "source": [
        "Finished"
      ]
    }
  ],
  "metadata": {
    "colab": {
      "collapsed_sections": [],
      "name": "ML_Assingment2_CarPrice_Prediction",
      "provenance": [],
      "toc_visible": true,
      "include_colab_link": true
    },
    "kernelspec": {
      "display_name": "Python 3",
      "name": "python3"
    },
    "language_info": {
      "name": "python"
    }
  },
  "nbformat": 4,
  "nbformat_minor": 0
}