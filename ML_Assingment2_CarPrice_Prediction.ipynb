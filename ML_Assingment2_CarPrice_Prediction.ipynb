{
  "nbformat": 4,
  "nbformat_minor": 0,
  "metadata": {
    "colab": {
      "name": "ML_Assingment2_CarPrice_Prediction",
      "provenance": [],
      "collapsed_sections": [],
      "include_colab_link": true
    },
    "kernelspec": {
      "name": "python3",
      "display_name": "Python 3"
    },
    "language_info": {
      "name": "python"
    }
  },
  "cells": [
    {
      "cell_type": "markdown",
      "metadata": {
        "id": "view-in-github",
        "colab_type": "text"
      },
      "source": [
        "<a href=\"https://colab.research.google.com/github/lochana-vishwajith/ML_Assignment2_IT19140230_IT19111520_IT18014396_IT19152806/blob/main/ML_Assingment2_CarPrice_Prediction.ipynb\" target=\"_parent\"><img src=\"https://colab.research.google.com/assets/colab-badge.svg\" alt=\"Open In Colab\"/></a>"
      ]
    },
    {
      "cell_type": "markdown",
      "source": [
        ""
      ],
      "metadata": {
        "id": "SftHxo1yn46b"
      }
    },
    {
      "cell_type": "markdown",
      "source": [
        "description about the libraries\n",
        "\n",
        "\n",
        "**NumPy**\n",
        "\n",
        "NumPy, which stands for Numerical Python, is a python library that consists of multidimensional array objects and a collection of routines for processing those arrays. Using NumPy, logical and mathematical operations can be performed.\n",
        "\n",
        "**sklearn**\n",
        "\n",
        "Sklearn, which stands for scikit-learn is a python library for machine learning. Sklearn is focuses on machine learning techniques, such as mathematical, statistical, and general-purpose algorithms, which serve as the foundation for many machine learning technologies. The sklearn library includes a number of useful machine learning and statistical modeling methods, such as classification, regression, clustering, and dimensionality reduction.\n"
      ],
      "metadata": {
        "id": "Ih9X7kFjs9TV"
      }
    },
    {
      "cell_type": "code",
      "execution_count": null,
      "metadata": {
        "id": "9HETDRHd3wMm"
      },
      "outputs": [],
      "source": [
        "#Importing libraries \n",
        "import pandas as pd\n",
        "import numpy  as np\n",
        "from sklearn import linear_model\n",
        "import sys\n",
        "np.set_printoptions(threshold=sys.maxsize)"
      ]
    },
    {
      "cell_type": "markdown",
      "source": [
        "importing the code"
      ],
      "metadata": {
        "id": "m5sr6zO-tD6u"
      }
    },
    {
      "cell_type": "code",
      "source": [
        "url = 'https://raw.githubusercontent.com/lochana-vishwajith/ML_Assignment2_IT19140230_IT19111520_IT18014396_IT19152806/main/Vehicle%20details.csv'\n",
        "carset = pd.read_csv(url)"
      ],
      "metadata": {
        "id": "WepTclhj3pF5"
      },
      "execution_count": null,
      "outputs": []
    },
    {
      "cell_type": "markdown",
      "source": [
        "checking the dataset"
      ],
      "metadata": {
        "id": "aNU9unK0tKKf"
      }
    },
    {
      "cell_type": "code",
      "source": [
        "carset.head()"
      ],
      "metadata": {
        "colab": {
          "base_uri": "https://localhost:8080/",
          "height": 235
        },
        "id": "vjxJAKueoGCe",
        "outputId": "60d5e316-6f34-4f4a-ef1b-5ce0d4a36cbf"
      },
      "execution_count": null,
      "outputs": [
        {
          "output_type": "execute_result",
          "data": {
            "text/plain": [
              "        Price   Brand               Model          Edition  Year Condition  \\\n",
              "0  12,900,000   Honda               Vezel          Limited  2017      Used   \n",
              "1  16,250,000  Jaguar                  XF     Fully Loaded  2013      Used   \n",
              "2  17,000,000  Toyota                 CHR  GT New Face 2wd  2020      Used   \n",
              "3  13,000,000  Toyota                 CHR           Toyato  2017      Used   \n",
              "4  33,500,000  Toyota  Land Cruiser Prado            prado  2015      Used   \n",
              "\n",
              "  Transmission       Body    Fuel  Capacity    Mileage  \n",
              "0    Automatic  SUV / 4x4  Hybrid  1,500 cc  37,000 km  \n",
              "1    Automatic     Saloon  Diesel  2,200 cc  42,000 km  \n",
              "2    Automatic  SUV / 4x4  Petrol  1,200 cc  15,000 km  \n",
              "3    Automatic  SUV / 4x4  Petrol  1,200 cc  21,000 km  \n",
              "4    Automatic  SUV / 4x4  Petrol  2,700 cc  57,000 km  \n",
              "\n",
              "[5 rows x 11 columns]"
            ],
            "text/html": [
              "\n",
              "  <div id=\"df-5c55eefc-00bf-4149-9305-7d2411daf349\">\n",
              "    <div class=\"colab-df-container\">\n",
              "      <div>\n",
              "<style scoped>\n",
              "    .dataframe tbody tr th:only-of-type {\n",
              "        vertical-align: middle;\n",
              "    }\n",
              "\n",
              "    .dataframe tbody tr th {\n",
              "        vertical-align: top;\n",
              "    }\n",
              "\n",
              "    .dataframe thead th {\n",
              "        text-align: right;\n",
              "    }\n",
              "</style>\n",
              "<table border=\"1\" class=\"dataframe\">\n",
              "  <thead>\n",
              "    <tr style=\"text-align: right;\">\n",
              "      <th></th>\n",
              "      <th>Price</th>\n",
              "      <th>Brand</th>\n",
              "      <th>Model</th>\n",
              "      <th>Edition</th>\n",
              "      <th>Year</th>\n",
              "      <th>Condition</th>\n",
              "      <th>Transmission</th>\n",
              "      <th>Body</th>\n",
              "      <th>Fuel</th>\n",
              "      <th>Capacity</th>\n",
              "      <th>Mileage</th>\n",
              "    </tr>\n",
              "  </thead>\n",
              "  <tbody>\n",
              "    <tr>\n",
              "      <th>0</th>\n",
              "      <td>12,900,000</td>\n",
              "      <td>Honda</td>\n",
              "      <td>Vezel</td>\n",
              "      <td>Limited</td>\n",
              "      <td>2017</td>\n",
              "      <td>Used</td>\n",
              "      <td>Automatic</td>\n",
              "      <td>SUV / 4x4</td>\n",
              "      <td>Hybrid</td>\n",
              "      <td>1,500 cc</td>\n",
              "      <td>37,000 km</td>\n",
              "    </tr>\n",
              "    <tr>\n",
              "      <th>1</th>\n",
              "      <td>16,250,000</td>\n",
              "      <td>Jaguar</td>\n",
              "      <td>XF</td>\n",
              "      <td>Fully Loaded</td>\n",
              "      <td>2013</td>\n",
              "      <td>Used</td>\n",
              "      <td>Automatic</td>\n",
              "      <td>Saloon</td>\n",
              "      <td>Diesel</td>\n",
              "      <td>2,200 cc</td>\n",
              "      <td>42,000 km</td>\n",
              "    </tr>\n",
              "    <tr>\n",
              "      <th>2</th>\n",
              "      <td>17,000,000</td>\n",
              "      <td>Toyota</td>\n",
              "      <td>CHR</td>\n",
              "      <td>GT New Face 2wd</td>\n",
              "      <td>2020</td>\n",
              "      <td>Used</td>\n",
              "      <td>Automatic</td>\n",
              "      <td>SUV / 4x4</td>\n",
              "      <td>Petrol</td>\n",
              "      <td>1,200 cc</td>\n",
              "      <td>15,000 km</td>\n",
              "    </tr>\n",
              "    <tr>\n",
              "      <th>3</th>\n",
              "      <td>13,000,000</td>\n",
              "      <td>Toyota</td>\n",
              "      <td>CHR</td>\n",
              "      <td>Toyato</td>\n",
              "      <td>2017</td>\n",
              "      <td>Used</td>\n",
              "      <td>Automatic</td>\n",
              "      <td>SUV / 4x4</td>\n",
              "      <td>Petrol</td>\n",
              "      <td>1,200 cc</td>\n",
              "      <td>21,000 km</td>\n",
              "    </tr>\n",
              "    <tr>\n",
              "      <th>4</th>\n",
              "      <td>33,500,000</td>\n",
              "      <td>Toyota</td>\n",
              "      <td>Land Cruiser Prado</td>\n",
              "      <td>prado</td>\n",
              "      <td>2015</td>\n",
              "      <td>Used</td>\n",
              "      <td>Automatic</td>\n",
              "      <td>SUV / 4x4</td>\n",
              "      <td>Petrol</td>\n",
              "      <td>2,700 cc</td>\n",
              "      <td>57,000 km</td>\n",
              "    </tr>\n",
              "  </tbody>\n",
              "</table>\n",
              "<p>5 rows × 11 columns</p>\n",
              "</div>\n",
              "      <button class=\"colab-df-convert\" onclick=\"convertToInteractive('df-5c55eefc-00bf-4149-9305-7d2411daf349')\"\n",
              "              title=\"Convert this dataframe to an interactive table.\"\n",
              "              style=\"display:none;\">\n",
              "        \n",
              "  <svg xmlns=\"http://www.w3.org/2000/svg\" height=\"24px\"viewBox=\"0 0 24 24\"\n",
              "       width=\"24px\">\n",
              "    <path d=\"M0 0h24v24H0V0z\" fill=\"none\"/>\n",
              "    <path d=\"M18.56 5.44l.94 2.06.94-2.06 2.06-.94-2.06-.94-.94-2.06-.94 2.06-2.06.94zm-11 1L8.5 8.5l.94-2.06 2.06-.94-2.06-.94L8.5 2.5l-.94 2.06-2.06.94zm10 10l.94 2.06.94-2.06 2.06-.94-2.06-.94-.94-2.06-.94 2.06-2.06.94z\"/><path d=\"M17.41 7.96l-1.37-1.37c-.4-.4-.92-.59-1.43-.59-.52 0-1.04.2-1.43.59L10.3 9.45l-7.72 7.72c-.78.78-.78 2.05 0 2.83L4 21.41c.39.39.9.59 1.41.59.51 0 1.02-.2 1.41-.59l7.78-7.78 2.81-2.81c.8-.78.8-2.07 0-2.86zM5.41 20L4 18.59l7.72-7.72 1.47 1.35L5.41 20z\"/>\n",
              "  </svg>\n",
              "      </button>\n",
              "      \n",
              "  <style>\n",
              "    .colab-df-container {\n",
              "      display:flex;\n",
              "      flex-wrap:wrap;\n",
              "      gap: 12px;\n",
              "    }\n",
              "\n",
              "    .colab-df-convert {\n",
              "      background-color: #E8F0FE;\n",
              "      border: none;\n",
              "      border-radius: 50%;\n",
              "      cursor: pointer;\n",
              "      display: none;\n",
              "      fill: #1967D2;\n",
              "      height: 32px;\n",
              "      padding: 0 0 0 0;\n",
              "      width: 32px;\n",
              "    }\n",
              "\n",
              "    .colab-df-convert:hover {\n",
              "      background-color: #E2EBFA;\n",
              "      box-shadow: 0px 1px 2px rgba(60, 64, 67, 0.3), 0px 1px 3px 1px rgba(60, 64, 67, 0.15);\n",
              "      fill: #174EA6;\n",
              "    }\n",
              "\n",
              "    [theme=dark] .colab-df-convert {\n",
              "      background-color: #3B4455;\n",
              "      fill: #D2E3FC;\n",
              "    }\n",
              "\n",
              "    [theme=dark] .colab-df-convert:hover {\n",
              "      background-color: #434B5C;\n",
              "      box-shadow: 0px 1px 3px 1px rgba(0, 0, 0, 0.15);\n",
              "      filter: drop-shadow(0px 1px 2px rgba(0, 0, 0, 0.3));\n",
              "      fill: #FFFFFF;\n",
              "    }\n",
              "  </style>\n",
              "\n",
              "      <script>\n",
              "        const buttonEl =\n",
              "          document.querySelector('#df-5c55eefc-00bf-4149-9305-7d2411daf349 button.colab-df-convert');\n",
              "        buttonEl.style.display =\n",
              "          google.colab.kernel.accessAllowed ? 'block' : 'none';\n",
              "\n",
              "        async function convertToInteractive(key) {\n",
              "          const element = document.querySelector('#df-5c55eefc-00bf-4149-9305-7d2411daf349');\n",
              "          const dataTable =\n",
              "            await google.colab.kernel.invokeFunction('convertToInteractive',\n",
              "                                                     [key], {});\n",
              "          if (!dataTable) return;\n",
              "\n",
              "          const docLinkHtml = 'Like what you see? Visit the ' +\n",
              "            '<a target=\"_blank\" href=https://colab.research.google.com/notebooks/data_table.ipynb>data table notebook</a>'\n",
              "            + ' to learn more about interactive tables.';\n",
              "          element.innerHTML = '';\n",
              "          dataTable['output_type'] = 'display_data';\n",
              "          await google.colab.output.renderOutput(dataTable, element);\n",
              "          const docLink = document.createElement('div');\n",
              "          docLink.innerHTML = docLinkHtml;\n",
              "          element.appendChild(docLink);\n",
              "        }\n",
              "      </script>\n",
              "    </div>\n",
              "  </div>\n",
              "  "
            ]
          },
          "metadata": {},
          "execution_count": 78
        }
      ]
    },
    {
      "cell_type": "code",
      "source": [
        "carset.shape"
      ],
      "metadata": {
        "colab": {
          "base_uri": "https://localhost:8080/"
        },
        "id": "681VtIsPnWgg",
        "outputId": "8879357e-c0d9-4417-d72f-9d88be419b6a"
      },
      "execution_count": null,
      "outputs": [
        {
          "output_type": "execute_result",
          "data": {
            "text/plain": [
              "(40531, 11)"
            ]
          },
          "metadata": {},
          "execution_count": 79
        }
      ]
    },
    {
      "cell_type": "code",
      "source": [
        "carset.info()"
      ],
      "metadata": {
        "colab": {
          "base_uri": "https://localhost:8080/"
        },
        "id": "Q_8mdxGQoEit",
        "outputId": "2a8e4bcd-b601-45b0-c234-bf758978fd54"
      },
      "execution_count": null,
      "outputs": [
        {
          "output_type": "stream",
          "name": "stdout",
          "text": [
            "<class 'pandas.core.frame.DataFrame'>\n",
            "RangeIndex: 40531 entries, 0 to 40530\n",
            "Data columns (total 11 columns):\n",
            " #   Column        Non-Null Count  Dtype \n",
            "---  ------        --------------  ----- \n",
            " 0   Price         40531 non-null  object\n",
            " 1   Brand         40531 non-null  object\n",
            " 2   Model         40531 non-null  object\n",
            " 3   Edition       40531 non-null  object\n",
            " 4   Year          40531 non-null  int64 \n",
            " 5   Condition     40531 non-null  object\n",
            " 6   Transmission  40531 non-null  object\n",
            " 7   Body          40531 non-null  object\n",
            " 8   Fuel          40531 non-null  object\n",
            " 9   Capacity      40531 non-null  object\n",
            " 10  Mileage       40531 non-null  object\n",
            "dtypes: int64(1), object(10)\n",
            "memory usage: 3.4+ MB\n"
          ]
        }
      ]
    },
    {
      "cell_type": "markdown",
      "source": [
        "Featuring the dataset "
      ],
      "metadata": {
        "id": "e3u0gSunphle"
      }
    },
    {
      "cell_type": "code",
      "source": [
        "#finding the unique values available in the year\n",
        "carset['Year'].unique()\n",
        "#year column is ok "
      ],
      "metadata": {
        "id": "IjXT4_Qgo_y3"
      },
      "execution_count": null,
      "outputs": []
    },
    {
      "cell_type": "code",
      "source": [
        "# finding the unique values in price\n",
        "len(carset['Price'].unique())"
      ],
      "metadata": {
        "colab": {
          "base_uri": "https://localhost:8080/"
        },
        "id": "agQZcaaPs8DP",
        "outputId": "03911b8f-98c7-422b-c50a-80db27e0bc4d"
      },
      "execution_count": null,
      "outputs": [
        {
          "output_type": "execute_result",
          "data": {
            "text/plain": [
              "2516"
            ]
          },
          "metadata": {},
          "execution_count": 82
        }
      ]
    },
    {
      "cell_type": "code",
      "source": [
        "len(carset['Edition'].unique())"
      ],
      "metadata": {
        "colab": {
          "base_uri": "https://localhost:8080/"
        },
        "id": "70tooAfMt8Gv",
        "outputId": "9f8f48f1-b862-4db5-c3c3-77d6206b9157"
      },
      "execution_count": null,
      "outputs": [
        {
          "output_type": "execute_result",
          "data": {
            "text/plain": [
              "14106"
            ]
          },
          "metadata": {},
          "execution_count": 83
        }
      ]
    },
    {
      "cell_type": "markdown",
      "source": [
        "some of the data has been supressed we cannot have a look on them so need to enable options to see them as well."
      ],
      "metadata": {
        "id": "JjnCV5P3wfx2"
      }
    },
    {
      "cell_type": "code",
      "source": [
        "pd.describe_option()"
      ],
      "metadata": {
        "id": "N16LKtOZwodX"
      },
      "execution_count": null,
      "outputs": []
    },
    {
      "cell_type": "markdown",
      "source": [
        "changing the options of the pandas to see all the rows\n"
      ],
      "metadata": {
        "id": "EBzUvFGAx7au"
      }
    },
    {
      "cell_type": "code",
      "source": [
        "pd.get_option('display.max_columns')"
      ],
      "metadata": {
        "id": "keBuNyGLx6fo"
      },
      "execution_count": null,
      "outputs": []
    },
    {
      "cell_type": "code",
      "source": [
        "pd.get_option('display.max_rows')"
      ],
      "metadata": {
        "id": "g34nzT8Uyb04"
      },
      "execution_count": null,
      "outputs": []
    },
    {
      "cell_type": "markdown",
      "source": [
        "changing the properties"
      ],
      "metadata": {
        "id": "JP5Pw5CIyj6W"
      }
    },
    {
      "cell_type": "code",
      "source": [
        "pd.set_option('display.max_rows',None)"
      ],
      "metadata": {
        "id": "ayD0oSBxyoIn"
      },
      "execution_count": null,
      "outputs": []
    },
    {
      "cell_type": "code",
      "source": [
        "pd.set_option('display.max_columns',None)"
      ],
      "metadata": {
        "id": "wMkYVjf30zEX"
      },
      "execution_count": null,
      "outputs": []
    },
    {
      "cell_type": "code",
      "source": [
        "#display.max_seq_items\n",
        "\n",
        "pd.set_option('display.max_colwidth',None)"
      ],
      "metadata": {
        "id": "KbotxUqC8X7d"
      },
      "execution_count": null,
      "outputs": []
    },
    {
      "cell_type": "code",
      "source": [
        "#display.show_dimensions\n",
        "pd.get_option('display.show_dimensions')"
      ],
      "metadata": {
        "colab": {
          "base_uri": "https://localhost:8080/"
        },
        "id": "Ue4jPdNZ92od",
        "outputId": "8b67932d-e2fb-4dd4-d158-25c1a7cb38db"
      },
      "execution_count": null,
      "outputs": [
        {
          "output_type": "execute_result",
          "data": {
            "text/plain": [
              "True"
            ]
          },
          "metadata": {},
          "execution_count": 90
        }
      ]
    },
    {
      "cell_type": "code",
      "source": [
        "from os import truncate\n",
        "#display.show_dimensions set\n",
        "pd.set_option('display.show_dimensions',True)"
      ],
      "metadata": {
        "id": "iEfrWqmW-GBe"
      },
      "execution_count": null,
      "outputs": []
    },
    {
      "cell_type": "code",
      "source": [
        "#display.show_dimensions\n",
        "pd.get_option('display.show_dimensions')"
      ],
      "metadata": {
        "colab": {
          "base_uri": "https://localhost:8080/"
        },
        "id": "qVq2m1Ti-a2e",
        "outputId": "b1ed72a7-6c65-49f4-e162-50b10a57fa16"
      },
      "execution_count": null,
      "outputs": [
        {
          "output_type": "execute_result",
          "data": {
            "text/plain": [
              "True"
            ]
          },
          "metadata": {},
          "execution_count": 92
        }
      ]
    },
    {
      "cell_type": "markdown",
      "source": [
        ""
      ],
      "metadata": {
        "id": "ugvrXEjp0wmi"
      }
    },
    {
      "cell_type": "markdown",
      "source": [
        "checking out the options selected correctly or not"
      ],
      "metadata": {
        "id": "_LHDZwjtywFx"
      }
    },
    {
      "cell_type": "code",
      "source": [
        "carset['Edition'].unique()"
      ],
      "metadata": {
        "id": "AEdx_MDPyvpQ"
      },
      "execution_count": null,
      "outputs": []
    },
    {
      "cell_type": "code",
      "source": [
        "len(carset['Brand'].unique())"
      ],
      "metadata": {
        "id": "mn0-_OIW1goR",
        "colab": {
          "base_uri": "https://localhost:8080/"
        },
        "outputId": "8a799151-a249-43d4-a311-9628b29b24da"
      },
      "execution_count": null,
      "outputs": [
        {
          "output_type": "execute_result",
          "data": {
            "text/plain": [
              "60"
            ]
          },
          "metadata": {},
          "execution_count": 94
        }
      ]
    },
    {
      "cell_type": "code",
      "source": [
        "type(carset['Edition'].unique())"
      ],
      "metadata": {
        "colab": {
          "base_uri": "https://localhost:8080/"
        },
        "id": "GwHtI4ZV9e8v",
        "outputId": "09dcd4c7-93f4-46d8-cba1-1d40d97051b3"
      },
      "execution_count": null,
      "outputs": [
        {
          "output_type": "execute_result",
          "data": {
            "text/plain": [
              "numpy.ndarray"
            ]
          },
          "metadata": {},
          "execution_count": 95
        }
      ]
    },
    {
      "cell_type": "code",
      "source": [
        "print(carset['Edition'].unique())"
      ],
      "metadata": {
        "id": "J3QSjTVkFU4m"
      },
      "execution_count": null,
      "outputs": []
    },
    {
      "cell_type": "code",
      "source": [
        "\n",
        "print(len(carset['Edition'].unique()))"
      ],
      "metadata": {
        "id": "1J9Pakou91R2",
        "colab": {
          "base_uri": "https://localhost:8080/"
        },
        "outputId": "73dec472-6902-4b6f-9c03-848073934846"
      },
      "execution_count": null,
      "outputs": [
        {
          "output_type": "stream",
          "name": "stdout",
          "text": [
            "14106\n"
          ]
        }
      ]
    },
    {
      "cell_type": "markdown",
      "source": [
        "featuring continues\n"
      ],
      "metadata": {
        "id": "VsXVjdk9GCAK"
      }
    },
    {
      "cell_type": "code",
      "source": [
        "carset['Brand'].unique()"
      ],
      "metadata": {
        "id": "-LAqZc_WGBaY"
      },
      "execution_count": null,
      "outputs": []
    },
    {
      "cell_type": "code",
      "source": [
        "carset['Model'].unique()"
      ],
      "metadata": {
        "id": "sB2RBNqiLann"
      },
      "execution_count": null,
      "outputs": []
    },
    {
      "cell_type": "code",
      "source": [
        "carset['Year'].unique()"
      ],
      "metadata": {
        "id": "zK_EsnVBLwUn"
      },
      "execution_count": null,
      "outputs": []
    },
    {
      "cell_type": "code",
      "source": [
        "carset['Year'].unique()"
      ],
      "metadata": {
        "id": "Nog0CN5CMPRP"
      },
      "execution_count": null,
      "outputs": []
    },
    {
      "cell_type": "code",
      "source": [
        "carset['Condition'].unique()"
      ],
      "metadata": {
        "colab": {
          "base_uri": "https://localhost:8080/"
        },
        "id": "IlGy6-egOMOo",
        "outputId": "d81e4c96-44af-46b4-8a98-2066ab74e309"
      },
      "execution_count": null,
      "outputs": [
        {
          "output_type": "execute_result",
          "data": {
            "text/plain": [
              "array(['Used', 'Reconditioned', 'New'], dtype=object)"
            ]
          },
          "metadata": {},
          "execution_count": 102
        }
      ]
    },
    {
      "cell_type": "code",
      "source": [
        "carset['Transmission'].unique()"
      ],
      "metadata": {
        "colab": {
          "base_uri": "https://localhost:8080/"
        },
        "id": "U1NVNYvlO4CP",
        "outputId": "ef158b0e-ab74-4e8b-86ba-65472ba25004"
      },
      "execution_count": null,
      "outputs": [
        {
          "output_type": "execute_result",
          "data": {
            "text/plain": [
              "array(['Automatic', 'Manual', 'Tiptronic', 'Other transmission'],\n",
              "      dtype=object)"
            ]
          },
          "metadata": {},
          "execution_count": 103
        }
      ]
    },
    {
      "cell_type": "code",
      "source": [
        "carset['Body'].unique()"
      ],
      "metadata": {
        "colab": {
          "base_uri": "https://localhost:8080/"
        },
        "id": "Vlo018aSPWSX",
        "outputId": "cf452bca-3964-4544-e788-938e04102f4d"
      },
      "execution_count": null,
      "outputs": [
        {
          "output_type": "execute_result",
          "data": {
            "text/plain": [
              "array(['SUV / 4x4', 'Saloon', 'Hatchback', 'MPV', 'Convertible',\n",
              "       'CoupÃ©/Sports', 'Station wagon'], dtype=object)"
            ]
          },
          "metadata": {},
          "execution_count": 104
        }
      ]
    },
    {
      "cell_type": "code",
      "source": [
        "carset['Fuel'].unique()"
      ],
      "metadata": {
        "colab": {
          "base_uri": "https://localhost:8080/"
        },
        "id": "wD8JSp_eQF3v",
        "outputId": "80430fd0-25f6-4992-e50e-16d05deb1ab6"
      },
      "execution_count": null,
      "outputs": [
        {
          "output_type": "execute_result",
          "data": {
            "text/plain": [
              "array(['Hybrid', 'Diesel', 'Petrol', 'CNG', 'Electric', 'Other fuel type'],\n",
              "      dtype=object)"
            ]
          },
          "metadata": {},
          "execution_count": 105
        }
      ]
    },
    {
      "cell_type": "code",
      "source": [
        "carset['Capacity'].unique()"
      ],
      "metadata": {
        "id": "duz3IhVTQZP4"
      },
      "execution_count": null,
      "outputs": []
    },
    {
      "cell_type": "code",
      "source": [
        "carset['Mileage'].unique()\n"
      ],
      "metadata": {
        "id": "9zfQl7BWRUzA"
      },
      "execution_count": null,
      "outputs": []
    },
    {
      "cell_type": "code",
      "source": [
        "carset['Price'].unique()"
      ],
      "metadata": {
        "id": "teTlkoT3R-z3"
      },
      "execution_count": null,
      "outputs": []
    },
    {
      "cell_type": "code",
      "source": [
        "carset['Edition'].unique()"
      ],
      "metadata": {
        "id": "7Xge4PNaSjWP"
      },
      "execution_count": null,
      "outputs": []
    },
    {
      "cell_type": "code",
      "source": [
        ""
      ],
      "metadata": {
        "id": "qRDhy4xcSe3v"
      },
      "execution_count": null,
      "outputs": []
    },
    {
      "cell_type": "markdown",
      "source": [
        "Issues founds\n",
        "\n",
        "\n",
        "\n",
        "1.   *model column looks fine*\n",
        "\n",
        "2.  *the brand column ok*\n",
        "\n",
        "3. year ok\n",
        "4.condition ok\n",
        "5.transmission ok (remove other type)\n",
        "6.body ok \n",
        "7.fuel other types remove\n",
        "8.capacity need to (convert into int values, remove cc ,change into same fromat)\n",
        "9. price change into int format\n",
        "10. milage change into int format\n",
        "\n",
        "11. edition need to change \n",
        "\n",
        "\n",
        "\n",
        "\n",
        "\n",
        "\n",
        "\n"
      ],
      "metadata": {
        "id": "o051KVKWJ5oP"
      }
    },
    {
      "cell_type": "markdown",
      "source": [
        "**bold text**"
      ],
      "metadata": {
        "id": "2L987zyowz8L"
      }
    },
    {
      "cell_type": "code",
      "source": [
        "#creating a backup copy of our dataset\n",
        "backupcarset = carset.copy()"
      ],
      "metadata": {
        "id": "vmE5xLcyw2kL"
      },
      "execution_count": null,
      "outputs": []
    },
    {
      "cell_type": "markdown",
      "source": [
        "Cleaning the data of price column"
      ],
      "metadata": {
        "id": "zzRlwvTeynx1"
      }
    },
    {
      "cell_type": "code",
      "source": [
        "#to remove a data rows carset[carset['Price'] != 'askfor price'] \n",
        "#checking non numeric values from the pricecolumn\n",
        "print(len(carset['Price'].str.isnumeric()))\n",
        "\n",
        "\n"
      ],
      "metadata": {
        "colab": {
          "base_uri": "https://localhost:8080/"
        },
        "id": "c0ZnZkHuyq5q",
        "outputId": "3828fcde-045c-4c84-9443-b36ed61ed368"
      },
      "execution_count": null,
      "outputs": [
        {
          "output_type": "stream",
          "name": "stdout",
          "text": [
            "40531\n"
          ]
        }
      ]
    },
    {
      "cell_type": "code",
      "source": [
        "# removing commas from the price tags and set it into the integer type\n",
        "carset['Price'] = carset['Price'].str.replace(',','').astype(int);"
      ],
      "metadata": {
        "id": "V6GqPvtx0vM7"
      },
      "execution_count": null,
      "outputs": []
    },
    {
      "cell_type": "code",
      "source": [
        "#checking the infor object to check weather dataset is changed or not\n",
        "carset.info()"
      ],
      "metadata": {
        "id": "HeMCHAzs1-F0"
      },
      "execution_count": null,
      "outputs": []
    },
    {
      "cell_type": "markdown",
      "source": [
        "featuring the milage to integer type\n"
      ],
      "metadata": {
        "id": "32KzdaqV4DhM"
      }
    },
    {
      "cell_type": "code",
      "source": [
        "carset['Mileage'].unique()"
      ],
      "metadata": {
        "id": "Z34_tHpq-jE3"
      },
      "execution_count": null,
      "outputs": []
    },
    {
      "cell_type": "code",
      "source": [
        "carset['Mileage'] =carset['Mileage'].str.split(\" \").str.get(0).str.replace(\",\",'').astype(int)"
      ],
      "metadata": {
        "id": "t-QG0hmX3V1O"
      },
      "execution_count": null,
      "outputs": []
    },
    {
      "cell_type": "markdown",
      "source": [
        ""
      ],
      "metadata": {
        "id": "fI4lJHMfGCwd"
      }
    },
    {
      "cell_type": "code",
      "source": [
        "carset.info()"
      ],
      "metadata": {
        "id": "9TgO-_WNDiYt",
        "colab": {
          "base_uri": "https://localhost:8080/"
        },
        "outputId": "853cec61-be6b-48b8-be5d-8aa5f537c536"
      },
      "execution_count": null,
      "outputs": [
        {
          "output_type": "stream",
          "name": "stdout",
          "text": [
            "<class 'pandas.core.frame.DataFrame'>\n",
            "RangeIndex: 40531 entries, 0 to 40530\n",
            "Data columns (total 11 columns):\n",
            " #   Column        Non-Null Count  Dtype \n",
            "---  ------        --------------  ----- \n",
            " 0   Price         40531 non-null  int64 \n",
            " 1   Brand         40531 non-null  object\n",
            " 2   Model         40531 non-null  object\n",
            " 3   Edition       40531 non-null  object\n",
            " 4   Year          40531 non-null  int64 \n",
            " 5   Condition     40531 non-null  object\n",
            " 6   Transmission  40531 non-null  object\n",
            " 7   Body          40531 non-null  object\n",
            " 8   Fuel          40531 non-null  object\n",
            " 9   Capacity      40531 non-null  object\n",
            " 10  Mileage       40531 non-null  int64 \n",
            "dtypes: int64(3), object(8)\n",
            "memory usage: 3.4+ MB\n"
          ]
        }
      ]
    },
    {
      "cell_type": "markdown",
      "source": [
        "brand-edition start"
      ],
      "metadata": {
        "id": "U7VHOHfkGaou"
      }
    },
    {
      "cell_type": "code",
      "source": [
        "print( np.array(pd.unique(carset[['Brand','Edition']].values.ravel('K'))).ndim)\n",
        "\n",
        "df = pd.DataFrame({'Brand' : carset['Brand'],\n",
        "                   'Edition' : carset['Edition']})\n",
        "\n",
        "print(len(df))\n",
        "#df.to_csv('brand_edition.csv')\n",
        "print(len(df.groupby(['Brand','Edition']).first()))\n",
        "#pd.DataFrame(pd.unique(carset[['Brand','Edition']].values.ravel('C')) , columns = ['Brand','Edition'])\n",
        "\n",
        "df.groupby(['Brand','Edition']).first().to_csv(\"car_unique.csv\")"
      ],
      "metadata": {
        "id": "w_zSZGsKGsXx",
        "colab": {
          "base_uri": "https://localhost:8080/"
        },
        "outputId": "ef2c6902-1692-4b4b-c7ee-7e987ccfdcff"
      },
      "execution_count": 123,
      "outputs": [
        {
          "output_type": "stream",
          "name": "stdout",
          "text": [
            "1\n",
            "40531\n",
            "16199\n",
            "None\n"
          ]
        }
      ]
    },
    {
      "cell_type": "markdown",
      "source": [
        "brand edition -end"
      ],
      "metadata": {
        "id": "rmluDcGkGeA9"
      }
    },
    {
      "cell_type": "markdown",
      "source": [
        "capacity"
      ],
      "metadata": {
        "id": "CSyIA30KGhe-"
      }
    },
    {
      "cell_type": "code",
      "source": [
        "carset['Capacity'].unique()"
      ],
      "metadata": {
        "colab": {
          "base_uri": "https://localhost:8080/"
        },
        "id": "5cY_XhpaNsBF",
        "outputId": "7a86281c-458b-46ac-ced6-4e25c1bd1a77"
      },
      "execution_count": 124,
      "outputs": [
        {
          "output_type": "execute_result",
          "data": {
            "text/plain": [
              "array(['1,500 cc', '2,200 cc', '1,200 cc', '2,700 cc', '650 cc',\n",
              "       '1,000 cc', '3,200 cc', '1,905 cc', '1,800 cc', '2,500 cc',\n",
              "       '660 cc', '1,300 cc', '2,143 cc', '2,000 cc', '1,400 cc',\n",
              "       '2,400 cc', '800 cc', '1,490 cc', '1,580 cc', '1,600 cc',\n",
              "       '3,000 cc', '1,190 cc', '5,000 cc', '70 cc', '2,800 cc',\n",
              "       '1,790 cc', '1,330 cc', '2,900 cc', '2,660 cc', '3,500 cc',\n",
              "       '600 cc', '2,755 cc', '2,982 cc', '2,350 cc', '3,900 cc', '240 cc',\n",
              "       '990 cc', '215 cc', '3,300 cc', '2,990 cc', '1,290 cc', '4,200 cc',\n",
              "       '1,850 cc', '1,990 cc', '1,995 cc', '4,600 cc', '1,680 cc',\n",
              "       '1,280 cc', '4,700 cc', '2,690 cc', '1,590 cc', '4,900 cc',\n",
              "       '1,332 cc', '1,350 cc', '2,600 cc', '2,980 cc', '1,998 cc',\n",
              "       '1,450 cc', '2,199 cc', '998 cc', '1,980 cc', '3,800 cc',\n",
              "       '2,148 cc', '1,798 cc', '658 cc', '1,498 cc', '3,490 cc',\n",
              "       '4,160 cc', '3,660 cc', '4,461 cc', '630 cc', '2,494 cc',\n",
              "       '1,499 cc', '4,800 cc', '1,100 cc', '1,750 cc', '1,970 cc',\n",
              "       '1,997 cc', '1,248 cc', '1,598 cc', '2,180 cc', '2,770 cc',\n",
              "       '4,500 cc', '1,339 cc', '3,600 cc', '1,890 cc', '4,000 cc',\n",
              "       '2,956 cc', '1,495 cc', '4,242 cc', '1,950 cc', '6,600 cc',\n",
              "       '1,595 cc', '1,430 cc', '1,390 cc', '954 cc', '950 cc', '2,390 cc',\n",
              "       '1,342 cc', '1,900 cc', '1,496 cc', '4,400 cc', '2,477 cc',\n",
              "       '2,442 cc', '1,197 cc', '4,660 cc', '80 cc', '2,179 cc',\n",
              "       '3,958 cc', '1,240 cc', '1,984 cc', '1,597 cc', '1,589 cc',\n",
              "       '2,447 cc', '1,793 cc', '1,320 cc', '2,950 cc', '2,530 cc',\n",
              "       '2,499 cc', '8,000 cc', '110 cc', '996 cc', '2,696 cc', '1,480 cc',\n",
              "       '1,991 cc', '1,830 cc', '1,303 cc', '6,162 cc', '796 cc',\n",
              "       '2,490 cc', '2,495 cc', '1,780 cc', '4,185 cc', '1,575 cc',\n",
              "       '1,395 cc', '664 cc', '1,340 cc', '2,960 cc', '4,951 cc',\n",
              "       '2,450 cc', '3,498 cc', '1,599 cc', '2,987 cc', '2,765 cc',\n",
              "       '1,323 cc', '1,470 cc', '2,196 cc', '250 cc', '216 cc',\n",
              "       '10,000 cc', '1,468 cc', '1,999 cc', '624 cc', '2,440 cc',\n",
              "       '999 cc', '217 cc', '850 cc', '2,164 cc', '1,792 cc', '1,700 cc',\n",
              "       '1,486 cc', '2,830 cc', '1,349 cc', '205 cc', '1,497 cc',\n",
              "       '1,399 cc', '900 cc', '2,351 cc', '668 cc', '1,360 cc', '2,150 cc',\n",
              "       '2,820 cc', '3,400 cc', '799 cc', '1,449 cc', '1,899 cc',\n",
              "       '1,333 cc', '690 cc', '2,560 cc', '625 cc', '1,796 cc', '880 cc',\n",
              "       '2,300 cc', '1,250 cc', '2,694 cc', '2,986 cc', '3,198 cc',\n",
              "       '1,951 cc', '4,661 cc', '1,650 cc', '1,975 cc', '1,760 cc', '1 cc',\n",
              "       '3,390 cc', '1,555 cc', '4,701 cc', '2,790 cc', '1,005 cc',\n",
              "       '700 cc', '1,920 cc', '1,439 cc', '6,450 cc', '1,328 cc',\n",
              "       '2,553 cc', '6,000 cc', '2,835 cc', '4,640 cc', '2,951 cc',\n",
              "       '100 cc', '1,171 cc', '1,690 cc', '750 cc', '230 cc', '2,771 cc',\n",
              "       '1,359 cc', '1,298 cc', '1,160 cc', '980 cc', '2,237 cc',\n",
              "       '1,799 cc', '1,971 cc', '1,720 cc', '2,850 cc', '1,275 cc',\n",
              "       '2,730 cc', '1,895 cc', '1,193 cc', '2,360 cc', '1,460 cc',\n",
              "       '2,776 cc', '2,190 cc', '1,368 cc', '2,349 cc', '659 cc', '220 cc',\n",
              "       '1,781 cc', '2,488 cc', '2,250 cc', '2,996 cc', '132 cc', '400 cc',\n",
              "       '375 cc', '1,130 cc', '1,199 cc', '1,296 cc', '2,750 cc',\n",
              "       '1,489 cc', '2,489 cc', '3,370 cc', '1,270 cc', '2,498 cc',\n",
              "       '2,953 cc', '2,659 cc', '500 cc', '1,455 cc', '150 cc', '2,253 cc',\n",
              "       '1,587 cc', '2,736 cc', '892 cc', '300 cc', '632 cc', '160 cc',\n",
              "       '1,410 cc', '3,250 cc', '2,100 cc', '1,398 cc', '3,895 cc',\n",
              "       '1,397 cc', '1,230 cc', '1,688 cc', '1,973 cc', '2,198 cc',\n",
              "       '3,150 cc', '145 cc', '2,401 cc', '890 cc', '2,160 cc', '813 cc',\n",
              "       '812 cc', '2,188 cc', '620 cc', '1,988 cc', '2,183 cc', '103 cc',\n",
              "       '1,932 cc', '2,052 cc', '6,500 cc', '997 cc', '2,523 cc',\n",
              "       '1,974 cc', '3,100 cc', '111 cc', '1,295 cc', '1,981 cc',\n",
              "       '2,650 cc', '814 cc', '199 cc', '1,405 cc', '1,341 cc', '40 cc',\n",
              "       '2,995 cc', '1,299 cc', '2,004 cc', '1,408 cc', '2,230 cc',\n",
              "       '2,470 cc', '2,680 cc', '1,476 cc', '1,174 cc', '2 cc', '1,388 cc',\n",
              "       '2,460 cc', '970 cc', '1,493 cc', '948 cc', '1,530 cc', '3,497 cc',\n",
              "       '2,446 cc', '3,310 cc', '3,950 cc', '1,085 cc', '904 cc', '130 cc',\n",
              "       '1,870 cc', '2,972 cc', '2,780 cc', '2,142 cc', '1,166 cc',\n",
              "       '2,456 cc', '6,200 cc', '2,362 cc', '4,360 cc', '1,396 cc',\n",
              "       '640 cc', '1,324 cc', '2,399 cc', '2,340 cc', '90 cc', '1,075 cc',\n",
              "       '2,688 cc', '2,720 cc', '2,880 cc', '1,030 cc', '798 cc',\n",
              "       '1,150 cc', '1,061 cc', '125 cc', '2,380 cc', '2,760 cc',\n",
              "       '1,277 cc', '2,325 cc', '989 cc', '1,420 cc', '3,700 cc',\n",
              "       '4,394 cc', '1,050 cc', '1,797 cc', '3,199 cc', '2,257 cc',\n",
              "       '709 cc', '4,999 cc', '3,240 cc', '3,050 cc', '4 cc', '180 cc',\n",
              "       '2,345 cc', '2,997 cc', '1,509 cc', '4,250 cc', '1,220 cc',\n",
              "       '1,994 cc', '2,970 cc', '2,430 cc', '1,591 cc', '2,459 cc',\n",
              "       '993 cc', '3,153 cc', '2,993 cc', '4,528 cc', '1,370 cc',\n",
              "       '1,317 cc', '1,986 cc', '2,998 cc', '1,594 cc', '2,779 cc',\n",
              "       '4,462 cc', '2,559 cc', '3,456 cc', '1,380 cc', '2,496 cc',\n",
              "       '200 cc', '2,422 cc', '4,460 cc', '550 cc', '3,110 cc', '2,005 cc',\n",
              "       '2,018 cc', '3,590 cc', '3,780 cc', '1,670 cc', '1,550 cc',\n",
              "       '1,605 cc', '1,960 cc', '2,145 cc', '988 cc', '3,956 cc',\n",
              "       '1,265 cc', '2,825 cc', '1,968 cc', '1,714 cc', '76 cc',\n",
              "       '3,070 cc', '1,640 cc', '1,832 cc', '2,550 cc', '1,820 cc',\n",
              "       '1,310 cc', '1,548 cc', '61 cc', '1,471 cc', '2,280 cc',\n",
              "       '2,030 cc', '1,170 cc', '2,570 cc', '2,597 cc', '1,234 cc',\n",
              "       '2,999 cc', '2,140 cc', '5,146 cc', '1,996 cc', '760 cc',\n",
              "       '2,171 cc', '3 cc', '4,199 cc', '1,242 cc', '1,910 cc', '840 cc',\n",
              "       '3,999 cc', '2,238 cc', '1,928 cc', '3,431 cc', '2,497 cc',\n",
              "       '1,987 cc', '6,100 cc', '1,576 cc', '1,452 cc', '1,198 cc',\n",
              "       '1,838 cc', '1,192 cc', '1,825 cc', '2,480 cc', '1,020 cc',\n",
              "       '1,622 cc', '270 cc', '2,429 cc', '1,331 cc', '3,450 cc',\n",
              "       '1,195 cc', '960 cc', '2,525 cc', '858 cc', '3,960 cc', '225 cc',\n",
              "       '649 cc', '3,168 cc', '1,098 cc', '7,000 cc', '451 cc', '155 cc',\n",
              "       '3,794 cc', '2,663 cc', '5,461 cc', '2,393 cc', '670 cc', '669 cc',\n",
              "       '2,775 cc', '665 cc', '698 cc', '2,799 cc', '2,920 cc', '1,794 cc',\n",
              "       '1,620 cc', '2,007 cc', '2,493 cc', '1,897 cc', '2,469 cc',\n",
              "       '680 cc', '1,725 cc', '1,244 cc', '1,048 cc', '15 cc', '2,630 cc',\n",
              "       '85 cc', '2,194 cc', '2,099 cc', '166 cc', '1,948 cc', '1,462 cc',\n",
              "       '185 cc', '2,112 cc', '3,790 cc', '2,979 cc', '346 cc', '2,981 cc',\n",
              "       '2,510 cc', '2,123 cc', '1,880 cc', '190 cc', '3,604 cc',\n",
              "       '1,992 cc', '129 cc', '245 cc', '1,896 cc', '538 cc', '2,189 cc',\n",
              "       '73 cc', '1,294 cc', '1,477 cc', '45 cc'], dtype=object)"
            ]
          },
          "metadata": {},
          "execution_count": 124
        }
      ]
    },
    {
      "cell_type": "markdown",
      "source": [
        "capacity"
      ],
      "metadata": {
        "id": "LoFByEdFH_se"
      }
    }
  ]
}