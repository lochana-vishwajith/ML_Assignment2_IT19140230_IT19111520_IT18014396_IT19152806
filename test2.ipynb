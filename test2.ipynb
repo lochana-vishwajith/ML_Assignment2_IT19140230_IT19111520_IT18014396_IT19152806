{
  "nbformat": 4,
  "nbformat_minor": 0,
  "metadata": {
    "colab": {
      "name": "Untitled1.ipynb",
      "provenance": [],
      "collapsed_sections": [],
      "include_colab_link": true
    },
    "kernelspec": {
      "name": "python3",
      "display_name": "Python 3"
    },
    "language_info": {
      "name": "python"
    }
  },
  "cells": [
    {
      "cell_type": "markdown",
      "metadata": {
        "id": "view-in-github",
        "colab_type": "text"
      },
      "source": [
        "<a href=\"https://colab.research.google.com/github/lochana-vishwajith/ML_Assignment2_IT19140230_IT19111520_IT18014396_IT19152806/blob/Testing/test2.ipynb\" target=\"_parent\"><img src=\"https://colab.research.google.com/assets/colab-badge.svg\" alt=\"Open In Colab\"/></a>"
      ]
    },
    {
      "cell_type": "code",
      "execution_count": null,
      "metadata": {
        "id": "C0S9oZDr7vYd"
      },
      "outputs": [],
      "source": [
        "#importing libraries\n",
        "import pandas as pd\n",
        "import numpy  as np\n",
        "from google.colab import files"
      ]
    },
    {
      "cell_type": "code",
      "source": [
        "#importing datasets\n",
        "carset = pd.read_csv('vehicle_data_initial.csv',low_memory=False)"
      ],
      "metadata": {
        "id": "xaTHbG0-IWPk"
      },
      "execution_count": null,
      "outputs": []
    },
    {
      "cell_type": "code",
      "source": [
        "#checking the dataset\n",
        "carset.head()"
      ],
      "metadata": {
        "colab": {
          "base_uri": "https://localhost:8080/",
          "height": 704
        },
        "id": "PO5NMJYlHBD_",
        "outputId": "394d4acb-fd3f-47df-bb58-502dd840dccb"
      },
      "execution_count": null,
      "outputs": [
        {
          "output_type": "execute_result",
          "data": {
            "text/plain": [
              "                                      Title  \\\n",
              "0         Honda Vezel Limited 2017 for sale   \n",
              "1      Jaguar XF Fully Loaded 2013 for sale   \n",
              "2  Toyota CHR GT New Face 2wd 2020 for sale   \n",
              "3           Toyota CHR Toyato 2017 for sale   \n",
              "4   Toyota Land Cruiser Prado 2015 for sale   \n",
              "\n",
              "                                           Sub_title          Price   Brand  \\\n",
              "0  Posted on 01 Sep 2:45 pm, Kurunegala City, Kur...  Rs 12,900,000   Honda   \n",
              "1  Posted on 28 Sep 10:23 am, Kurunegala City, Ku...  Rs 16,250,000  Jaguar   \n",
              "2       Posted on 16 Sep 1:16 pm, Colombo 7, Colombo  Rs 17,000,000  Toyota   \n",
              "3      Posted on 30 Sep 10:12 am, Colombo 7, Colombo  Rs 13,000,000  Toyota   \n",
              "4        Posted on 30 Sep 9:50 pm, Kelaniya, Gampaha  Rs 33,500,000  Toyota   \n",
              "\n",
              "                Model          Edition  Year Condition Transmission  \\\n",
              "0               Vezel          Limited  2017      Used    Automatic   \n",
              "1                  XF     Fully Loaded  2013      Used    Automatic   \n",
              "2                 CHR  GT New Face 2wd  2020      Used    Automatic   \n",
              "3                 CHR           Toyato  2017      Used    Automatic   \n",
              "4  Land Cruiser Prado            prado  2015      Used    Automatic   \n",
              "\n",
              "        Body    Fuel  Capacity    Mileage                       Location  \\\n",
              "0  SUV / 4x4  Hybrid  1,500 cc  37,000 km   Kurunegala City,  Kurunegala   \n",
              "1     Saloon  Diesel  2,200 cc  42,000 km   Kurunegala City,  Kurunegala   \n",
              "2  SUV / 4x4  Petrol  1,200 cc  15,000 km            Colombo 7,  Colombo   \n",
              "3  SUV / 4x4  Petrol  1,200 cc  21,000 km            Colombo 7,  Colombo   \n",
              "4  SUV / 4x4  Petrol  2,700 cc  57,000 km             Kelaniya,  Gampaha   \n",
              "\n",
              "                                         Description  \\\n",
              "0  HONDA VEZEL LIMITEDCBE-XXXXMANU YEAR : 2017LIM...   \n",
              "1  1st owner(registered owner)Diesel(13-14km per ...   \n",
              "2  2020 Facelift modelFirst owner (No previous ow...   \n",
              "3  Toyota CHR GT Turbo1st owner Imported as a bra...   \n",
              "4  Toyota Land Cruiser Prado 20152 nd Owner for 5...   \n",
              "\n",
              "                                            Post_URL          Seller_name  \\\n",
              "0  https://ikman.lk/en/ad/honda-vezel-limited-201...   Prasad Enterprises   \n",
              "1  https://ikman.lk/en/ad/jaguar-xf-fully-loaded-...  Dhanushka Dharmasri   \n",
              "2  https://ikman.lk/en/ad/toyota-chr-gt-new-face-...        Carzone Lanka   \n",
              "3  https://ikman.lk/en/ad/toyota-chr-toyato-2017-...        Carzone Lanka   \n",
              "4  https://ikman.lk/en/ad/toyota-land-cruiser-pra...   Shine Music Center   \n",
              "\n",
              "      Seller_type       published_date  \n",
              "0  Premium-Member  2022-09-01 14:45:00  \n",
              "1          Member  2022-09-28 10:23:00  \n",
              "2          Member  2022-09-16 13:16:00  \n",
              "3          Member  2022-09-30 10:12:00  \n",
              "4          Member  2022-09-30 21:50:00  "
            ],
            "text/html": [
              "\n",
              "  <div id=\"df-a949dd53-a7e8-4bf8-93f1-e7126bf91fbd\">\n",
              "    <div class=\"colab-df-container\">\n",
              "      <div>\n",
              "<style scoped>\n",
              "    .dataframe tbody tr th:only-of-type {\n",
              "        vertical-align: middle;\n",
              "    }\n",
              "\n",
              "    .dataframe tbody tr th {\n",
              "        vertical-align: top;\n",
              "    }\n",
              "\n",
              "    .dataframe thead th {\n",
              "        text-align: right;\n",
              "    }\n",
              "</style>\n",
              "<table border=\"1\" class=\"dataframe\">\n",
              "  <thead>\n",
              "    <tr style=\"text-align: right;\">\n",
              "      <th></th>\n",
              "      <th>Title</th>\n",
              "      <th>Sub_title</th>\n",
              "      <th>Price</th>\n",
              "      <th>Brand</th>\n",
              "      <th>Model</th>\n",
              "      <th>Edition</th>\n",
              "      <th>Year</th>\n",
              "      <th>Condition</th>\n",
              "      <th>Transmission</th>\n",
              "      <th>Body</th>\n",
              "      <th>Fuel</th>\n",
              "      <th>Capacity</th>\n",
              "      <th>Mileage</th>\n",
              "      <th>Location</th>\n",
              "      <th>Description</th>\n",
              "      <th>Post_URL</th>\n",
              "      <th>Seller_name</th>\n",
              "      <th>Seller_type</th>\n",
              "      <th>published_date</th>\n",
              "    </tr>\n",
              "  </thead>\n",
              "  <tbody>\n",
              "    <tr>\n",
              "      <th>0</th>\n",
              "      <td>Honda Vezel Limited 2017 for sale</td>\n",
              "      <td>Posted on 01 Sep 2:45 pm, Kurunegala City, Kur...</td>\n",
              "      <td>Rs 12,900,000</td>\n",
              "      <td>Honda</td>\n",
              "      <td>Vezel</td>\n",
              "      <td>Limited</td>\n",
              "      <td>2017</td>\n",
              "      <td>Used</td>\n",
              "      <td>Automatic</td>\n",
              "      <td>SUV / 4x4</td>\n",
              "      <td>Hybrid</td>\n",
              "      <td>1,500 cc</td>\n",
              "      <td>37,000 km</td>\n",
              "      <td>Kurunegala City,  Kurunegala</td>\n",
              "      <td>HONDA VEZEL LIMITEDCBE-XXXXMANU YEAR : 2017LIM...</td>\n",
              "      <td>https://ikman.lk/en/ad/honda-vezel-limited-201...</td>\n",
              "      <td>Prasad Enterprises</td>\n",
              "      <td>Premium-Member</td>\n",
              "      <td>2022-09-01 14:45:00</td>\n",
              "    </tr>\n",
              "    <tr>\n",
              "      <th>1</th>\n",
              "      <td>Jaguar XF Fully Loaded 2013 for sale</td>\n",
              "      <td>Posted on 28 Sep 10:23 am, Kurunegala City, Ku...</td>\n",
              "      <td>Rs 16,250,000</td>\n",
              "      <td>Jaguar</td>\n",
              "      <td>XF</td>\n",
              "      <td>Fully Loaded</td>\n",
              "      <td>2013</td>\n",
              "      <td>Used</td>\n",
              "      <td>Automatic</td>\n",
              "      <td>Saloon</td>\n",
              "      <td>Diesel</td>\n",
              "      <td>2,200 cc</td>\n",
              "      <td>42,000 km</td>\n",
              "      <td>Kurunegala City,  Kurunegala</td>\n",
              "      <td>1st owner(registered owner)Diesel(13-14km per ...</td>\n",
              "      <td>https://ikman.lk/en/ad/jaguar-xf-fully-loaded-...</td>\n",
              "      <td>Dhanushka Dharmasri</td>\n",
              "      <td>Member</td>\n",
              "      <td>2022-09-28 10:23:00</td>\n",
              "    </tr>\n",
              "    <tr>\n",
              "      <th>2</th>\n",
              "      <td>Toyota CHR GT New Face 2wd 2020 for sale</td>\n",
              "      <td>Posted on 16 Sep 1:16 pm, Colombo 7, Colombo</td>\n",
              "      <td>Rs 17,000,000</td>\n",
              "      <td>Toyota</td>\n",
              "      <td>CHR</td>\n",
              "      <td>GT New Face 2wd</td>\n",
              "      <td>2020</td>\n",
              "      <td>Used</td>\n",
              "      <td>Automatic</td>\n",
              "      <td>SUV / 4x4</td>\n",
              "      <td>Petrol</td>\n",
              "      <td>1,200 cc</td>\n",
              "      <td>15,000 km</td>\n",
              "      <td>Colombo 7,  Colombo</td>\n",
              "      <td>2020 Facelift modelFirst owner (No previous ow...</td>\n",
              "      <td>https://ikman.lk/en/ad/toyota-chr-gt-new-face-...</td>\n",
              "      <td>Carzone Lanka</td>\n",
              "      <td>Member</td>\n",
              "      <td>2022-09-16 13:16:00</td>\n",
              "    </tr>\n",
              "    <tr>\n",
              "      <th>3</th>\n",
              "      <td>Toyota CHR Toyato 2017 for sale</td>\n",
              "      <td>Posted on 30 Sep 10:12 am, Colombo 7, Colombo</td>\n",
              "      <td>Rs 13,000,000</td>\n",
              "      <td>Toyota</td>\n",
              "      <td>CHR</td>\n",
              "      <td>Toyato</td>\n",
              "      <td>2017</td>\n",
              "      <td>Used</td>\n",
              "      <td>Automatic</td>\n",
              "      <td>SUV / 4x4</td>\n",
              "      <td>Petrol</td>\n",
              "      <td>1,200 cc</td>\n",
              "      <td>21,000 km</td>\n",
              "      <td>Colombo 7,  Colombo</td>\n",
              "      <td>Toyota CHR GT Turbo1st owner Imported as a bra...</td>\n",
              "      <td>https://ikman.lk/en/ad/toyota-chr-toyato-2017-...</td>\n",
              "      <td>Carzone Lanka</td>\n",
              "      <td>Member</td>\n",
              "      <td>2022-09-30 10:12:00</td>\n",
              "    </tr>\n",
              "    <tr>\n",
              "      <th>4</th>\n",
              "      <td>Toyota Land Cruiser Prado 2015 for sale</td>\n",
              "      <td>Posted on 30 Sep 9:50 pm, Kelaniya, Gampaha</td>\n",
              "      <td>Rs 33,500,000</td>\n",
              "      <td>Toyota</td>\n",
              "      <td>Land Cruiser Prado</td>\n",
              "      <td>prado</td>\n",
              "      <td>2015</td>\n",
              "      <td>Used</td>\n",
              "      <td>Automatic</td>\n",
              "      <td>SUV / 4x4</td>\n",
              "      <td>Petrol</td>\n",
              "      <td>2,700 cc</td>\n",
              "      <td>57,000 km</td>\n",
              "      <td>Kelaniya,  Gampaha</td>\n",
              "      <td>Toyota Land Cruiser Prado 20152 nd Owner for 5...</td>\n",
              "      <td>https://ikman.lk/en/ad/toyota-land-cruiser-pra...</td>\n",
              "      <td>Shine Music Center</td>\n",
              "      <td>Member</td>\n",
              "      <td>2022-09-30 21:50:00</td>\n",
              "    </tr>\n",
              "  </tbody>\n",
              "</table>\n",
              "</div>\n",
              "      <button class=\"colab-df-convert\" onclick=\"convertToInteractive('df-a949dd53-a7e8-4bf8-93f1-e7126bf91fbd')\"\n",
              "              title=\"Convert this dataframe to an interactive table.\"\n",
              "              style=\"display:none;\">\n",
              "        \n",
              "  <svg xmlns=\"http://www.w3.org/2000/svg\" height=\"24px\"viewBox=\"0 0 24 24\"\n",
              "       width=\"24px\">\n",
              "    <path d=\"M0 0h24v24H0V0z\" fill=\"none\"/>\n",
              "    <path d=\"M18.56 5.44l.94 2.06.94-2.06 2.06-.94-2.06-.94-.94-2.06-.94 2.06-2.06.94zm-11 1L8.5 8.5l.94-2.06 2.06-.94-2.06-.94L8.5 2.5l-.94 2.06-2.06.94zm10 10l.94 2.06.94-2.06 2.06-.94-2.06-.94-.94-2.06-.94 2.06-2.06.94z\"/><path d=\"M17.41 7.96l-1.37-1.37c-.4-.4-.92-.59-1.43-.59-.52 0-1.04.2-1.43.59L10.3 9.45l-7.72 7.72c-.78.78-.78 2.05 0 2.83L4 21.41c.39.39.9.59 1.41.59.51 0 1.02-.2 1.41-.59l7.78-7.78 2.81-2.81c.8-.78.8-2.07 0-2.86zM5.41 20L4 18.59l7.72-7.72 1.47 1.35L5.41 20z\"/>\n",
              "  </svg>\n",
              "      </button>\n",
              "      \n",
              "  <style>\n",
              "    .colab-df-container {\n",
              "      display:flex;\n",
              "      flex-wrap:wrap;\n",
              "      gap: 12px;\n",
              "    }\n",
              "\n",
              "    .colab-df-convert {\n",
              "      background-color: #E8F0FE;\n",
              "      border: none;\n",
              "      border-radius: 50%;\n",
              "      cursor: pointer;\n",
              "      display: none;\n",
              "      fill: #1967D2;\n",
              "      height: 32px;\n",
              "      padding: 0 0 0 0;\n",
              "      width: 32px;\n",
              "    }\n",
              "\n",
              "    .colab-df-convert:hover {\n",
              "      background-color: #E2EBFA;\n",
              "      box-shadow: 0px 1px 2px rgba(60, 64, 67, 0.3), 0px 1px 3px 1px rgba(60, 64, 67, 0.15);\n",
              "      fill: #174EA6;\n",
              "    }\n",
              "\n",
              "    [theme=dark] .colab-df-convert {\n",
              "      background-color: #3B4455;\n",
              "      fill: #D2E3FC;\n",
              "    }\n",
              "\n",
              "    [theme=dark] .colab-df-convert:hover {\n",
              "      background-color: #434B5C;\n",
              "      box-shadow: 0px 1px 3px 1px rgba(0, 0, 0, 0.15);\n",
              "      filter: drop-shadow(0px 1px 2px rgba(0, 0, 0, 0.3));\n",
              "      fill: #FFFFFF;\n",
              "    }\n",
              "  </style>\n",
              "\n",
              "      <script>\n",
              "        const buttonEl =\n",
              "          document.querySelector('#df-a949dd53-a7e8-4bf8-93f1-e7126bf91fbd button.colab-df-convert');\n",
              "        buttonEl.style.display =\n",
              "          google.colab.kernel.accessAllowed ? 'block' : 'none';\n",
              "\n",
              "        async function convertToInteractive(key) {\n",
              "          const element = document.querySelector('#df-a949dd53-a7e8-4bf8-93f1-e7126bf91fbd');\n",
              "          const dataTable =\n",
              "            await google.colab.kernel.invokeFunction('convertToInteractive',\n",
              "                                                     [key], {});\n",
              "          if (!dataTable) return;\n",
              "\n",
              "          const docLinkHtml = 'Like what you see? Visit the ' +\n",
              "            '<a target=\"_blank\" href=https://colab.research.google.com/notebooks/data_table.ipynb>data table notebook</a>'\n",
              "            + ' to learn more about interactive tables.';\n",
              "          element.innerHTML = '';\n",
              "          dataTable['output_type'] = 'display_data';\n",
              "          await google.colab.output.renderOutput(dataTable, element);\n",
              "          const docLink = document.createElement('div');\n",
              "          docLink.innerHTML = docLinkHtml;\n",
              "          element.appendChild(docLink);\n",
              "        }\n",
              "      </script>\n",
              "    </div>\n",
              "  </div>\n",
              "  "
            ]
          },
          "metadata": {},
          "execution_count": 41
        }
      ]
    },
    {
      "cell_type": "code",
      "source": [
        "#checking the info of the datset\n",
        "carset.info()"
      ],
      "metadata": {
        "colab": {
          "base_uri": "https://localhost:8080/"
        },
        "id": "t_HiDYBZk_Is",
        "outputId": "e394afd9-aa0c-4626-f8ca-ec32b226f7f0"
      },
      "execution_count": null,
      "outputs": [
        {
          "output_type": "stream",
          "name": "stdout",
          "text": [
            "<class 'pandas.core.frame.DataFrame'>\n",
            "RangeIndex: 123971 entries, 0 to 123970\n",
            "Data columns (total 19 columns):\n",
            " #   Column          Non-Null Count   Dtype \n",
            "---  ------          --------------   ----- \n",
            " 0   Title           123971 non-null  object\n",
            " 1   Sub_title       123971 non-null  object\n",
            " 2   Price           123971 non-null  object\n",
            " 3   Brand           123971 non-null  object\n",
            " 4   Model           123970 non-null  object\n",
            " 5   Edition         47538 non-null   object\n",
            " 6   Year            123971 non-null  int64 \n",
            " 7   Condition       123971 non-null  object\n",
            " 8   Transmission    123970 non-null  object\n",
            " 9   Body            118876 non-null  object\n",
            " 10  Fuel            123971 non-null  object\n",
            " 11  Capacity        123766 non-null  object\n",
            " 12  Mileage         123971 non-null  object\n",
            " 13  Location        123971 non-null  object\n",
            " 14  Description     107797 non-null  object\n",
            " 15  Post_URL        123971 non-null  object\n",
            " 16  Seller_name     123873 non-null  object\n",
            " 17  Seller_type     123971 non-null  object\n",
            " 18  published_date  123971 non-null  object\n",
            "dtypes: int64(1), object(18)\n",
            "memory usage: 18.0+ MB\n"
          ]
        }
      ]
    },
    {
      "cell_type": "code",
      "source": [
        "#identifying null and missing values\n",
        "carset.isna().sum()"
      ],
      "metadata": {
        "colab": {
          "base_uri": "https://localhost:8080/"
        },
        "id": "w8I0cIR-lPgb",
        "outputId": "38d9459c-f62f-4366-9a5f-0ad5ffde0201"
      },
      "execution_count": null,
      "outputs": [
        {
          "output_type": "execute_result",
          "data": {
            "text/plain": [
              "Title                 0\n",
              "Sub_title             0\n",
              "Price                 0\n",
              "Brand                 0\n",
              "Model                 1\n",
              "Edition           76433\n",
              "Year                  0\n",
              "Condition             0\n",
              "Transmission          1\n",
              "Body               5095\n",
              "Fuel                  0\n",
              "Capacity            205\n",
              "Mileage               0\n",
              "Location              0\n",
              "Description       16174\n",
              "Post_URL              0\n",
              "Seller_name          98\n",
              "Seller_type           0\n",
              "published_date        0\n",
              "dtype: int64"
            ]
          },
          "metadata": {},
          "execution_count": 43
        }
      ]
    },
    {
      "cell_type": "code",
      "source": [
        "#graphical representation of the null values according to the different columns\n",
        "\n",
        "carset.isna().sum().reset_index(name=\"n\").plot.bar(x='index', y='n', rot=45)\n",
        "\n"
      ],
      "metadata": {
        "colab": {
          "base_uri": "https://localhost:8080/",
          "height": 351
        },
        "id": "eILb67Iplmwe",
        "outputId": "5e7c8ad9-0940-4efb-80d8-35c6adaba1b3"
      },
      "execution_count": null,
      "outputs": [
        {
          "output_type": "execute_result",
          "data": {
            "text/plain": [
              "<matplotlib.axes._subplots.AxesSubplot at 0x7f7d5cd7ae90>"
            ]
          },
          "metadata": {},
          "execution_count": 44
        },
        {
          "output_type": "display_data",
          "data": {
            "text/plain": [
              "<Figure size 432x288 with 1 Axes>"
            ],
            "image/png": "[encoded data removed]"
          },
          "metadata": {
            "needs_background": "light"
          }
        }
      ]
    },
    {
      "cell_type": "markdown",
      "source": [
        "Featuring and the Preprocessing stages"
      ],
      "metadata": {
        "id": "-Hub7pPpmi91"
      }
    },
    {
      "cell_type": "code",
      "source": [
        "carset['Title'].unique()"
      ],
      "metadata": {
        "colab": {
          "base_uri": "https://localhost:8080/"
        },
        "id": "ymlAIPY4mdVw",
        "outputId": "a9d6437b-016b-4d18-83ee-3cf2940d54ba"
      },
      "execution_count": null,
      "outputs": [
        {
          "output_type": "execute_result",
          "data": {
            "text/plain": [
              "array(['Honda Vezel Limited 2017 for sale',\n",
              "       'Jaguar XF Fully Loaded 2013 for sale',\n",
              "       'Toyota CHR GT New Face 2wd 2020 for sale', ...,\n",
              "       'Mercedes-Benz C200 Kompressor W204 2007', 'Hyundai I 20 2010',\n",
              "       'HINO Dutro 2011 Lorry'], dtype=object)"
            ]
          },
          "metadata": {},
          "execution_count": 45
        }
      ]
    },
    {
      "cell_type": "code",
      "source": [
        "carset['Sub_title'].unique()"
      ],
      "metadata": {
        "colab": {
          "base_uri": "https://localhost:8080/"
        },
        "id": "3mVisnXHPw9e",
        "outputId": "b0a29087-6cad-4942-9fa9-8c3c94c28b5e"
      },
      "execution_count": null,
      "outputs": [
        {
          "output_type": "execute_result",
          "data": {
            "text/plain": [
              "array(['Posted on 01 Sep 2:45 pm, Kurunegala City, Kurunegala',\n",
              "       'Posted on 28 Sep 10:23 am, Kurunegala City, Kurunegala',\n",
              "       'Posted on 16 Sep 1:16 pm, Colombo 7, Colombo', ...,\n",
              "       'Posted by Sampath Kodithuwakku on 2021-11-04 11:38 pm, Tangalle',\n",
              "       'Posted by Seller on 2021-11-04 11:37 pm, Kandy',\n",
              "       'Posted by Anura on 2021-11-04 11:37 pm, Kandy'], dtype=object)"
            ]
          },
          "metadata": {},
          "execution_count": 46
        }
      ]
    },
    {
      "cell_type": "code",
      "source": [
        "carset['Edition'].unique()"
      ],
      "metadata": {
        "colab": {
          "base_uri": "https://localhost:8080/"
        },
        "id": "eoMvlBl9m0d3",
        "outputId": "1e55fbe3-c632-40d8-cd6d-58da180435c1"
      },
      "execution_count": null,
      "outputs": [
        {
          "output_type": "execute_result",
          "data": {
            "text/plain": [
              "array(['Limited', 'Fully Loaded', 'GT New Face 2wd', ..., 'Scp10',\n",
              "       'Grade 2016', 'G -TURBO'], dtype=object)"
            ]
          },
          "metadata": {},
          "execution_count": 47
        }
      ]
    },
    {
      "cell_type": "markdown",
      "source": [
        "The columns\"Title\",\"Sub_title\",\"Edition\",\"Location\",\"Description\"\"Post_URL\",\"Seller_name\",\"Seller_type\"and \"published_date\" can be taken out since those values doesnt represent affect for the price fluctuations.\n",
        "\n",
        "\n",
        "we can see that the edition column has of noisy data and null values also we can derrive that edition column will have different buisness ambguity as well\n",
        "\n",
        "According to the metaset of data the published date is only evolves through the 2021 year so there is no buines valuw in adding it.\n",
        "\n",
        "similarly \"Location\",\"Description\"\"Post_URL\",\"Seller_name\",\"Seller_type\" has no buisness value on it.\n",
        "\n",
        "we can represent \"title\" and \"sub_title\" using the brand and model column so no buisness impact on there too\n",
        "\n"
      ],
      "metadata": {
        "id": "1V6FkF59muaA"
      }
    },
    {
      "cell_type": "code",
      "source": [
        "#lets drop columns without impact\n",
        "carset.drop([\"Title\",\"Sub_title\",\"Edition\",\"Location\",\"Description\",\"Post_URL\",\"Seller_name\",\"Seller_type\",\"published_date\"], axis=1, inplace=True)"
      ],
      "metadata": {
        "id": "uFmG4C7uNozw"
      },
      "execution_count": null,
      "outputs": []
    },
    {
      "cell_type": "code",
      "source": [
        "carset.info()"
      ],
      "metadata": {
        "id": "asedh5-gOwhT",
        "colab": {
          "base_uri": "https://localhost:8080/"
        },
        "outputId": "76ca1e3c-d724-43bb-c333-5cd678ae0c6b"
      },
      "execution_count": null,
      "outputs": [
        {
          "output_type": "stream",
          "name": "stdout",
          "text": [
            "<class 'pandas.core.frame.DataFrame'>\n",
            "RangeIndex: 123971 entries, 0 to 123970\n",
            "Data columns (total 10 columns):\n",
            " #   Column        Non-Null Count   Dtype \n",
            "---  ------        --------------   ----- \n",
            " 0   Price         123971 non-null  object\n",
            " 1   Brand         123971 non-null  object\n",
            " 2   Model         123970 non-null  object\n",
            " 3   Year          123971 non-null  int64 \n",
            " 4   Condition     123971 non-null  object\n",
            " 5   Transmission  123970 non-null  object\n",
            " 6   Body          118876 non-null  object\n",
            " 7   Fuel          123971 non-null  object\n",
            " 8   Capacity      123766 non-null  object\n",
            " 9   Mileage       123971 non-null  object\n",
            "dtypes: int64(1), object(9)\n",
            "memory usage: 9.5+ MB\n"
          ]
        }
      ]
    },
    {
      "cell_type": "markdown",
      "source": [
        "Initially we need to remove the null values from the dataset since we dont have any suggested options for the body type and also it will lost (5095/123971) =0.041 =>4.1% so we can remove it.\n",
        "also the capacity and the transmission two has very low number of data on them with null values we can simply delete them since we are not go  for a assumed data type (such as mediun or mode)as these are categorical values and it doesnt change much.\n",
        "so we are dropping all the rows with null values in here."
      ],
      "metadata": {
        "id": "XZ_cftQJqC1V"
      }
    },
    {
      "cell_type": "code",
      "source": [
        "carset = carset.dropna();"
      ],
      "metadata": {
        "id": "x_MNEQCpr3i3"
      },
      "execution_count": null,
      "outputs": []
    },
    {
      "cell_type": "code",
      "source": [
        "#checking infor()\n",
        "carset.info()"
      ],
      "metadata": {
        "colab": {
          "base_uri": "https://localhost:8080/"
        },
        "id": "26C3ez7_sUUf",
        "outputId": "5da894f0-f35e-488c-d956-31978d88e644"
      },
      "execution_count": null,
      "outputs": [
        {
          "output_type": "stream",
          "name": "stdout",
          "text": [
            "<class 'pandas.core.frame.DataFrame'>\n",
            "Int64Index: 118669 entries, 0 to 123970\n",
            "Data columns (total 10 columns):\n",
            " #   Column        Non-Null Count   Dtype \n",
            "---  ------        --------------   ----- \n",
            " 0   Price         118669 non-null  object\n",
            " 1   Brand         118669 non-null  object\n",
            " 2   Model         118669 non-null  object\n",
            " 3   Year          118669 non-null  int64 \n",
            " 4   Condition     118669 non-null  object\n",
            " 5   Transmission  118669 non-null  object\n",
            " 6   Body          118669 non-null  object\n",
            " 7   Fuel          118669 non-null  object\n",
            " 8   Capacity      118669 non-null  object\n",
            " 9   Mileage       118669 non-null  object\n",
            "dtypes: int64(1), object(9)\n",
            "memory usage: 10.0+ MB\n"
          ]
        }
      ]
    },
    {
      "cell_type": "markdown",
      "source": [
        "now we have 9 columns and  118669 data points  with one integer base column but we can see that price, milage and the capacity are quantitative and not categorical variable so that we need to convert them to the integer format."
      ],
      "metadata": {
        "id": "w8ENmuXapMfc"
      }
    },
    {
      "cell_type": "markdown",
      "source": [
        "Price"
      ],
      "metadata": {
        "id": "-I7Q3Dh3s2tJ"
      }
    },
    {
      "cell_type": "code",
      "source": [
        "#checking the unique price values\n",
        "carset['Price'].unique()"
      ],
      "metadata": {
        "colab": {
          "base_uri": "https://localhost:8080/"
        },
        "id": "yOpez_zstyUh",
        "outputId": "37ff9813-96a3-4e16-a9da-6459cbfefdc9"
      },
      "execution_count": null,
      "outputs": [
        {
          "output_type": "execute_result",
          "data": {
            "text/plain": [
              "array(['Rs 12,900,000', 'Rs 16,250,000', 'Rs 17,000,000', ...,\n",
              "       ' Rs. 93,500', ' Rs. 150,000,000', ' Rs. 1,525,700'], dtype=object)"
            ]
          },
          "metadata": {},
          "execution_count": 52
        }
      ]
    },
    {
      "cell_type": "code",
      "source": [
        "# removing Rs from the price tags and set it into the integer type\n",
        "carset['Price'] = carset['Price'].str.replace('Rs','')"
      ],
      "metadata": {
        "id": "NsgYE48CtDrC"
      },
      "execution_count": null,
      "outputs": []
    },
    {
      "cell_type": "code",
      "source": [
        "# removing Rs from the price tags and set it into the integer type\n",
        "carset['Price'] = carset['Price'].str.replace('.','')"
      ],
      "metadata": {
        "colab": {
          "base_uri": "https://localhost:8080/"
        },
        "id": "0qaEAJ1zpMKr",
        "outputId": "b38a742c-f92d-4094-fa1d-788a7dd227ef"
      },
      "execution_count": null,
      "outputs": [
        {
          "output_type": "stream",
          "name": "stderr",
          "text": [
            "/usr/local/lib/python3.7/dist-packages/ipykernel_launcher.py:2: FutureWarning: The default value of regex will change from True to False in a future version. In addition, single character regular expressions will *not* be treated as literal strings when regex=True.\n",
            "  \n"
          ]
        }
      ]
    },
    {
      "cell_type": "code",
      "source": [
        "carset['Price'] = carset['Price'].str.replace(' ','')"
      ],
      "metadata": {
        "id": "4SM1NjvruWNy"
      },
      "execution_count": null,
      "outputs": []
    },
    {
      "cell_type": "code",
      "source": [
        "carset['Price'] = carset['Price'].str.replace(',','')"
      ],
      "metadata": {
        "id": "AtBRMfChwngY"
      },
      "execution_count": null,
      "outputs": []
    },
    {
      "cell_type": "code",
      "source": [
        "# removing the Negotiables from price column\n",
        "carset = carset[carset['Price'] != 'Negotiable']"
      ],
      "metadata": {
        "id": "v6aQAeWKugoL"
      },
      "execution_count": null,
      "outputs": []
    },
    {
      "cell_type": "code",
      "source": [
        "carset['Price'] = carset['Price'].astype(int)"
      ],
      "metadata": {
        "id": "UvetxkqPvumL"
      },
      "execution_count": null,
      "outputs": []
    },
    {
      "cell_type": "markdown",
      "source": [
        "Brand"
      ],
      "metadata": {
        "id": "fe5_ozt7ulWq"
      }
    },
    {
      "cell_type": "code",
      "source": [
        "carset['Brand'].unique()"
      ],
      "metadata": {
        "colab": {
          "base_uri": "https://localhost:8080/"
        },
        "id": "AHSx6i8SwIR2",
        "outputId": "36d24da0-b842-46bc-e62d-7147499c2c7e"
      },
      "execution_count": null,
      "outputs": [
        {
          "output_type": "execute_result",
          "data": {
            "text/plain": [
              "array(['Honda', 'Jaguar', 'Toyota', 'Suzuki', 'MG', 'Mitsubishi',\n",
              "       'Peugeot', 'Mercedes Benz', 'Mazda', 'Land Rover', 'BMW',\n",
              "       'Hyundai', 'Micro', 'Audi', 'Daihatsu', 'Nissan', 'Lexus', 'Kia',\n",
              "       'Perodua', 'Ford', 'Chery', 'Tata', 'Renault', 'Aston Martin',\n",
              "       'Chevrolet', 'Other brand', 'Subaru', 'Alfa Romeo', 'Zotye',\n",
              "       'DFSK', 'Mahindra', 'Skoda', 'Volkswagen', 'Maruti Suzuki', 'Jeep',\n",
              "       'Ssang Yong', 'Hummer', 'Datsun', 'Tesla', 'Mini', 'Isuzu', 'Fiat',\n",
              "       'Porsche', 'Morris', 'Austin', 'Opel', 'Daewoo', 'Proton', 'Volvo',\n",
              "       'Rover', 'Chrysler', 'Maruti', 'Geely', 'Citroen', 'Smart',\n",
              "       'Moto Guzzi', 'Vauxhall', 'Pontiac', 'SEAT', 'Buick', 'TVS',\n",
              "       'Hero', 'Mercedes-Benz', 'Bajaj', 'Piaggio', 'Yamaha', 'Other',\n",
              "       'JAC', 'FAW', 'Komatsu', 'Kubota', 'Eicher', 'Massey-Ferguson',\n",
              "       'Changan', 'Ranomoto', 'Force', 'Demak', 'Hero-Honda', 'Sonalika',\n",
              "       'Foton', 'Ashok-Leyland', 'Kinetic', 'Yanmar', 'Kobelco', 'Loncin',\n",
              "       'Singer', 'HINO', 'New-Holland', 'Ceygra', 'Aprilia', 'Land-Rover',\n",
              "       'TAFE', 'Sakai', 'Daido', 'JiaLing', 'Kawasaki', 'Ssangyong',\n",
              "       'John-Deere', 'Hillman', 'Yuejin', 'Minnelli', 'JCB', 'Hitachi',\n",
              "       'KTM', 'CAT', 'JMC', 'Range-Rover', 'Vespa', 'Higer', 'Acura',\n",
              "       'Powertrac', 'Atco', 'Willys', 'Aston', 'Swaraj', 'Cal',\n",
              "       'Zongshen', 'Iveco', 'Triumph', 'Alfa-Romeo', 'KMC', 'Bentley',\n",
              "       'Rolls-Royce'], dtype=object)"
            ]
          },
          "metadata": {},
          "execution_count": 61
        }
      ]
    },
    {
      "cell_type": "code",
      "source": [
        "# removing the other brand from dataset\n",
        "carset = carset[carset['Brand'] != 'Other brand']"
      ],
      "metadata": {
        "id": "E4vZDO4cwCET"
      },
      "execution_count": null,
      "outputs": []
    },
    {
      "cell_type": "markdown",
      "source": [
        "Model"
      ],
      "metadata": {
        "id": "kAh7fiugxF0d"
      }
    },
    {
      "cell_type": "code",
      "source": [
        "carset['Model'].unique()"
      ],
      "metadata": {
        "colab": {
          "base_uri": "https://localhost:8080/"
        },
        "id": "2Q7VOeL7xLWd",
        "outputId": "5941c2ae-8080-4d1e-e40c-fb813ddd4cb6"
      },
      "execution_count": null,
      "outputs": [
        {
          "output_type": "execute_result",
          "data": {
            "text/plain": [
              "array(['Vezel', 'XF', 'CHR', ..., 'Md', 'C200 Kompressor W204', 'I 20'],\n",
              "      dtype=object)"
            ]
          },
          "metadata": {},
          "execution_count": 64
        }
      ]
    },
    {
      "cell_type": "code",
      "source": [
        "#Removing other models from the Model column\n",
        "carset =carset[carset['Model'] != 'Other model']"
      ],
      "metadata": {
        "id": "qAK0xq1cw9m3"
      },
      "execution_count": null,
      "outputs": []
    },
    {
      "cell_type": "markdown",
      "source": [
        "Transmission"
      ],
      "metadata": {
        "id": "MqLC2ey9xvX4"
      }
    },
    {
      "cell_type": "code",
      "source": [
        "carset['Transmission'].unique()"
      ],
      "metadata": {
        "colab": {
          "base_uri": "https://localhost:8080/"
        },
        "id": "B7DY1De-xlgR",
        "outputId": "1cd4cffb-f0c0-47f2-ab06-7a9ff2ca6972"
      },
      "execution_count": null,
      "outputs": [
        {
          "output_type": "execute_result",
          "data": {
            "text/plain": [
              "array(['Automatic', 'Manual', 'Tiptronic', 'Other transmission', '2001',\n",
              "       '11', '0', '1490', '444444444', '450', '205', '1200', '50', '175',\n",
              "       '1500', '150', '650'], dtype=object)"
            ]
          },
          "metadata": {},
          "execution_count": 65
        }
      ]
    }
  ]
}